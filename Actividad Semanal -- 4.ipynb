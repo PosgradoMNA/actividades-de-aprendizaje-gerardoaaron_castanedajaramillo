{
  "nbformat": 4,
  "nbformat_minor": 0,
  "metadata": {
    "colab": {
      "name": "assignment01.ipynb",
      "provenance": [],
      "include_colab_link": true
    },
    "kernelspec": {
      "name": "python3",
      "display_name": "Python 3"
    },
    "language_info": {
      "name": "python"
    }
  },
  "cells": [
    {
      "cell_type": "markdown",
      "metadata": {
        "id": "view-in-github",
        "colab_type": "text"
      },
      "source": [
        "<a href=\"https://colab.research.google.com/github/PosgradoMNA/actividades-de-aprendizaje-gerardoaaron_castanedajaramillo/blob/main/Actividad%20Semanal%20--%204.ipynb\" target=\"_parent\"><img src=\"https://colab.research.google.com/assets/colab-badge.svg\" alt=\"Open In Colab\"/></a>"
      ]
    },
    {
      "cell_type": "markdown",
      "source": [
        "> # **Actividad Semanal -- 4**\n",
        ">## **Maestría en Inteligencia Artificial Aplicada**\n",
        ">### **Curso: TC4029.10 Ciencia y analítica de datos (Gpo 10)**\n",
        ">## **Tecnológico de Monterrey**\n",
        ">## **Prof: Jobish Vallikavungal Devassia**\n",
        "\n",
        "\n",
        "\n",
        "\n",
        "### **Gerardo Aaron Castañeda Jaramillo  -  Matrícula A01137646**\n",
        "### **5 de octubre del 2022**"
      ],
      "metadata": {
        "id": "N3oTf365bKNg"
      }
    },
    {
      "cell_type": "code",
      "source": [],
      "metadata": {
        "id": "mxM_WppZPMFx"
      },
      "execution_count": null,
      "outputs": []
    }
  ]
}