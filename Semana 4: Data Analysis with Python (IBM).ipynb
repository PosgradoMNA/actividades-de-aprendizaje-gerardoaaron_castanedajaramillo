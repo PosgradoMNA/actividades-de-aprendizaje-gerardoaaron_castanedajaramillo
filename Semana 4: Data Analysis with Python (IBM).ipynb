{
  "nbformat": 4,
  "nbformat_minor": 0,
  "metadata": {
    "colab": {
      "name": "assignment01.ipynb",
      "provenance": [],
      "include_colab_link": true
    },
    "kernelspec": {
      "name": "python3",
      "display_name": "Python 3"
    },
    "language_info": {
      "name": "python"
    }
  },
  "cells": [
    {
      "cell_type": "markdown",
      "metadata": {
        "id": "view-in-github",
        "colab_type": "text"
      },
      "source": [
        "<a href=\"https://colab.research.google.com/github/PosgradoMNA/actividades-de-aprendizaje-gerardoaaron_castanedajaramillo/blob/main/Semana%204%3A%20Data%20Analysis%20with%20Python%20(IBM).ipynb\" target=\"_parent\"><img src=\"https://colab.research.google.com/assets/colab-badge.svg\" alt=\"Open In Colab\"/></a>"
      ]
    },
    {
      "cell_type": "markdown",
      "source": [
        "**Gerardo Aaron Castañeda Jaramillo - A01137646**\n"
      ],
      "metadata": {
        "id": "GlXOQoEhuCBs"
      }
    },
    {
      "cell_type": "markdown",
      "source": [
        "# **Semana 4: Data Analysis with Python (IBM)**"
      ],
      "metadata": {
        "id": "EsReGp2_0-_r"
      }
    },
    {
      "cell_type": "markdown",
      "source": [
        "## **Modulo 1**"
      ],
      "metadata": {
        "id": "f1Oo5s2p2e-i"
      }
    },
    {
      "cell_type": "markdown",
      "source": [],
      "metadata": {
        "id": "rma0uwZGQOAP"
      }
    }
  ]
}