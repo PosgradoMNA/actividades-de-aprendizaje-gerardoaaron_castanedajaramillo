{
  "nbformat": 4,
  "nbformat_minor": 0,
  "metadata": {
    "kernelspec": {
      "display_name": "Python 3",
      "language": "python",
      "name": "python3"
    },
    "language_info": {
      "codemirror_mode": {
        "name": "ipython",
        "version": 3
      },
      "file_extension": ".py",
      "mimetype": "text/x-python",
      "name": "python",
      "nbconvert_exporter": "python",
      "pygments_lexer": "ipython3",
      "version": "3.7.7"
    },
    "colab": {
      "provenance": [],
      "include_colab_link": true
    },
    "accelerator": "GPU"
  },
  "cells": [
    {
      "cell_type": "markdown",
      "metadata": {
        "id": "view-in-github",
        "colab_type": "text"
      },
      "source": [
        "<a href=\"https://colab.research.google.com/github/PosgradoMNA/actividades-de-aprendizaje-gerardoaaron_castanedajaramillo/blob/main/Actividad%20Semanal%20--%207%20Regresiones.ipynb\" target=\"_parent\"><img src=\"https://colab.research.google.com/assets/colab-badge.svg\" alt=\"Open In Colab\"/></a>"
      ]
    },
    {
      "cell_type": "markdown",
      "metadata": {
        "id": "WUO-kdryVQwK"
      },
      "source": [
        "# Linear Models\n"
      ]
    },
    {
      "cell_type": "code",
      "source": [],
      "metadata": {
        "id": "Msm89naSzi21"
      },
      "execution_count": null,
      "outputs": []
    },
    {
      "cell_type": "markdown",
      "metadata": {
        "id": "u3ytB4LpVQwM"
      },
      "source": [
        "- In supervised learning, the training data fed to the algorithm includes the desired solutions, called labels. \n",
        "- In **regression**, the labels are continuous quantities.\n",
        "- Linear models predict by computing a weighted sum of input features plus a bias term."
      ]
    },
    {
      "cell_type": "code",
      "metadata": {
        "id": "HMp_I4Y6VQwN"
      },
      "source": [
        "import numpy as np\n",
        "%matplotlib inline\n",
        "import matplotlib\n",
        "import matplotlib.pyplot as plt\n",
        "import pandas as pd\n",
        "import seaborn as sns\n",
        "# to make this notebook's output stable across runs\n",
        "np.random.seed(42)"
      ],
      "execution_count": 1,
      "outputs": []
    },
    {
      "cell_type": "markdown",
      "metadata": {
        "id": "nTKFj4x9LMXm"
      },
      "source": [
        "# Ejercicio 1\n",
        "\n",
        "Utiliza la base de datos de \n",
        "https://www.kaggle.com/vinicius150987/manufacturing-cost\n",
        "\n",
        "Suponga que trabaja como consultor de una empresa de nueva creación que busca desarrollar un modelo para estimar el costo de los bienes vendidos a medida que varían el volumen de producción (número de unidades producidas). La startup recopiló datos y le pidió que desarrollara un modelo para predecir su costo frente a la cantidad de unidades vendidas."
      ]
    },
    {
      "cell_type": "code",
      "metadata": {
        "colab": {
          "base_uri": "https://localhost:8080/",
          "height": 363
        },
        "id": "oTnErQOkL3oa",
        "outputId": "dd9d4bde-8cde-4652-c848-fd4ab4b8f38d"
      },
      "source": [
        "import pandas as pd\n",
        "df = pd.read_csv('https://raw.githubusercontent.com/marypazrf/bdd/main/EconomiesOfScale.csv')\n",
        "df.sample(10)"
      ],
      "execution_count": 126,
      "outputs": [
        {
          "output_type": "execute_result",
          "data": {
            "text/plain": [
              "     Number of Units  Manufacturing Cost\n",
              "487         4.399514           37.567914\n",
              "906         6.193682           33.355932\n",
              "470         4.325755           38.136724\n",
              "93          2.756427           46.838555\n",
              "332         3.925889           35.303587\n",
              "565         4.645377           38.367271\n",
              "735         5.283807           28.928129\n",
              "807         5.563938           30.078892\n",
              "392         4.117804           29.964328\n",
              "100         2.769290           51.463569"
            ],
            "text/html": [
              "\n",
              "  <div id=\"df-08367229-b3d0-4b66-a7c1-23bbde07aab6\">\n",
              "    <div class=\"colab-df-container\">\n",
              "      <div>\n",
              "<style scoped>\n",
              "    .dataframe tbody tr th:only-of-type {\n",
              "        vertical-align: middle;\n",
              "    }\n",
              "\n",
              "    .dataframe tbody tr th {\n",
              "        vertical-align: top;\n",
              "    }\n",
              "\n",
              "    .dataframe thead th {\n",
              "        text-align: right;\n",
              "    }\n",
              "</style>\n",
              "<table border=\"1\" class=\"dataframe\">\n",
              "  <thead>\n",
              "    <tr style=\"text-align: right;\">\n",
              "      <th></th>\n",
              "      <th>Number of Units</th>\n",
              "      <th>Manufacturing Cost</th>\n",
              "    </tr>\n",
              "  </thead>\n",
              "  <tbody>\n",
              "    <tr>\n",
              "      <th>487</th>\n",
              "      <td>4.399514</td>\n",
              "      <td>37.567914</td>\n",
              "    </tr>\n",
              "    <tr>\n",
              "      <th>906</th>\n",
              "      <td>6.193682</td>\n",
              "      <td>33.355932</td>\n",
              "    </tr>\n",
              "    <tr>\n",
              "      <th>470</th>\n",
              "      <td>4.325755</td>\n",
              "      <td>38.136724</td>\n",
              "    </tr>\n",
              "    <tr>\n",
              "      <th>93</th>\n",
              "      <td>2.756427</td>\n",
              "      <td>46.838555</td>\n",
              "    </tr>\n",
              "    <tr>\n",
              "      <th>332</th>\n",
              "      <td>3.925889</td>\n",
              "      <td>35.303587</td>\n",
              "    </tr>\n",
              "    <tr>\n",
              "      <th>565</th>\n",
              "      <td>4.645377</td>\n",
              "      <td>38.367271</td>\n",
              "    </tr>\n",
              "    <tr>\n",
              "      <th>735</th>\n",
              "      <td>5.283807</td>\n",
              "      <td>28.928129</td>\n",
              "    </tr>\n",
              "    <tr>\n",
              "      <th>807</th>\n",
              "      <td>5.563938</td>\n",
              "      <td>30.078892</td>\n",
              "    </tr>\n",
              "    <tr>\n",
              "      <th>392</th>\n",
              "      <td>4.117804</td>\n",
              "      <td>29.964328</td>\n",
              "    </tr>\n",
              "    <tr>\n",
              "      <th>100</th>\n",
              "      <td>2.769290</td>\n",
              "      <td>51.463569</td>\n",
              "    </tr>\n",
              "  </tbody>\n",
              "</table>\n",
              "</div>\n",
              "      <button class=\"colab-df-convert\" onclick=\"convertToInteractive('df-08367229-b3d0-4b66-a7c1-23bbde07aab6')\"\n",
              "              title=\"Convert this dataframe to an interactive table.\"\n",
              "              style=\"display:none;\">\n",
              "        \n",
              "  <svg xmlns=\"http://www.w3.org/2000/svg\" height=\"24px\"viewBox=\"0 0 24 24\"\n",
              "       width=\"24px\">\n",
              "    <path d=\"M0 0h24v24H0V0z\" fill=\"none\"/>\n",
              "    <path d=\"M18.56 5.44l.94 2.06.94-2.06 2.06-.94-2.06-.94-.94-2.06-.94 2.06-2.06.94zm-11 1L8.5 8.5l.94-2.06 2.06-.94-2.06-.94L8.5 2.5l-.94 2.06-2.06.94zm10 10l.94 2.06.94-2.06 2.06-.94-2.06-.94-.94-2.06-.94 2.06-2.06.94z\"/><path d=\"M17.41 7.96l-1.37-1.37c-.4-.4-.92-.59-1.43-.59-.52 0-1.04.2-1.43.59L10.3 9.45l-7.72 7.72c-.78.78-.78 2.05 0 2.83L4 21.41c.39.39.9.59 1.41.59.51 0 1.02-.2 1.41-.59l7.78-7.78 2.81-2.81c.8-.78.8-2.07 0-2.86zM5.41 20L4 18.59l7.72-7.72 1.47 1.35L5.41 20z\"/>\n",
              "  </svg>\n",
              "      </button>\n",
              "      \n",
              "  <style>\n",
              "    .colab-df-container {\n",
              "      display:flex;\n",
              "      flex-wrap:wrap;\n",
              "      gap: 12px;\n",
              "    }\n",
              "\n",
              "    .colab-df-convert {\n",
              "      background-color: #E8F0FE;\n",
              "      border: none;\n",
              "      border-radius: 50%;\n",
              "      cursor: pointer;\n",
              "      display: none;\n",
              "      fill: #1967D2;\n",
              "      height: 32px;\n",
              "      padding: 0 0 0 0;\n",
              "      width: 32px;\n",
              "    }\n",
              "\n",
              "    .colab-df-convert:hover {\n",
              "      background-color: #E2EBFA;\n",
              "      box-shadow: 0px 1px 2px rgba(60, 64, 67, 0.3), 0px 1px 3px 1px rgba(60, 64, 67, 0.15);\n",
              "      fill: #174EA6;\n",
              "    }\n",
              "\n",
              "    [theme=dark] .colab-df-convert {\n",
              "      background-color: #3B4455;\n",
              "      fill: #D2E3FC;\n",
              "    }\n",
              "\n",
              "    [theme=dark] .colab-df-convert:hover {\n",
              "      background-color: #434B5C;\n",
              "      box-shadow: 0px 1px 3px 1px rgba(0, 0, 0, 0.15);\n",
              "      filter: drop-shadow(0px 1px 2px rgba(0, 0, 0, 0.3));\n",
              "      fill: #FFFFFF;\n",
              "    }\n",
              "  </style>\n",
              "\n",
              "      <script>\n",
              "        const buttonEl =\n",
              "          document.querySelector('#df-08367229-b3d0-4b66-a7c1-23bbde07aab6 button.colab-df-convert');\n",
              "        buttonEl.style.display =\n",
              "          google.colab.kernel.accessAllowed ? 'block' : 'none';\n",
              "\n",
              "        async function convertToInteractive(key) {\n",
              "          const element = document.querySelector('#df-08367229-b3d0-4b66-a7c1-23bbde07aab6');\n",
              "          const dataTable =\n",
              "            await google.colab.kernel.invokeFunction('convertToInteractive',\n",
              "                                                     [key], {});\n",
              "          if (!dataTable) return;\n",
              "\n",
              "          const docLinkHtml = 'Like what you see? Visit the ' +\n",
              "            '<a target=\"_blank\" href=https://colab.research.google.com/notebooks/data_table.ipynb>data table notebook</a>'\n",
              "            + ' to learn more about interactive tables.';\n",
              "          element.innerHTML = '';\n",
              "          dataTable['output_type'] = 'display_data';\n",
              "          await google.colab.output.renderOutput(dataTable, element);\n",
              "          const docLink = document.createElement('div');\n",
              "          docLink.innerHTML = docLinkHtml;\n",
              "          element.appendChild(docLink);\n",
              "        }\n",
              "      </script>\n",
              "    </div>\n",
              "  </div>\n",
              "  "
            ]
          },
          "metadata": {},
          "execution_count": 126
        }
      ]
    },
    {
      "cell_type": "code",
      "metadata": {
        "id": "14kGO5nkMGlV"
      },
      "source": [
        "X = df[['Number of Units']]\n",
        "y = df['Manufacturing Cost']"
      ],
      "execution_count": 127,
      "outputs": []
    },
    {
      "cell_type": "code",
      "source": [
        "len(X)"
      ],
      "metadata": {
        "id": "ksh_OrkjY3GW",
        "outputId": "832d9761-c747-44c8-e4af-ed30e42a4163",
        "colab": {
          "base_uri": "https://localhost:8080/"
        }
      },
      "execution_count": 128,
      "outputs": [
        {
          "output_type": "execute_result",
          "data": {
            "text/plain": [
              "1000"
            ]
          },
          "metadata": {},
          "execution_count": 128
        }
      ]
    },
    {
      "cell_type": "code",
      "source": [
        "y.describe"
      ],
      "metadata": {
        "colab": {
          "base_uri": "https://localhost:8080/"
        },
        "id": "bwR6SSqQDfC2",
        "outputId": "44290d53-abc0-4dcc-f3c1-10925b45dca5"
      },
      "execution_count": 129,
      "outputs": [
        {
          "output_type": "execute_result",
          "data": {
            "text/plain": [
              "<bound method NDFrame.describe of 0      95.066056\n",
              "1      96.531750\n",
              "2      73.661311\n",
              "3      95.566843\n",
              "4      98.777013\n",
              "         ...    \n",
              "995    23.855067\n",
              "996    27.536542\n",
              "997    25.973787\n",
              "998    25.138311\n",
              "999    21.547777\n",
              "Name: Manufacturing Cost, Length: 1000, dtype: float64>"
            ]
          },
          "metadata": {},
          "execution_count": 129
        }
      ]
    },
    {
      "cell_type": "code",
      "metadata": {
        "colab": {
          "base_uri": "https://localhost:8080/",
          "height": 286
        },
        "id": "idoEjfEhMoxk",
        "outputId": "1d716369-92a4-4026-e643-08379c3b2aff"
      },
      "source": [
        "plt.plot(X,y,'b.')"
      ],
      "execution_count": 130,
      "outputs": [
        {
          "output_type": "execute_result",
          "data": {
            "text/plain": [
              "[<matplotlib.lines.Line2D at 0x7f896c3dd810>]"
            ]
          },
          "metadata": {},
          "execution_count": 130
        },
        {
          "output_type": "display_data",
          "data": {
            "text/plain": [
              "<Figure size 576x288 with 1 Axes>"
            ],
            "image/png": "[encoded data removed]"
          },
          "metadata": {}
        }
      ]
    },
    {
      "cell_type": "code",
      "source": [
        "from sklearn.linear_model import LinearRegression\n",
        "from sklearn.model_selection import train_test_split"
      ],
      "metadata": {
        "id": "A2ow2k5S36W1"
      },
      "execution_count": 131,
      "outputs": []
    },
    {
      "cell_type": "markdown",
      "source": [
        "### Divide los datos del costo de manufactura. Utiliza la función train_test_split (viene el ejemplo al final del notebook)."
      ],
      "metadata": {
        "id": "iinrhmKs382b"
      }
    },
    {
      "cell_type": "code",
      "source": [
        "X_train, X_test, y_train, y_test = train_test_split(X, y, test_size = 0.1, random_state = 101)\n",
        "\n",
        "print(f'Numero total de registros en la bdd: {len(X)}')\n",
        "print(\"*****\"*10)\n",
        "print(f'Numero total de registros en el training set: {len(X_train)}')\n",
        "print(f'Tamaño de X_train: {X_train.shape}')\n",
        "print(\"*****\"*10)\n",
        "print(f'Mumero total de registros en el test dataset: {len(X_test)}')\n",
        "print(f'Tamaño del X_test: {X_test.shape}')"
      ],
      "metadata": {
        "colab": {
          "base_uri": "https://localhost:8080/"
        },
        "id": "uLyHcXV73_D0",
        "outputId": "ea7c2d90-992c-49a0-eb13-6f688093fac6"
      },
      "execution_count": 168,
      "outputs": [
        {
          "output_type": "stream",
          "name": "stdout",
          "text": [
            "Numero total de registros en la bdd: 1000\n",
            "**************************************************\n",
            "Numero total de registros en el training set: 900\n",
            "Tamaño de X_train: (900, 1)\n",
            "**************************************************\n",
            "Mumero total de registros en el test dataset: 100\n",
            "Tamaño del X_test: (100, 1)\n"
          ]
        }
      ]
    },
    {
      "cell_type": "markdown",
      "source": [
        "### Regresión Lineal"
      ],
      "metadata": {
        "id": "nC89wznU4Jdb"
      }
    },
    {
      "cell_type": "markdown",
      "source": [
        "Realiza la regresión lineal: modelo generado (ecuación), su visualización, sus errores y r cuadrada."
      ],
      "metadata": {
        "id": "_yugsdLR4K27"
      }
    },
    {
      "cell_type": "markdown",
      "source": [
        "* Modelo generado (ecuación)"
      ],
      "metadata": {
        "id": "udqlX8zq4NVj"
      }
    },
    {
      "cell_type": "markdown",
      "source": [
        "Entrenamos el modelo:"
      ],
      "metadata": {
        "id": "mT6zWufP4lGz"
      }
    },
    {
      "cell_type": "code",
      "source": [
        "linear_reg = LinearRegression(fit_intercept=True)\n",
        "linear_reg.fit(X_train, y_train)"
      ],
      "metadata": {
        "colab": {
          "base_uri": "https://localhost:8080/"
        },
        "id": "1zrF_TA64P1e",
        "outputId": "678fa47c-8c0f-4892-d312-4afa3c33ab0f"
      },
      "execution_count": 133,
      "outputs": [
        {
          "output_type": "execute_result",
          "data": {
            "text/plain": [
              "LinearRegression()"
            ]
          },
          "metadata": {},
          "execution_count": 133
        }
      ]
    },
    {
      "cell_type": "markdown",
      "source": [
        "Obtenemos coeficientes e intercepción con el eje:"
      ],
      "metadata": {
        "id": "U1aceNIZ4mly"
      }
    },
    {
      "cell_type": "code",
      "source": [
        "def coef_inter(model):\n",
        "  print('Coeficientes:', model.coef_)\n",
        "  print('Intercept:', model.intercept_)"
      ],
      "metadata": {
        "id": "82pB1pnd5m31"
      },
      "execution_count": 134,
      "outputs": []
    },
    {
      "cell_type": "code",
      "source": [
        "coef_inter(linear_reg)"
      ],
      "metadata": {
        "colab": {
          "base_uri": "https://localhost:8080/"
        },
        "id": "QNhnrzIk4dVU",
        "outputId": "509143ea-a573-4a8e-e328-068968175772"
      },
      "execution_count": 135,
      "outputs": [
        {
          "output_type": "stream",
          "name": "stdout",
          "text": [
            "Coeficientes: [-5.98882699]\n",
            "Intercept: 66.83650741226988\n"
          ]
        }
      ]
    },
    {
      "cell_type": "markdown",
      "source": [
        "Obtenemos sus predicciones para datos de entrenamiento, y datos de prueba:"
      ],
      "metadata": {
        "id": "AnVCrWT05FDU"
      }
    },
    {
      "cell_type": "code",
      "source": [
        "def predict_ys(model,xt,xp):\n",
        "  return model.predict(xt), model.predict(xp)"
      ],
      "metadata": {
        "id": "-ao5eiIm5ztb"
      },
      "execution_count": 136,
      "outputs": []
    },
    {
      "cell_type": "code",
      "source": [
        "yhat_train, yhat_test = predict_ys(linear_reg, X_train, X_test)"
      ],
      "metadata": {
        "id": "iTR387UA5Mp0"
      },
      "execution_count": 137,
      "outputs": []
    },
    {
      "cell_type": "markdown",
      "source": [
        "* Visualización"
      ],
      "metadata": {
        "id": "mdthF6bS48Pz"
      }
    },
    {
      "cell_type": "code",
      "source": [
        "def visualizacion(x_p, y_p, x_model, y_model):\n",
        "  plt.scatter(x_p, y_p)\n",
        "  plt.plot(x_model, y_model, \"r-\", linewidth=2, label=\"Predictions\")\n",
        "  plt.xlabel(\"$X$\", fontsize=18)\n",
        "  plt.ylabel(\"$y$\", rotation=0, fontsize=18)\n",
        "  plt.legend(loc=\"upper left\", fontsize=14);"
      ],
      "metadata": {
        "id": "6bQPbM026PqN"
      },
      "execution_count": 138,
      "outputs": []
    },
    {
      "cell_type": "code",
      "source": [
        "visualizacion(X, y, X_test, yhat_test)"
      ],
      "metadata": {
        "colab": {
          "base_uri": "https://localhost:8080/",
          "height": 290
        },
        "id": "BSjy767R5AUr",
        "outputId": "02356042-84a1-4ec7-8b89-1d102be3162e"
      },
      "execution_count": 139,
      "outputs": [
        {
          "output_type": "display_data",
          "data": {
            "text/plain": [
              "<Figure size 576x288 with 1 Axes>"
            ],
            "image/png": "[encoded data removed]"
          },
          "metadata": {}
        }
      ]
    },
    {
      "cell_type": "markdown",
      "source": [
        "* Sus errores y r cuadrada"
      ],
      "metadata": {
        "id": "smkVcZat4MXb"
      }
    },
    {
      "cell_type": "code",
      "source": [
        "from sklearn import metrics\n",
        "from sklearn.metrics import r2_score"
      ],
      "metadata": {
        "id": "yvrEsJiN7wSc"
      },
      "execution_count": 140,
      "outputs": []
    },
    {
      "cell_type": "code",
      "source": [
        "def errores(y_train, yhat_train, y_test, yhat_test):\n",
        "  errores_train = list()\n",
        "  errores_train.append(metrics.mean_absolute_error(y_train, yhat_train))\n",
        "  errores_train.append(np.sqrt(metrics.mean_squared_error(y_train, yhat_train)))\n",
        "  errores_train.append(r2_score(y_train, yhat_train))\n",
        "  errores_train.append(y_train - yhat_train)\n",
        "\n",
        "  errores_test = list()\n",
        "  errores_test.append(metrics.mean_absolute_error(y_test, yhat_test))\n",
        "  errores_test.append(np.sqrt(metrics.mean_squared_error(y_test, yhat_test)))\n",
        "  errores_test.append(r2_score(y_test, yhat_test))\n",
        "  errores_test.append(y_test - yhat_test)\n",
        "\n",
        "  return errores_train, errores_test"
      ],
      "metadata": {
        "id": "msBC66IvAbYA"
      },
      "execution_count": 141,
      "outputs": []
    },
    {
      "cell_type": "code",
      "source": [
        "error_ejercicio1_train = list()\n",
        "error_ejercicio1_test = list()\n",
        "\n",
        "errores_test = list()\n",
        "nom_errores = ['MAE', 'RMSE', 'R2']\n",
        "\n",
        "errores_train = list()\n",
        "errores_test = list()\n",
        "errores_train, errores_test = errores(y_train,yhat_train,y_test,yhat_test)\n",
        "error_ejercicio1_train.append(errores_train)\n",
        "error_ejercicio1_test.append(errores_test)\n",
        "\n",
        "i = 0\n",
        "for error in nom_errores:\n",
        "  print(error, 'de train:', errores_train[i])\n",
        "  i = i + 1\n",
        "i = 0\n",
        "for error in nom_errores:\n",
        "  print(error, 'de train:', errores_test[i])\n",
        "  i = i + 1"
      ],
      "metadata": {
        "colab": {
          "base_uri": "https://localhost:8080/"
        },
        "id": "eOqb4u6P657E",
        "outputId": "23b0c24d-7b66-49e1-f3e2-54697f06c0d9"
      },
      "execution_count": 142,
      "outputs": [
        {
          "output_type": "stream",
          "name": "stdout",
          "text": [
            "MAE de train: 4.905332101451236\n",
            "RMSE de train: 6.844866083710475\n",
            "R2 de train: 0.5746524649404298\n",
            "MAE de train: 5.013587781954963\n",
            "RMSE de train: 7.108963321847682\n",
            "R2 de train: 0.6116251549562579\n"
          ]
        }
      ]
    },
    {
      "cell_type": "markdown",
      "source": [
        "### Regresión Polinomial"
      ],
      "metadata": {
        "id": "sdggng67CaEc"
      }
    },
    {
      "cell_type": "markdown",
      "source": [
        "Realiza la  regresión polinomial completa, tu modelo generado (ecuación), su visualización, sus errores y r cuadrada."
      ],
      "metadata": {
        "id": "j5vXhe3uCct7"
      }
    },
    {
      "cell_type": "markdown",
      "source": [
        "* Modelo generado (ecuación)"
      ],
      "metadata": {
        "id": "nVoNh9eBDl0d"
      }
    },
    {
      "cell_type": "code",
      "source": [
        "from sklearn.preprocessing import PolynomialFeatures"
      ],
      "metadata": {
        "id": "86D8NWVCCmvt"
      },
      "execution_count": 143,
      "outputs": []
    },
    {
      "cell_type": "code",
      "source": [
        "def poly_transform(x, xt, xp, deg):\n",
        "  poly_features = PolynomialFeatures(degree=deg, include_bias=False)\n",
        "  X_poly = poly_features.fit(x)\n",
        "  return X_poly.transform(xt), X_poly.transform(xp)"
      ],
      "metadata": {
        "id": "K3lkTwxgC_nc"
      },
      "execution_count": 144,
      "outputs": []
    },
    {
      "cell_type": "code",
      "source": [
        "X_poly_train, X_poly_test = poly_transform(X, X_train, X_test, 2)"
      ],
      "metadata": {
        "id": "gnDUh4dCCn98"
      },
      "execution_count": 145,
      "outputs": []
    },
    {
      "cell_type": "code",
      "source": [
        "lin_reg = LinearRegression(fit_intercept=True)\n",
        "lin_reg.fit(X_poly_train, y_train)"
      ],
      "metadata": {
        "id": "LWvfEDGKuoLJ",
        "colab": {
          "base_uri": "https://localhost:8080/"
        },
        "outputId": "39d4fa93-ee90-4b64-cd27-8b1f97c296ce"
      },
      "execution_count": 146,
      "outputs": [
        {
          "output_type": "execute_result",
          "data": {
            "text/plain": [
              "LinearRegression()"
            ]
          },
          "metadata": {},
          "execution_count": 146
        }
      ]
    },
    {
      "cell_type": "code",
      "source": [
        "coef_inter(lin_reg)"
      ],
      "metadata": {
        "colab": {
          "base_uri": "https://localhost:8080/"
        },
        "id": "18uBUyf4DvtU",
        "outputId": "a92008b1-4037-4389-e1b6-6dedd37b9072"
      },
      "execution_count": 147,
      "outputs": [
        {
          "output_type": "stream",
          "name": "stdout",
          "text": [
            "Coeficientes: [-16.40638102   1.13136095]\n",
            "Intercept: 88.80179909112496\n"
          ]
        }
      ]
    },
    {
      "cell_type": "markdown",
      "source": [
        "Obtenemos sus predicciones para datos de entrenamiento, y datos de prueba:"
      ],
      "metadata": {
        "id": "HdS5yoCuD_Ha"
      }
    },
    {
      "cell_type": "code",
      "source": [
        "yhat_train, yhat_test = predict_ys(lin_reg, X_poly_train, X_poly_test)"
      ],
      "metadata": {
        "id": "SMfNXRT3D_Ha"
      },
      "execution_count": 148,
      "outputs": []
    },
    {
      "cell_type": "markdown",
      "source": [
        "* Visualización"
      ],
      "metadata": {
        "id": "v2KnTy1sENdL"
      }
    },
    {
      "cell_type": "code",
      "source": [
        "order = np.argsort(X_test.values.ravel())\n",
        "sortedX = X_test.values.ravel()[order]\n",
        "sortedY = y_test.values[order]\n",
        "sorted_pred = yhat_test[order]\n",
        "\n",
        "visualizacion(X, y, sortedX, sorted_pred)"
      ],
      "metadata": {
        "colab": {
          "base_uri": "https://localhost:8080/",
          "height": 290
        },
        "id": "7z8EmUuyEQyV",
        "outputId": "e9a2b9de-55b7-4455-cfdc-dedc6d90d57a"
      },
      "execution_count": 149,
      "outputs": [
        {
          "output_type": "display_data",
          "data": {
            "text/plain": [
              "<Figure size 576x288 with 1 Axes>"
            ],
            "image/png": "[encoded data removed]"
          },
          "metadata": {}
        }
      ]
    },
    {
      "cell_type": "markdown",
      "source": [
        "* Sus errores y r cuadrada"
      ],
      "metadata": {
        "id": "1gyWhXA3Fdf2"
      }
    },
    {
      "cell_type": "code",
      "source": [
        "errores_train = list()\n",
        "errores_test = list()\n",
        "errores_train, errores_test = errores(y_train,yhat_train,y_test,yhat_test)\n",
        "error_ejercicio1_train.append(errores_train)\n",
        "error_ejercicio1_test.append(errores_test)\n",
        "\n",
        "i = 0\n",
        "for error in nom_errores:\n",
        "  print(error, 'de train:', errores_train[i])\n",
        "  i = i + 1\n",
        "i = 0\n",
        "for error in nom_errores:\n",
        "  print(error, 'de train:', errores_test[i])\n",
        "  i = i + 1"
      ],
      "metadata": {
        "colab": {
          "base_uri": "https://localhost:8080/"
        },
        "id": "w4LXchTFFdn0",
        "outputId": "43433167-3970-48b8-c36c-174ab4be99bb"
      },
      "execution_count": 150,
      "outputs": [
        {
          "output_type": "stream",
          "name": "stdout",
          "text": [
            "MAE de train: 4.545086474348086\n",
            "RMSE de train: 6.162532575212149\n",
            "R2 de train: 0.6552276217097528\n",
            "MAE de train: 4.3833025759681075\n",
            "RMSE de train: 5.832771301068423\n",
            "R2 de train: 0.7385501224942537\n"
          ]
        }
      ]
    },
    {
      "cell_type": "markdown",
      "source": [
        "### Realiza la regresión con Ridge y Lasso. Incluye la ecuación de tu modelo, visualización , errores y r cuadrada."
      ],
      "metadata": {
        "id": "qUyIvnPEF-9d"
      }
    },
    {
      "cell_type": "markdown",
      "source": [
        "### Ridge"
      ],
      "metadata": {
        "id": "TnXdAHg4GAje"
      }
    },
    {
      "cell_type": "code",
      "source": [
        "from sklearn.linear_model import Ridge"
      ],
      "metadata": {
        "id": "wwTK1e35GCyF"
      },
      "execution_count": 151,
      "outputs": []
    },
    {
      "cell_type": "markdown",
      "source": [
        "* Modelo generado (ecuación)"
      ],
      "metadata": {
        "id": "6T7qpUoaGMGM"
      }
    },
    {
      "cell_type": "code",
      "source": [
        "X_poly_train, X_poly_test = poly_transform(X, X_train, X_test, 2)"
      ],
      "metadata": {
        "id": "gFkxo4jZGViY"
      },
      "execution_count": 152,
      "outputs": []
    },
    {
      "cell_type": "code",
      "source": [
        "ridge_model = Ridge(alpha = 10)\n",
        "ridge_model.fit(X_poly_train, y_train)"
      ],
      "metadata": {
        "colab": {
          "base_uri": "https://localhost:8080/"
        },
        "outputId": "9463c84a-c469-4666-8640-9f77fdc024c8",
        "id": "rD02qHljGViZ"
      },
      "execution_count": 153,
      "outputs": [
        {
          "output_type": "execute_result",
          "data": {
            "text/plain": [
              "Ridge(alpha=10)"
            ]
          },
          "metadata": {},
          "execution_count": 153
        }
      ]
    },
    {
      "cell_type": "code",
      "source": [
        "coef_inter(ridge_model)"
      ],
      "metadata": {
        "colab": {
          "base_uri": "https://localhost:8080/"
        },
        "outputId": "8807cbcc-353a-4671-8fbd-5fa96bd1df55",
        "id": "D3sxTSKRGVia"
      },
      "execution_count": 154,
      "outputs": [
        {
          "output_type": "stream",
          "name": "stdout",
          "text": [
            "Coeficientes: [-14.35249765   0.91811959]\n",
            "Intercept: 84.25748545190552\n"
          ]
        }
      ]
    },
    {
      "cell_type": "markdown",
      "source": [
        "Obtenemos sus predicciones para datos de entrenamiento, y datos de prueba:"
      ],
      "metadata": {
        "id": "K9H2U0ZSGVia"
      }
    },
    {
      "cell_type": "code",
      "source": [
        "yhat_train, yhat_test = predict_ys(ridge_model, X_poly_train, X_poly_test)"
      ],
      "metadata": {
        "id": "HY7RHej6GVib"
      },
      "execution_count": 155,
      "outputs": []
    },
    {
      "cell_type": "markdown",
      "source": [
        "* Visualización"
      ],
      "metadata": {
        "id": "e7SbX2N3GsRk"
      }
    },
    {
      "cell_type": "code",
      "source": [
        "order = np.argsort(X_test.values.ravel())\n",
        "sortedX = X_test.values.ravel()[order]\n",
        "sortedY = y_test.values[order]\n",
        "sorted_pred = yhat_test[order]\n",
        "\n",
        "visualizacion(X, y, sortedX, sorted_pred)"
      ],
      "metadata": {
        "outputId": "0c1d2256-ac64-4e81-ae28-b7c8737b7655",
        "colab": {
          "base_uri": "https://localhost:8080/",
          "height": 290
        },
        "id": "mTMowQkhGsRl"
      },
      "execution_count": 156,
      "outputs": [
        {
          "output_type": "display_data",
          "data": {
            "text/plain": [
              "<Figure size 576x288 with 1 Axes>"
            ],
            "image/png": "[encoded data removed]"
          },
          "metadata": {}
        }
      ]
    },
    {
      "cell_type": "markdown",
      "source": [
        "* Sus errores y r cuadrada"
      ],
      "metadata": {
        "id": "mHZ6-0YwGsRl"
      }
    },
    {
      "cell_type": "code",
      "source": [
        "errores_train = list()\n",
        "errores_test = list()\n",
        "errores_train, errores_test = errores(y_train,yhat_train,y_test,yhat_test)\n",
        "error_ejercicio1_train.append(errores_train)\n",
        "error_ejercicio1_test.append(errores_test)\n",
        "\n",
        "i = 0\n",
        "for error in nom_errores:\n",
        "  print(error, 'de train:', errores_train[i])\n",
        "  i = i + 1\n",
        "i = 0\n",
        "for error in nom_errores:\n",
        "  print(error, 'de train:', errores_test[i])\n",
        "  i = i + 1"
      ],
      "metadata": {
        "outputId": "841ac092-415a-4860-c029-0376b2d1b8b9",
        "colab": {
          "base_uri": "https://localhost:8080/"
        },
        "id": "zsZAllBfGsRm"
      },
      "execution_count": 157,
      "outputs": [
        {
          "output_type": "stream",
          "name": "stdout",
          "text": [
            "MAE de train: 4.517916499060817\n",
            "RMSE de train: 6.189226153362644\n",
            "R2 de train: 0.6522343261500281\n",
            "MAE de train: 4.397899036894618\n",
            "RMSE de train: 5.979429627583081\n",
            "R2 de train: 0.7252371174424325\n"
          ]
        }
      ]
    },
    {
      "cell_type": "markdown",
      "source": [
        "### Lasso"
      ],
      "metadata": {
        "id": "qziBuQJaHCtN"
      }
    },
    {
      "cell_type": "code",
      "source": [
        "from sklearn.linear_model import Lasso"
      ],
      "metadata": {
        "id": "jN1b2DIFHCtO"
      },
      "execution_count": 158,
      "outputs": []
    },
    {
      "cell_type": "markdown",
      "source": [
        "* Modelo generado (ecuación)"
      ],
      "metadata": {
        "id": "ItuEg2xYHCtO"
      }
    },
    {
      "cell_type": "code",
      "source": [
        "X_poly_train, X_poly_test = poly_transform(X, X_train, X_test, 2)"
      ],
      "metadata": {
        "id": "VOPDzhvpHCtP"
      },
      "execution_count": 159,
      "outputs": []
    },
    {
      "cell_type": "code",
      "source": [
        "lasso_model = Lasso(alpha = 0.1)\n",
        "lasso_model.fit(X_poly_train, y_train)"
      ],
      "metadata": {
        "colab": {
          "base_uri": "https://localhost:8080/"
        },
        "outputId": "b15ce568-3ca8-409f-f83b-331723009cbe",
        "id": "Nvk_mkccHCtP"
      },
      "execution_count": 160,
      "outputs": [
        {
          "output_type": "execute_result",
          "data": {
            "text/plain": [
              "Lasso(alpha=0.1)"
            ]
          },
          "metadata": {},
          "execution_count": 160
        }
      ]
    },
    {
      "cell_type": "code",
      "source": [
        "coef_inter(lasso_model)"
      ],
      "metadata": {
        "colab": {
          "base_uri": "https://localhost:8080/"
        },
        "outputId": "a122f802-b53c-4a67-9b47-30bfb60358cd",
        "id": "lPZ67qR5HCtQ"
      },
      "execution_count": 161,
      "outputs": [
        {
          "output_type": "stream",
          "name": "stdout",
          "text": [
            "Coeficientes: [-14.9666674    0.98129183]\n",
            "Intercept: 85.62928041192495\n"
          ]
        }
      ]
    },
    {
      "cell_type": "markdown",
      "source": [
        "Obtenemos sus predicciones para datos de entrenamiento, y datos de prueba:"
      ],
      "metadata": {
        "id": "In9ZduK-HCtQ"
      }
    },
    {
      "cell_type": "code",
      "source": [
        "yhat_train, yhat_test = predict_ys(lasso_model, X_poly_train, X_poly_test)"
      ],
      "metadata": {
        "id": "CPrk1AmkHCtQ"
      },
      "execution_count": 162,
      "outputs": []
    },
    {
      "cell_type": "markdown",
      "source": [
        "* Visualización"
      ],
      "metadata": {
        "id": "47lWA8vLHCtR"
      }
    },
    {
      "cell_type": "code",
      "source": [
        "order = np.argsort(X_test.values.ravel())\n",
        "sortedX = X_test.values.ravel()[order]\n",
        "sortedY = y_test.values[order]\n",
        "sorted_pred = yhat_test[order]\n",
        "\n",
        "visualizacion(X, y, sortedX, sorted_pred)"
      ],
      "metadata": {
        "outputId": "b5cd4f4c-2401-4a23-9c16-72a36b56203e",
        "colab": {
          "base_uri": "https://localhost:8080/",
          "height": 290
        },
        "id": "F3wYZORBHCtR"
      },
      "execution_count": 163,
      "outputs": [
        {
          "output_type": "display_data",
          "data": {
            "text/plain": [
              "<Figure size 576x288 with 1 Axes>"
            ],
            "image/png": "[encoded data removed]"
          },
          "metadata": {}
        }
      ]
    },
    {
      "cell_type": "markdown",
      "source": [
        "* Sus errores y r cuadrada"
      ],
      "metadata": {
        "id": "UCBIy1fvHCtR"
      }
    },
    {
      "cell_type": "code",
      "source": [
        "errores_train = list()\n",
        "errores_test = list()\n",
        "errores_train, errores_test = errores(y_train,yhat_train,y_test,yhat_test)\n",
        "error_ejercicio1_train.append(errores_train)\n",
        "error_ejercicio1_test.append(errores_test)\n",
        "\n",
        "i = 0\n",
        "for error in nom_errores:\n",
        "  print(error, 'de train:', errores_train[i])\n",
        "  i = i + 1\n",
        "i = 0\n",
        "for error in nom_errores:\n",
        "  print(error, 'de train:', errores_test[i])\n",
        "  i = i + 1"
      ],
      "metadata": {
        "outputId": "358c9031-a1e6-4293-b4b6-92357ebd8a9d",
        "colab": {
          "base_uri": "https://localhost:8080/"
        },
        "id": "GIjf44aOHCtS"
      },
      "execution_count": 164,
      "outputs": [
        {
          "output_type": "stream",
          "name": "stdout",
          "text": [
            "MAE de train: 4.522065264122638\n",
            "RMSE de train: 6.175668320741421\n",
            "R2 de train: 0.6537562561963224\n",
            "MAE de train: 4.385055190168516\n",
            "RMSE de train: 5.9291087345437985\n",
            "R2 de train: 0.72984228403894\n"
          ]
        }
      ]
    },
    {
      "cell_type": "markdown",
      "source": [
        "### Finalmente grafica"
      ],
      "metadata": {
        "id": "TsNO0FXPHjAu"
      }
    },
    {
      "cell_type": "markdown",
      "source": [
        "* MAE (de los cuatro métodos)"
      ],
      "metadata": {
        "id": "6Jzs5vRnHlRF"
      }
    },
    {
      "cell_type": "code",
      "source": [
        "modelos_ejercicio1 = ['Regresión Lineal','Regresión Polinomial','Ridge','Lasso']\n",
        "\n",
        "mae_values = list()\n",
        "for i in range(0,len(modelos_ejercicio1)):\n",
        "  mae_values.append(error_ejercicio1_test[i][0])\n",
        "\n",
        "plt.figure(figsize = (10, 5))\n",
        "plt.bar(modelos_ejercicio1, mae_values, color ='maroon', width = 0.4)\n",
        "plt.title(\"MAE\")"
      ],
      "metadata": {
        "colab": {
          "base_uri": "https://localhost:8080/",
          "height": 357
        },
        "id": "k_94Xe_ZHnz8",
        "outputId": "767baa9d-3d77-4fa4-81d9-f5ff26c11f26"
      },
      "execution_count": 165,
      "outputs": [
        {
          "output_type": "execute_result",
          "data": {
            "text/plain": [
              "Text(0.5, 1.0, 'MAE')"
            ]
          },
          "metadata": {},
          "execution_count": 165
        },
        {
          "output_type": "display_data",
          "data": {
            "text/plain": [
              "<Figure size 720x360 with 1 Axes>"
            ],
            "image/png": "[encoded data removed]"
          },
          "metadata": {}
        }
      ]
    },
    {
      "cell_type": "markdown",
      "source": [
        "* R2 (de los cuatro métodos)"
      ],
      "metadata": {
        "id": "F7GH5AQeJkrp"
      }
    },
    {
      "cell_type": "code",
      "source": [
        "r2_values = list()\n",
        "for i in range(0,len(modelos_ejercicio1)):\n",
        "  r2_values.append(error_ejercicio1_test[i][2])\n",
        "\n",
        "plt.figure(figsize = (10, 5))\n",
        "plt.bar(modelos_ejercicio1, r2_values, color ='maroon', width = 0.4)\n",
        "plt.title(\"R2\")"
      ],
      "metadata": {
        "colab": {
          "base_uri": "https://localhost:8080/",
          "height": 357
        },
        "id": "Dm5VomK0JmJV",
        "outputId": "6554a83a-d2b5-48f7-e2d7-b619eb1d330a"
      },
      "execution_count": 166,
      "outputs": [
        {
          "output_type": "execute_result",
          "data": {
            "text/plain": [
              "Text(0.5, 1.0, 'R2')"
            ]
          },
          "metadata": {},
          "execution_count": 166
        },
        {
          "output_type": "display_data",
          "data": {
            "text/plain": [
              "<Figure size 720x360 with 1 Axes>"
            ],
            "image/png": "[encoded data removed]"
          },
          "metadata": {}
        }
      ]
    },
    {
      "cell_type": "markdown",
      "source": [
        "### Explica tus resultados, que método conviene más a la empresa, ¿por que?, ¿que porcentajes de entrenamiento y evaluación?, ¿que error tienes?, ¿es bueno?, ¿cómo lo sabes?"
      ],
      "metadata": {
        "id": "l0L8mlhqJ1P1"
      }
    },
    {
      "cell_type": "markdown",
      "source": [
        "![ejercicio 1.PNG](data:image/png;base64,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)"
      ],
      "metadata": {
        "id": "m_YPFmqeM_kE"
      }
    },
    {
      "cell_type": "markdown",
      "source": [
        "A primera vista, podemos ver que, para el valor de MAE, para todos menos para regresión lineal, sus valores disminuyen cuando se usan los datos de prueba. Para RMSE sucede lo mismo. Y para R2, en todos los modelos incrementa con los datos de prueba contra los de entrenamiento. Así mismo, el mejor valor de R2 es el de regresión lineal polinomial, así como de MAE y de RMSE. Por lo que se le recomienda a la empresa la regresión polinomial de grado 2. \n",
        "\n",
        "Veamos ahora sus errores:\n"
      ],
      "metadata": {
        "id": "c2J9wynpMCh1"
      }
    },
    {
      "cell_type": "code",
      "source": [
        "residuos_values = list()\n",
        "for i in range(0,len(modelos_ejercicio1)):\n",
        "  residuos_values.append(error_ejercicio1_test[i][3])\n",
        "\n",
        "sns.set(rc={'figure.figsize':(8,4)})\n",
        "plt.boxplot(residuos_values, labels=modelos_ejercicio1, showmeans=True)\n",
        "plt.show()"
      ],
      "metadata": {
        "colab": {
          "base_uri": "https://localhost:8080/",
          "height": 268
        },
        "id": "-9yJ3XxHJ5Dc",
        "outputId": "743ef782-d231-414a-a02a-4b078942f00e"
      },
      "execution_count": 167,
      "outputs": [
        {
          "output_type": "display_data",
          "data": {
            "text/plain": [
              "<Figure size 576x288 with 1 Axes>"
            ],
            "image/png": "[encoded data removed]"
          },
          "metadata": {}
        }
      ]
    },
    {
      "cell_type": "markdown",
      "source": [
        "Podemos observar que todos son muy similares, y con datos atípicos. Sin embargo, el de regresión lineal es que nos arroja los valores atípicos mas altos. Lo cual reafirma, considerando las métricas, que el mejor modelo a recomendar es el de regresión polinomial de grado 2. "
      ],
      "metadata": {
        "id": "K5GuIpgENtbk"
      }
    },
    {
      "cell_type": "markdown",
      "metadata": {
        "id": "CfqcmLmxLoe9"
      },
      "source": [
        "#Ejercicio 2\n",
        "Realiza la regresión polinomial de los siguientes datos:"
      ]
    },
    {
      "cell_type": "code",
      "source": [
        "df = pd.read_csv('https://raw.githubusercontent.com/marypazrf/bdd/main/kc_house_data.csv')\n",
        "df.sample(10)"
      ],
      "metadata": {
        "id": "57bn0j38qGrg",
        "colab": {
          "base_uri": "https://localhost:8080/",
          "height": 456
        },
        "outputId": "a7e5132c-3fc4-4a6d-933a-4ab99b060782"
      },
      "execution_count": 169,
      "outputs": [
        {
          "output_type": "execute_result",
          "data": {
            "text/plain": [
              "               id             date     price  bedrooms  bathrooms  \\\n",
              "16031  1786700080  20150115T000000  470000.0         4       2.50   \n",
              "11916  9407000990  20141010T000000  239900.0         2       1.00   \n",
              "7163   4354700010  20150421T000000  482500.0         3       2.00   \n",
              "16954  1703050500  20150321T000000  645000.0         3       2.50   \n",
              "2518   9412900045  20140519T000000  462000.0         3       1.50   \n",
              "12999  1402600040  20140825T000000  330000.0         4       2.25   \n",
              "18524  8807810090  20140925T000000  335000.0         3       1.00   \n",
              "10015  1645000710  20150410T000000  255000.0         3       1.00   \n",
              "18039  2571910100  20141029T000000  344000.0         4       2.50   \n",
              "16579   984210170  20150326T000000  256500.0         5       2.50   \n",
              "\n",
              "       sqft_living  sqft_lot  floors  waterfront  view  ...  grade  \\\n",
              "16031         2700      6769     2.0           0     0  ...      9   \n",
              "11916          910      9000     1.0           0     0  ...      6   \n",
              "7163          1330      6490     1.0           0     0  ...      7   \n",
              "16954         2490      5978     2.0           0     0  ...      9   \n",
              "2518          1710      4500     1.5           0     0  ...      8   \n",
              "12999         2430      7490     2.0           0     0  ...      8   \n",
              "18524         1350     14212     1.0           0     0  ...      6   \n",
              "10015         1140      8528     1.0           0     0  ...      7   \n",
              "18039         2100      8501     2.0           0     0  ...      7   \n",
              "16579         1960      7350     1.0           0     0  ...      7   \n",
              "\n",
              "       sqft_above  sqft_basement  yr_built  yr_renovated  zipcode      lat  \\\n",
              "16031        2700              0      1999             0    98042  47.3753   \n",
              "11916         910              0      1983             0    98045  47.4463   \n",
              "7163         1330              0      1954             0    98125  47.7181   \n",
              "16954        2490              0      2003             0    98074  47.6298   \n",
              "2518         1410            300      1928             0    98118  47.5366   \n",
              "12999        2430              0      1983             0    98058  47.4406   \n",
              "18524        1350              0      1981             0    98053  47.6606   \n",
              "10015        1140              0      1967             0    98022  47.2098   \n",
              "18039        2100              0      1993             0    98022  47.1951   \n",
              "16579        1360            600      1969             0    98058  47.4368   \n",
              "\n",
              "          long  sqft_living15  sqft_lot15  \n",
              "16031 -122.155           2880        7968  \n",
              "11916 -121.771           1410        9440  \n",
              "7163  -122.308           1580        7202  \n",
              "16954 -122.022           2710        6629  \n",
              "2518  -122.268           1860        6000  \n",
              "12999 -122.139           2070        7469  \n",
              "18524 -122.060           1520       14404  \n",
              "10015 -122.004           1140        8112  \n",
              "18039 -122.010           2130        8560  \n",
              "16579 -122.165           1900        7350  \n",
              "\n",
              "[10 rows x 21 columns]"
            ],
            "text/html": [
              "\n",
              "  <div id=\"df-b1b0b220-0471-40f2-b891-5b46c2551a61\">\n",
              "    <div class=\"colab-df-container\">\n",
              "      <div>\n",
              "<style scoped>\n",
              "    .dataframe tbody tr th:only-of-type {\n",
              "        vertical-align: middle;\n",
              "    }\n",
              "\n",
              "    .dataframe tbody tr th {\n",
              "        vertical-align: top;\n",
              "    }\n",
              "\n",
              "    .dataframe thead th {\n",
              "        text-align: right;\n",
              "    }\n",
              "</style>\n",
              "<table border=\"1\" class=\"dataframe\">\n",
              "  <thead>\n",
              "    <tr style=\"text-align: right;\">\n",
              "      <th></th>\n",
              "      <th>id</th>\n",
              "      <th>date</th>\n",
              "      <th>price</th>\n",
              "      <th>bedrooms</th>\n",
              "      <th>bathrooms</th>\n",
              "      <th>sqft_living</th>\n",
              "      <th>sqft_lot</th>\n",
              "      <th>floors</th>\n",
              "      <th>waterfront</th>\n",
              "      <th>view</th>\n",
              "      <th>...</th>\n",
              "      <th>grade</th>\n",
              "      <th>sqft_above</th>\n",
              "      <th>sqft_basement</th>\n",
              "      <th>yr_built</th>\n",
              "      <th>yr_renovated</th>\n",
              "      <th>zipcode</th>\n",
              "      <th>lat</th>\n",
              "      <th>long</th>\n",
              "      <th>sqft_living15</th>\n",
              "      <th>sqft_lot15</th>\n",
              "    </tr>\n",
              "  </thead>\n",
              "  <tbody>\n",
              "    <tr>\n",
              "      <th>16031</th>\n",
              "      <td>1786700080</td>\n",
              "      <td>20150115T000000</td>\n",
              "      <td>470000.0</td>\n",
              "      <td>4</td>\n",
              "      <td>2.50</td>\n",
              "      <td>2700</td>\n",
              "      <td>6769</td>\n",
              "      <td>2.0</td>\n",
              "      <td>0</td>\n",
              "      <td>0</td>\n",
              "      <td>...</td>\n",
              "      <td>9</td>\n",
              "      <td>2700</td>\n",
              "      <td>0</td>\n",
              "      <td>1999</td>\n",
              "      <td>0</td>\n",
              "      <td>98042</td>\n",
              "      <td>47.3753</td>\n",
              "      <td>-122.155</td>\n",
              "      <td>2880</td>\n",
              "      <td>7968</td>\n",
              "    </tr>\n",
              "    <tr>\n",
              "      <th>11916</th>\n",
              "      <td>9407000990</td>\n",
              "      <td>20141010T000000</td>\n",
              "      <td>239900.0</td>\n",
              "      <td>2</td>\n",
              "      <td>1.00</td>\n",
              "      <td>910</td>\n",
              "      <td>9000</td>\n",
              "      <td>1.0</td>\n",
              "      <td>0</td>\n",
              "      <td>0</td>\n",
              "      <td>...</td>\n",
              "      <td>6</td>\n",
              "      <td>910</td>\n",
              "      <td>0</td>\n",
              "      <td>1983</td>\n",
              "      <td>0</td>\n",
              "      <td>98045</td>\n",
              "      <td>47.4463</td>\n",
              "      <td>-121.771</td>\n",
              "      <td>1410</td>\n",
              "      <td>9440</td>\n",
              "    </tr>\n",
              "    <tr>\n",
              "      <th>7163</th>\n",
              "      <td>4354700010</td>\n",
              "      <td>20150421T000000</td>\n",
              "      <td>482500.0</td>\n",
              "      <td>3</td>\n",
              "      <td>2.00</td>\n",
              "      <td>1330</td>\n",
              "      <td>6490</td>\n",
              "      <td>1.0</td>\n",
              "      <td>0</td>\n",
              "      <td>0</td>\n",
              "      <td>...</td>\n",
              "      <td>7</td>\n",
              "      <td>1330</td>\n",
              "      <td>0</td>\n",
              "      <td>1954</td>\n",
              "      <td>0</td>\n",
              "      <td>98125</td>\n",
              "      <td>47.7181</td>\n",
              "      <td>-122.308</td>\n",
              "      <td>1580</td>\n",
              "      <td>7202</td>\n",
              "    </tr>\n",
              "    <tr>\n",
              "      <th>16954</th>\n",
              "      <td>1703050500</td>\n",
              "      <td>20150321T000000</td>\n",
              "      <td>645000.0</td>\n",
              "      <td>3</td>\n",
              "      <td>2.50</td>\n",
              "      <td>2490</td>\n",
              "      <td>5978</td>\n",
              "      <td>2.0</td>\n",
              "      <td>0</td>\n",
              "      <td>0</td>\n",
              "      <td>...</td>\n",
              "      <td>9</td>\n",
              "      <td>2490</td>\n",
              "      <td>0</td>\n",
              "      <td>2003</td>\n",
              "      <td>0</td>\n",
              "      <td>98074</td>\n",
              "      <td>47.6298</td>\n",
              "      <td>-122.022</td>\n",
              "      <td>2710</td>\n",
              "      <td>6629</td>\n",
              "    </tr>\n",
              "    <tr>\n",
              "      <th>2518</th>\n",
              "      <td>9412900045</td>\n",
              "      <td>20140519T000000</td>\n",
              "      <td>462000.0</td>\n",
              "      <td>3</td>\n",
              "      <td>1.50</td>\n",
              "      <td>1710</td>\n",
              "      <td>4500</td>\n",
              "      <td>1.5</td>\n",
              "      <td>0</td>\n",
              "      <td>0</td>\n",
              "      <td>...</td>\n",
              "      <td>8</td>\n",
              "      <td>1410</td>\n",
              "      <td>300</td>\n",
              "      <td>1928</td>\n",
              "      <td>0</td>\n",
              "      <td>98118</td>\n",
              "      <td>47.5366</td>\n",
              "      <td>-122.268</td>\n",
              "      <td>1860</td>\n",
              "      <td>6000</td>\n",
              "    </tr>\n",
              "    <tr>\n",
              "      <th>12999</th>\n",
              "      <td>1402600040</td>\n",
              "      <td>20140825T000000</td>\n",
              "      <td>330000.0</td>\n",
              "      <td>4</td>\n",
              "      <td>2.25</td>\n",
              "      <td>2430</td>\n",
              "      <td>7490</td>\n",
              "      <td>2.0</td>\n",
              "      <td>0</td>\n",
              "      <td>0</td>\n",
              "      <td>...</td>\n",
              "      <td>8</td>\n",
              "      <td>2430</td>\n",
              "      <td>0</td>\n",
              "      <td>1983</td>\n",
              "      <td>0</td>\n",
              "      <td>98058</td>\n",
              "      <td>47.4406</td>\n",
              "      <td>-122.139</td>\n",
              "      <td>2070</td>\n",
              "      <td>7469</td>\n",
              "    </tr>\n",
              "    <tr>\n",
              "      <th>18524</th>\n",
              "      <td>8807810090</td>\n",
              "      <td>20140925T000000</td>\n",
              "      <td>335000.0</td>\n",
              "      <td>3</td>\n",
              "      <td>1.00</td>\n",
              "      <td>1350</td>\n",
              "      <td>14212</td>\n",
              "      <td>1.0</td>\n",
              "      <td>0</td>\n",
              "      <td>0</td>\n",
              "      <td>...</td>\n",
              "      <td>6</td>\n",
              "      <td>1350</td>\n",
              "      <td>0</td>\n",
              "      <td>1981</td>\n",
              "      <td>0</td>\n",
              "      <td>98053</td>\n",
              "      <td>47.6606</td>\n",
              "      <td>-122.060</td>\n",
              "      <td>1520</td>\n",
              "      <td>14404</td>\n",
              "    </tr>\n",
              "    <tr>\n",
              "      <th>10015</th>\n",
              "      <td>1645000710</td>\n",
              "      <td>20150410T000000</td>\n",
              "      <td>255000.0</td>\n",
              "      <td>3</td>\n",
              "      <td>1.00</td>\n",
              "      <td>1140</td>\n",
              "      <td>8528</td>\n",
              "      <td>1.0</td>\n",
              "      <td>0</td>\n",
              "      <td>0</td>\n",
              "      <td>...</td>\n",
              "      <td>7</td>\n",
              "      <td>1140</td>\n",
              "      <td>0</td>\n",
              "      <td>1967</td>\n",
              "      <td>0</td>\n",
              "      <td>98022</td>\n",
              "      <td>47.2098</td>\n",
              "      <td>-122.004</td>\n",
              "      <td>1140</td>\n",
              "      <td>8112</td>\n",
              "    </tr>\n",
              "    <tr>\n",
              "      <th>18039</th>\n",
              "      <td>2571910100</td>\n",
              "      <td>20141029T000000</td>\n",
              "      <td>344000.0</td>\n",
              "      <td>4</td>\n",
              "      <td>2.50</td>\n",
              "      <td>2100</td>\n",
              "      <td>8501</td>\n",
              "      <td>2.0</td>\n",
              "      <td>0</td>\n",
              "      <td>0</td>\n",
              "      <td>...</td>\n",
              "      <td>7</td>\n",
              "      <td>2100</td>\n",
              "      <td>0</td>\n",
              "      <td>1993</td>\n",
              "      <td>0</td>\n",
              "      <td>98022</td>\n",
              "      <td>47.1951</td>\n",
              "      <td>-122.010</td>\n",
              "      <td>2130</td>\n",
              "      <td>8560</td>\n",
              "    </tr>\n",
              "    <tr>\n",
              "      <th>16579</th>\n",
              "      <td>984210170</td>\n",
              "      <td>20150326T000000</td>\n",
              "      <td>256500.0</td>\n",
              "      <td>5</td>\n",
              "      <td>2.50</td>\n",
              "      <td>1960</td>\n",
              "      <td>7350</td>\n",
              "      <td>1.0</td>\n",
              "      <td>0</td>\n",
              "      <td>0</td>\n",
              "      <td>...</td>\n",
              "      <td>7</td>\n",
              "      <td>1360</td>\n",
              "      <td>600</td>\n",
              "      <td>1969</td>\n",
              "      <td>0</td>\n",
              "      <td>98058</td>\n",
              "      <td>47.4368</td>\n",
              "      <td>-122.165</td>\n",
              "      <td>1900</td>\n",
              "      <td>7350</td>\n",
              "    </tr>\n",
              "  </tbody>\n",
              "</table>\n",
              "<p>10 rows × 21 columns</p>\n",
              "</div>\n",
              "      <button class=\"colab-df-convert\" onclick=\"convertToInteractive('df-b1b0b220-0471-40f2-b891-5b46c2551a61')\"\n",
              "              title=\"Convert this dataframe to an interactive table.\"\n",
              "              style=\"display:none;\">\n",
              "        \n",
              "  <svg xmlns=\"http://www.w3.org/2000/svg\" height=\"24px\"viewBox=\"0 0 24 24\"\n",
              "       width=\"24px\">\n",
              "    <path d=\"M0 0h24v24H0V0z\" fill=\"none\"/>\n",
              "    <path d=\"M18.56 5.44l.94 2.06.94-2.06 2.06-.94-2.06-.94-.94-2.06-.94 2.06-2.06.94zm-11 1L8.5 8.5l.94-2.06 2.06-.94-2.06-.94L8.5 2.5l-.94 2.06-2.06.94zm10 10l.94 2.06.94-2.06 2.06-.94-2.06-.94-.94-2.06-.94 2.06-2.06.94z\"/><path d=\"M17.41 7.96l-1.37-1.37c-.4-.4-.92-.59-1.43-.59-.52 0-1.04.2-1.43.59L10.3 9.45l-7.72 7.72c-.78.78-.78 2.05 0 2.83L4 21.41c.39.39.9.59 1.41.59.51 0 1.02-.2 1.41-.59l7.78-7.78 2.81-2.81c.8-.78.8-2.07 0-2.86zM5.41 20L4 18.59l7.72-7.72 1.47 1.35L5.41 20z\"/>\n",
              "  </svg>\n",
              "      </button>\n",
              "      \n",
              "  <style>\n",
              "    .colab-df-container {\n",
              "      display:flex;\n",
              "      flex-wrap:wrap;\n",
              "      gap: 12px;\n",
              "    }\n",
              "\n",
              "    .colab-df-convert {\n",
              "      background-color: #E8F0FE;\n",
              "      border: none;\n",
              "      border-radius: 50%;\n",
              "      cursor: pointer;\n",
              "      display: none;\n",
              "      fill: #1967D2;\n",
              "      height: 32px;\n",
              "      padding: 0 0 0 0;\n",
              "      width: 32px;\n",
              "    }\n",
              "\n",
              "    .colab-df-convert:hover {\n",
              "      background-color: #E2EBFA;\n",
              "      box-shadow: 0px 1px 2px rgba(60, 64, 67, 0.3), 0px 1px 3px 1px rgba(60, 64, 67, 0.15);\n",
              "      fill: #174EA6;\n",
              "    }\n",
              "\n",
              "    [theme=dark] .colab-df-convert {\n",
              "      background-color: #3B4455;\n",
              "      fill: #D2E3FC;\n",
              "    }\n",
              "\n",
              "    [theme=dark] .colab-df-convert:hover {\n",
              "      background-color: #434B5C;\n",
              "      box-shadow: 0px 1px 3px 1px rgba(0, 0, 0, 0.15);\n",
              "      filter: drop-shadow(0px 1px 2px rgba(0, 0, 0, 0.3));\n",
              "      fill: #FFFFFF;\n",
              "    }\n",
              "  </style>\n",
              "\n",
              "      <script>\n",
              "        const buttonEl =\n",
              "          document.querySelector('#df-b1b0b220-0471-40f2-b891-5b46c2551a61 button.colab-df-convert');\n",
              "        buttonEl.style.display =\n",
              "          google.colab.kernel.accessAllowed ? 'block' : 'none';\n",
              "\n",
              "        async function convertToInteractive(key) {\n",
              "          const element = document.querySelector('#df-b1b0b220-0471-40f2-b891-5b46c2551a61');\n",
              "          const dataTable =\n",
              "            await google.colab.kernel.invokeFunction('convertToInteractive',\n",
              "                                                     [key], {});\n",
              "          if (!dataTable) return;\n",
              "\n",
              "          const docLinkHtml = 'Like what you see? Visit the ' +\n",
              "            '<a target=\"_blank\" href=https://colab.research.google.com/notebooks/data_table.ipynb>data table notebook</a>'\n",
              "            + ' to learn more about interactive tables.';\n",
              "          element.innerHTML = '';\n",
              "          dataTable['output_type'] = 'display_data';\n",
              "          await google.colab.output.renderOutput(dataTable, element);\n",
              "          const docLink = document.createElement('div');\n",
              "          docLink.innerHTML = docLinkHtml;\n",
              "          element.appendChild(docLink);\n",
              "        }\n",
              "      </script>\n",
              "    </div>\n",
              "  </div>\n",
              "  "
            ]
          },
          "metadata": {},
          "execution_count": 169
        }
      ]
    },
    {
      "cell_type": "code",
      "source": [
        "df.info()"
      ],
      "metadata": {
        "id": "n0fs14KoqI3M",
        "colab": {
          "base_uri": "https://localhost:8080/"
        },
        "outputId": "640a0cb9-208a-40a1-a98f-232bf8b66c21"
      },
      "execution_count": 170,
      "outputs": [
        {
          "output_type": "stream",
          "name": "stdout",
          "text": [
            "<class 'pandas.core.frame.DataFrame'>\n",
            "RangeIndex: 21613 entries, 0 to 21612\n",
            "Data columns (total 21 columns):\n",
            " #   Column         Non-Null Count  Dtype  \n",
            "---  ------         --------------  -----  \n",
            " 0   id             21613 non-null  int64  \n",
            " 1   date           21613 non-null  object \n",
            " 2   price          21613 non-null  float64\n",
            " 3   bedrooms       21613 non-null  int64  \n",
            " 4   bathrooms      21613 non-null  float64\n",
            " 5   sqft_living    21613 non-null  int64  \n",
            " 6   sqft_lot       21613 non-null  int64  \n",
            " 7   floors         21613 non-null  float64\n",
            " 8   waterfront     21613 non-null  int64  \n",
            " 9   view           21613 non-null  int64  \n",
            " 10  condition      21613 non-null  int64  \n",
            " 11  grade          21613 non-null  int64  \n",
            " 12  sqft_above     21613 non-null  int64  \n",
            " 13  sqft_basement  21613 non-null  int64  \n",
            " 14  yr_built       21613 non-null  int64  \n",
            " 15  yr_renovated   21613 non-null  int64  \n",
            " 16  zipcode        21613 non-null  int64  \n",
            " 17  lat            21613 non-null  float64\n",
            " 18  long           21613 non-null  float64\n",
            " 19  sqft_living15  21613 non-null  int64  \n",
            " 20  sqft_lot15     21613 non-null  int64  \n",
            "dtypes: float64(5), int64(15), object(1)\n",
            "memory usage: 3.5+ MB\n"
          ]
        }
      ]
    },
    {
      "cell_type": "code",
      "source": [
        "df.describe()"
      ],
      "metadata": {
        "id": "1PNzDJZeqKhe",
        "colab": {
          "base_uri": "https://localhost:8080/",
          "height": 364
        },
        "outputId": "b672cb03-3ef0-4149-b98b-07d6f120019a"
      },
      "execution_count": 171,
      "outputs": [
        {
          "output_type": "execute_result",
          "data": {
            "text/plain": [
              "                 id         price      bedrooms     bathrooms   sqft_living  \\\n",
              "count  2.161300e+04  2.161300e+04  21613.000000  21613.000000  21613.000000   \n",
              "mean   4.580302e+09  5.400881e+05      3.370842      2.114757   2079.899736   \n",
              "std    2.876566e+09  3.671272e+05      0.930062      0.770163    918.440897   \n",
              "min    1.000102e+06  7.500000e+04      0.000000      0.000000    290.000000   \n",
              "25%    2.123049e+09  3.219500e+05      3.000000      1.750000   1427.000000   \n",
              "50%    3.904930e+09  4.500000e+05      3.000000      2.250000   1910.000000   \n",
              "75%    7.308900e+09  6.450000e+05      4.000000      2.500000   2550.000000   \n",
              "max    9.900000e+09  7.700000e+06     33.000000      8.000000  13540.000000   \n",
              "\n",
              "           sqft_lot        floors    waterfront          view     condition  \\\n",
              "count  2.161300e+04  21613.000000  21613.000000  21613.000000  21613.000000   \n",
              "mean   1.510697e+04      1.494309      0.007542      0.234303      3.409430   \n",
              "std    4.142051e+04      0.539989      0.086517      0.766318      0.650743   \n",
              "min    5.200000e+02      1.000000      0.000000      0.000000      1.000000   \n",
              "25%    5.040000e+03      1.000000      0.000000      0.000000      3.000000   \n",
              "50%    7.618000e+03      1.500000      0.000000      0.000000      3.000000   \n",
              "75%    1.068800e+04      2.000000      0.000000      0.000000      4.000000   \n",
              "max    1.651359e+06      3.500000      1.000000      4.000000      5.000000   \n",
              "\n",
              "              grade    sqft_above  sqft_basement      yr_built  yr_renovated  \\\n",
              "count  21613.000000  21613.000000   21613.000000  21613.000000  21613.000000   \n",
              "mean       7.656873   1788.390691     291.509045   1971.005136     84.402258   \n",
              "std        1.175459    828.090978     442.575043     29.373411    401.679240   \n",
              "min        1.000000    290.000000       0.000000   1900.000000      0.000000   \n",
              "25%        7.000000   1190.000000       0.000000   1951.000000      0.000000   \n",
              "50%        7.000000   1560.000000       0.000000   1975.000000      0.000000   \n",
              "75%        8.000000   2210.000000     560.000000   1997.000000      0.000000   \n",
              "max       13.000000   9410.000000    4820.000000   2015.000000   2015.000000   \n",
              "\n",
              "            zipcode           lat          long  sqft_living15     sqft_lot15  \n",
              "count  21613.000000  21613.000000  21613.000000   21613.000000   21613.000000  \n",
              "mean   98077.939805     47.560053   -122.213896    1986.552492   12768.455652  \n",
              "std       53.505026      0.138564      0.140828     685.391304   27304.179631  \n",
              "min    98001.000000     47.155900   -122.519000     399.000000     651.000000  \n",
              "25%    98033.000000     47.471000   -122.328000    1490.000000    5100.000000  \n",
              "50%    98065.000000     47.571800   -122.230000    1840.000000    7620.000000  \n",
              "75%    98118.000000     47.678000   -122.125000    2360.000000   10083.000000  \n",
              "max    98199.000000     47.777600   -121.315000    6210.000000  871200.000000  "
            ],
            "text/html": [
              "\n",
              "  <div id=\"df-6c8eed8a-e442-4088-90e5-7d52f6e2b22a\">\n",
              "    <div class=\"colab-df-container\">\n",
              "      <div>\n",
              "<style scoped>\n",
              "    .dataframe tbody tr th:only-of-type {\n",
              "        vertical-align: middle;\n",
              "    }\n",
              "\n",
              "    .dataframe tbody tr th {\n",
              "        vertical-align: top;\n",
              "    }\n",
              "\n",
              "    .dataframe thead th {\n",
              "        text-align: right;\n",
              "    }\n",
              "</style>\n",
              "<table border=\"1\" class=\"dataframe\">\n",
              "  <thead>\n",
              "    <tr style=\"text-align: right;\">\n",
              "      <th></th>\n",
              "      <th>id</th>\n",
              "      <th>price</th>\n",
              "      <th>bedrooms</th>\n",
              "      <th>bathrooms</th>\n",
              "      <th>sqft_living</th>\n",
              "      <th>sqft_lot</th>\n",
              "      <th>floors</th>\n",
              "      <th>waterfront</th>\n",
              "      <th>view</th>\n",
              "      <th>condition</th>\n",
              "      <th>grade</th>\n",
              "      <th>sqft_above</th>\n",
              "      <th>sqft_basement</th>\n",
              "      <th>yr_built</th>\n",
              "      <th>yr_renovated</th>\n",
              "      <th>zipcode</th>\n",
              "      <th>lat</th>\n",
              "      <th>long</th>\n",
              "      <th>sqft_living15</th>\n",
              "      <th>sqft_lot15</th>\n",
              "    </tr>\n",
              "  </thead>\n",
              "  <tbody>\n",
              "    <tr>\n",
              "      <th>count</th>\n",
              "      <td>2.161300e+04</td>\n",
              "      <td>2.161300e+04</td>\n",
              "      <td>21613.000000</td>\n",
              "      <td>21613.000000</td>\n",
              "      <td>21613.000000</td>\n",
              "      <td>2.161300e+04</td>\n",
              "      <td>21613.000000</td>\n",
              "      <td>21613.000000</td>\n",
              "      <td>21613.000000</td>\n",
              "      <td>21613.000000</td>\n",
              "      <td>21613.000000</td>\n",
              "      <td>21613.000000</td>\n",
              "      <td>21613.000000</td>\n",
              "      <td>21613.000000</td>\n",
              "      <td>21613.000000</td>\n",
              "      <td>21613.000000</td>\n",
              "      <td>21613.000000</td>\n",
              "      <td>21613.000000</td>\n",
              "      <td>21613.000000</td>\n",
              "      <td>21613.000000</td>\n",
              "    </tr>\n",
              "    <tr>\n",
              "      <th>mean</th>\n",
              "      <td>4.580302e+09</td>\n",
              "      <td>5.400881e+05</td>\n",
              "      <td>3.370842</td>\n",
              "      <td>2.114757</td>\n",
              "      <td>2079.899736</td>\n",
              "      <td>1.510697e+04</td>\n",
              "      <td>1.494309</td>\n",
              "      <td>0.007542</td>\n",
              "      <td>0.234303</td>\n",
              "      <td>3.409430</td>\n",
              "      <td>7.656873</td>\n",
              "      <td>1788.390691</td>\n",
              "      <td>291.509045</td>\n",
              "      <td>1971.005136</td>\n",
              "      <td>84.402258</td>\n",
              "      <td>98077.939805</td>\n",
              "      <td>47.560053</td>\n",
              "      <td>-122.213896</td>\n",
              "      <td>1986.552492</td>\n",
              "      <td>12768.455652</td>\n",
              "    </tr>\n",
              "    <tr>\n",
              "      <th>std</th>\n",
              "      <td>2.876566e+09</td>\n",
              "      <td>3.671272e+05</td>\n",
              "      <td>0.930062</td>\n",
              "      <td>0.770163</td>\n",
              "      <td>918.440897</td>\n",
              "      <td>4.142051e+04</td>\n",
              "      <td>0.539989</td>\n",
              "      <td>0.086517</td>\n",
              "      <td>0.766318</td>\n",
              "      <td>0.650743</td>\n",
              "      <td>1.175459</td>\n",
              "      <td>828.090978</td>\n",
              "      <td>442.575043</td>\n",
              "      <td>29.373411</td>\n",
              "      <td>401.679240</td>\n",
              "      <td>53.505026</td>\n",
              "      <td>0.138564</td>\n",
              "      <td>0.140828</td>\n",
              "      <td>685.391304</td>\n",
              "      <td>27304.179631</td>\n",
              "    </tr>\n",
              "    <tr>\n",
              "      <th>min</th>\n",
              "      <td>1.000102e+06</td>\n",
              "      <td>7.500000e+04</td>\n",
              "      <td>0.000000</td>\n",
              "      <td>0.000000</td>\n",
              "      <td>290.000000</td>\n",
              "      <td>5.200000e+02</td>\n",
              "      <td>1.000000</td>\n",
              "      <td>0.000000</td>\n",
              "      <td>0.000000</td>\n",
              "      <td>1.000000</td>\n",
              "      <td>1.000000</td>\n",
              "      <td>290.000000</td>\n",
              "      <td>0.000000</td>\n",
              "      <td>1900.000000</td>\n",
              "      <td>0.000000</td>\n",
              "      <td>98001.000000</td>\n",
              "      <td>47.155900</td>\n",
              "      <td>-122.519000</td>\n",
              "      <td>399.000000</td>\n",
              "      <td>651.000000</td>\n",
              "    </tr>\n",
              "    <tr>\n",
              "      <th>25%</th>\n",
              "      <td>2.123049e+09</td>\n",
              "      <td>3.219500e+05</td>\n",
              "      <td>3.000000</td>\n",
              "      <td>1.750000</td>\n",
              "      <td>1427.000000</td>\n",
              "      <td>5.040000e+03</td>\n",
              "      <td>1.000000</td>\n",
              "      <td>0.000000</td>\n",
              "      <td>0.000000</td>\n",
              "      <td>3.000000</td>\n",
              "      <td>7.000000</td>\n",
              "      <td>1190.000000</td>\n",
              "      <td>0.000000</td>\n",
              "      <td>1951.000000</td>\n",
              "      <td>0.000000</td>\n",
              "      <td>98033.000000</td>\n",
              "      <td>47.471000</td>\n",
              "      <td>-122.328000</td>\n",
              "      <td>1490.000000</td>\n",
              "      <td>5100.000000</td>\n",
              "    </tr>\n",
              "    <tr>\n",
              "      <th>50%</th>\n",
              "      <td>3.904930e+09</td>\n",
              "      <td>4.500000e+05</td>\n",
              "      <td>3.000000</td>\n",
              "      <td>2.250000</td>\n",
              "      <td>1910.000000</td>\n",
              "      <td>7.618000e+03</td>\n",
              "      <td>1.500000</td>\n",
              "      <td>0.000000</td>\n",
              "      <td>0.000000</td>\n",
              "      <td>3.000000</td>\n",
              "      <td>7.000000</td>\n",
              "      <td>1560.000000</td>\n",
              "      <td>0.000000</td>\n",
              "      <td>1975.000000</td>\n",
              "      <td>0.000000</td>\n",
              "      <td>98065.000000</td>\n",
              "      <td>47.571800</td>\n",
              "      <td>-122.230000</td>\n",
              "      <td>1840.000000</td>\n",
              "      <td>7620.000000</td>\n",
              "    </tr>\n",
              "    <tr>\n",
              "      <th>75%</th>\n",
              "      <td>7.308900e+09</td>\n",
              "      <td>6.450000e+05</td>\n",
              "      <td>4.000000</td>\n",
              "      <td>2.500000</td>\n",
              "      <td>2550.000000</td>\n",
              "      <td>1.068800e+04</td>\n",
              "      <td>2.000000</td>\n",
              "      <td>0.000000</td>\n",
              "      <td>0.000000</td>\n",
              "      <td>4.000000</td>\n",
              "      <td>8.000000</td>\n",
              "      <td>2210.000000</td>\n",
              "      <td>560.000000</td>\n",
              "      <td>1997.000000</td>\n",
              "      <td>0.000000</td>\n",
              "      <td>98118.000000</td>\n",
              "      <td>47.678000</td>\n",
              "      <td>-122.125000</td>\n",
              "      <td>2360.000000</td>\n",
              "      <td>10083.000000</td>\n",
              "    </tr>\n",
              "    <tr>\n",
              "      <th>max</th>\n",
              "      <td>9.900000e+09</td>\n",
              "      <td>7.700000e+06</td>\n",
              "      <td>33.000000</td>\n",
              "      <td>8.000000</td>\n",
              "      <td>13540.000000</td>\n",
              "      <td>1.651359e+06</td>\n",
              "      <td>3.500000</td>\n",
              "      <td>1.000000</td>\n",
              "      <td>4.000000</td>\n",
              "      <td>5.000000</td>\n",
              "      <td>13.000000</td>\n",
              "      <td>9410.000000</td>\n",
              "      <td>4820.000000</td>\n",
              "      <td>2015.000000</td>\n",
              "      <td>2015.000000</td>\n",
              "      <td>98199.000000</td>\n",
              "      <td>47.777600</td>\n",
              "      <td>-121.315000</td>\n",
              "      <td>6210.000000</td>\n",
              "      <td>871200.000000</td>\n",
              "    </tr>\n",
              "  </tbody>\n",
              "</table>\n",
              "</div>\n",
              "      <button class=\"colab-df-convert\" onclick=\"convertToInteractive('df-6c8eed8a-e442-4088-90e5-7d52f6e2b22a')\"\n",
              "              title=\"Convert this dataframe to an interactive table.\"\n",
              "              style=\"display:none;\">\n",
              "        \n",
              "  <svg xmlns=\"http://www.w3.org/2000/svg\" height=\"24px\"viewBox=\"0 0 24 24\"\n",
              "       width=\"24px\">\n",
              "    <path d=\"M0 0h24v24H0V0z\" fill=\"none\"/>\n",
              "    <path d=\"M18.56 5.44l.94 2.06.94-2.06 2.06-.94-2.06-.94-.94-2.06-.94 2.06-2.06.94zm-11 1L8.5 8.5l.94-2.06 2.06-.94-2.06-.94L8.5 2.5l-.94 2.06-2.06.94zm10 10l.94 2.06.94-2.06 2.06-.94-2.06-.94-.94-2.06-.94 2.06-2.06.94z\"/><path d=\"M17.41 7.96l-1.37-1.37c-.4-.4-.92-.59-1.43-.59-.52 0-1.04.2-1.43.59L10.3 9.45l-7.72 7.72c-.78.78-.78 2.05 0 2.83L4 21.41c.39.39.9.59 1.41.59.51 0 1.02-.2 1.41-.59l7.78-7.78 2.81-2.81c.8-.78.8-2.07 0-2.86zM5.41 20L4 18.59l7.72-7.72 1.47 1.35L5.41 20z\"/>\n",
              "  </svg>\n",
              "      </button>\n",
              "      \n",
              "  <style>\n",
              "    .colab-df-container {\n",
              "      display:flex;\n",
              "      flex-wrap:wrap;\n",
              "      gap: 12px;\n",
              "    }\n",
              "\n",
              "    .colab-df-convert {\n",
              "      background-color: #E8F0FE;\n",
              "      border: none;\n",
              "      border-radius: 50%;\n",
              "      cursor: pointer;\n",
              "      display: none;\n",
              "      fill: #1967D2;\n",
              "      height: 32px;\n",
              "      padding: 0 0 0 0;\n",
              "      width: 32px;\n",
              "    }\n",
              "\n",
              "    .colab-df-convert:hover {\n",
              "      background-color: #E2EBFA;\n",
              "      box-shadow: 0px 1px 2px rgba(60, 64, 67, 0.3), 0px 1px 3px 1px rgba(60, 64, 67, 0.15);\n",
              "      fill: #174EA6;\n",
              "    }\n",
              "\n",
              "    [theme=dark] .colab-df-convert {\n",
              "      background-color: #3B4455;\n",
              "      fill: #D2E3FC;\n",
              "    }\n",
              "\n",
              "    [theme=dark] .colab-df-convert:hover {\n",
              "      background-color: #434B5C;\n",
              "      box-shadow: 0px 1px 3px 1px rgba(0, 0, 0, 0.15);\n",
              "      filter: drop-shadow(0px 1px 2px rgba(0, 0, 0, 0.3));\n",
              "      fill: #FFFFFF;\n",
              "    }\n",
              "  </style>\n",
              "\n",
              "      <script>\n",
              "        const buttonEl =\n",
              "          document.querySelector('#df-6c8eed8a-e442-4088-90e5-7d52f6e2b22a button.colab-df-convert');\n",
              "        buttonEl.style.display =\n",
              "          google.colab.kernel.accessAllowed ? 'block' : 'none';\n",
              "\n",
              "        async function convertToInteractive(key) {\n",
              "          const element = document.querySelector('#df-6c8eed8a-e442-4088-90e5-7d52f6e2b22a');\n",
              "          const dataTable =\n",
              "            await google.colab.kernel.invokeFunction('convertToInteractive',\n",
              "                                                     [key], {});\n",
              "          if (!dataTable) return;\n",
              "\n",
              "          const docLinkHtml = 'Like what you see? Visit the ' +\n",
              "            '<a target=\"_blank\" href=https://colab.research.google.com/notebooks/data_table.ipynb>data table notebook</a>'\n",
              "            + ' to learn more about interactive tables.';\n",
              "          element.innerHTML = '';\n",
              "          dataTable['output_type'] = 'display_data';\n",
              "          await google.colab.output.renderOutput(dataTable, element);\n",
              "          const docLink = document.createElement('div');\n",
              "          docLink.innerHTML = docLinkHtml;\n",
              "          element.appendChild(docLink);\n",
              "        }\n",
              "      </script>\n",
              "    </div>\n",
              "  </div>\n",
              "  "
            ]
          },
          "metadata": {},
          "execution_count": 171
        }
      ]
    },
    {
      "cell_type": "code",
      "source": [
        "df.drop('id', axis = 1, inplace = True)\n",
        "df.drop('date', axis = 1, inplace = True)\n",
        "df.drop('zipcode', axis = 1, inplace = True)\n",
        "df.drop('lat', axis = 1, inplace = True)\n",
        "df.drop('long', axis = 1, inplace = True)\n"
      ],
      "metadata": {
        "id": "0KUD8T08qMmq"
      },
      "execution_count": 172,
      "outputs": []
    },
    {
      "cell_type": "code",
      "source": [
        "plt.figure(figsize=(12,8)) \n",
        "sns.heatmap(df.corr(), annot=True, cmap='Dark2_r', linewidths = 2)\n",
        "plt.show()"
      ],
      "metadata": {
        "id": "r-jk_nHmqKpp",
        "colab": {
          "base_uri": "https://localhost:8080/",
          "height": 561
        },
        "outputId": "2a049e29-0712-4c05-f4cc-677c6b59bf91"
      },
      "execution_count": 173,
      "outputs": [
        {
          "output_type": "display_data",
          "data": {
            "text/plain": [
              "<Figure size 864x576 with 2 Axes>"
            ],
            "image/png": "[encoded data removed]"
          },
          "metadata": {}
        }
      ]
    },
    {
      "cell_type": "code",
      "source": [
        "columns = df.columns.drop('price')\n",
        "\n",
        "features = columns\n",
        "label = ['price']\n",
        "\n",
        "X = df[features]\n",
        "y = df[label]"
      ],
      "metadata": {
        "id": "p4zqCnFwq7Oc"
      },
      "execution_count": 174,
      "outputs": []
    },
    {
      "cell_type": "markdown",
      "source": [
        "### Divide los datos. Utiliza la función train_test_split (ya esta en el notebook)."
      ],
      "metadata": {
        "id": "2fxk0FY6Yl6T"
      }
    },
    {
      "cell_type": "code",
      "source": [
        "from sklearn.model_selection import train_test_split\n",
        "X_train, X_test, y_train, y_test = train_test_split(X, y, test_size = 0.1, random_state = 101)\n",
        "\n",
        "print(f'Numero total de registros en la bdd: {len(X)}')\n",
        "print(\"*****\"*10)\n",
        "print(f'Numero total de registros en el training set: {len(X_train)}')\n",
        "print(f'Tamaño de X_train: {X_train.shape}')\n",
        "print(\"*****\"*10)\n",
        "print(f'Mumero total de registros en el test dataset: {len(X_test)}')\n",
        "print(f'Tamaño del X_test: {X_test.shape}')"
      ],
      "metadata": {
        "id": "p91PEVPLq93-",
        "colab": {
          "base_uri": "https://localhost:8080/"
        },
        "outputId": "49df6291-c98a-41db-85cc-b21e33c8875b"
      },
      "execution_count": 175,
      "outputs": [
        {
          "output_type": "stream",
          "name": "stdout",
          "text": [
            "Numero total de registros en la bdd: 21613\n",
            "**************************************************\n",
            "Numero total de registros en el training set: 19451\n",
            "Tamaño de X_train: (19451, 15)\n",
            "**************************************************\n",
            "Mumero total de registros en el test dataset: 2162\n",
            "Tamaño del X_test: (2162, 15)\n"
          ]
        }
      ]
    },
    {
      "cell_type": "markdown",
      "source": [
        "### Regresión Múltiple Lineal"
      ],
      "metadata": {
        "id": "5qFyN0yDYtGA"
      }
    },
    {
      "cell_type": "markdown",
      "source": [
        "Realiza la regresión lineal: modelo generado (ecuación), su visualización, sus errores y r cuadrada."
      ],
      "metadata": {
        "id": "LQAVEIq6YtGB"
      }
    },
    {
      "cell_type": "markdown",
      "source": [
        "* Modelo generado (ecuación)"
      ],
      "metadata": {
        "id": "kqmulMeQYtGB"
      }
    },
    {
      "cell_type": "markdown",
      "source": [
        "Entrenamos el modelo:"
      ],
      "metadata": {
        "id": "ibtDUeiaYtGB"
      }
    },
    {
      "cell_type": "code",
      "source": [
        "linear_reg = LinearRegression(fit_intercept=True)\n",
        "linear_reg.fit(X_train, y_train)"
      ],
      "metadata": {
        "colab": {
          "base_uri": "https://localhost:8080/"
        },
        "outputId": "1e12b253-40b4-4295-9c9f-d87871ba2660",
        "id": "788BhFovYtGB"
      },
      "execution_count": 176,
      "outputs": [
        {
          "output_type": "execute_result",
          "data": {
            "text/plain": [
              "LinearRegression()"
            ]
          },
          "metadata": {},
          "execution_count": 176
        }
      ]
    },
    {
      "cell_type": "markdown",
      "source": [
        "Obtenemos coeficientes e intercepción con el eje:"
      ],
      "metadata": {
        "id": "xSfZwNtRYtGB"
      }
    },
    {
      "cell_type": "code",
      "source": [
        "coef_inter(linear_reg)"
      ],
      "metadata": {
        "colab": {
          "base_uri": "https://localhost:8080/"
        },
        "outputId": "6426d55b-6ffd-4571-8455-b2be0b5e0ac2",
        "id": "qHwT84jPYtGC"
      },
      "execution_count": 177,
      "outputs": [
        {
          "output_type": "stream",
          "name": "stdout",
          "text": [
            "Coeficientes: [[-3.82008048e+04  4.14661380e+04  1.07992584e+02  1.71356997e-02\n",
            "   3.16916913e+04  5.52691023e+05  4.12493228e+04  2.12221443e+04\n",
            "   1.19493216e+05  4.77750271e+01  6.02175565e+01 -3.55090216e+03\n",
            "   1.32602215e+01  2.90059284e+01 -5.48132603e-01]]\n",
            "Intercept: [6151359.2627409]\n"
          ]
        }
      ]
    },
    {
      "cell_type": "markdown",
      "source": [
        "Obtenemos sus predicciones para datos de entrenamiento, y datos de prueba:"
      ],
      "metadata": {
        "id": "XVIvP2HTYtGC"
      }
    },
    {
      "cell_type": "code",
      "source": [
        "yhat_train, yhat_test = predict_ys(linear_reg, X_train, X_test)"
      ],
      "metadata": {
        "id": "ARkLdMqXYtGC"
      },
      "execution_count": 178,
      "outputs": []
    },
    {
      "cell_type": "markdown",
      "source": [
        "* Visualización"
      ],
      "metadata": {
        "id": "op8kmWWVYtGC"
      }
    },
    {
      "cell_type": "markdown",
      "source": [
        "No aplica ya que son múltiples variables de entrada"
      ],
      "metadata": {
        "id": "xfw-877RY-q7"
      }
    },
    {
      "cell_type": "markdown",
      "source": [
        "* Sus errores y r cuadrada"
      ],
      "metadata": {
        "id": "2S6p1EBwYtGD"
      }
    },
    {
      "cell_type": "code",
      "source": [
        "error_ejercicio1_train = list()\n",
        "error_ejercicio1_test = list()\n",
        "\n",
        "errores_test = list()\n",
        "nom_errores = ['MAE', 'RMSE', 'R2']\n",
        "\n",
        "errores_train = list()\n",
        "errores_test = list()\n",
        "errores_train, errores_test = errores(y_train,yhat_train,y_test,yhat_test)\n",
        "error_ejercicio1_train.append(errores_train)\n",
        "error_ejercicio1_test.append(errores_test)\n",
        "\n",
        "i = 0\n",
        "for error in nom_errores:\n",
        "  print(error, 'de train:', errores_train[i])\n",
        "  i = i + 1\n",
        "i = 0\n",
        "for error in nom_errores:\n",
        "  print(error, 'de train:', errores_test[i])\n",
        "  i = i + 1"
      ],
      "metadata": {
        "colab": {
          "base_uri": "https://localhost:8080/"
        },
        "outputId": "776dae4a-3d28-4511-b71d-f852a77a667e",
        "id": "dVsDoS-wYtGD"
      },
      "execution_count": 179,
      "outputs": [
        {
          "output_type": "stream",
          "name": "stdout",
          "text": [
            "MAE de train: 139269.32939115583\n",
            "RMSE de train: 214234.8822754647\n",
            "R2 de train: 0.6529196653133833\n",
            "MAE de train: 137480.1388273178\n",
            "RMSE de train: 232133.3676240749\n",
            "R2 de train: 0.6579723205007814\n"
          ]
        }
      ]
    },
    {
      "cell_type": "markdown",
      "source": [
        "### Regresión Múltiple Polinomial"
      ],
      "metadata": {
        "id": "J6_vRj9pZcTF"
      }
    },
    {
      "cell_type": "markdown",
      "source": [
        "Realiza la  regresión polinomial completa, tu modelo generado (ecuación), su visualización, sus errores y r cuadrada."
      ],
      "metadata": {
        "id": "uQno-u9KZcTG"
      }
    },
    {
      "cell_type": "markdown",
      "source": [
        "* Modelo generado (ecuación)"
      ],
      "metadata": {
        "id": "qtZKZgeSZcTG"
      }
    },
    {
      "cell_type": "code",
      "source": [
        "X_poly_train, X_poly_test = poly_transform(X, X_train, X_test, 2)"
      ],
      "metadata": {
        "id": "bBXzVUE6ZcTH"
      },
      "execution_count": 180,
      "outputs": []
    },
    {
      "cell_type": "code",
      "source": [
        "lin_reg = LinearRegression(fit_intercept=True)\n",
        "lin_reg.fit(X_poly_train, y_train)"
      ],
      "metadata": {
        "colab": {
          "base_uri": "https://localhost:8080/"
        },
        "outputId": "0ac5e4a3-b556-4baf-fcde-f28dde404020",
        "id": "1ZjKfqc-ZcTH"
      },
      "execution_count": 181,
      "outputs": [
        {
          "output_type": "execute_result",
          "data": {
            "text/plain": [
              "LinearRegression()"
            ]
          },
          "metadata": {},
          "execution_count": 181
        }
      ]
    },
    {
      "cell_type": "code",
      "source": [
        "coef_inter(lin_reg)"
      ],
      "metadata": {
        "colab": {
          "base_uri": "https://localhost:8080/"
        },
        "outputId": "d11c2503-f9c5-440f-82e6-192b724b2b9c",
        "id": "mTEiL2asZcTH"
      },
      "execution_count": 182,
      "outputs": [
        {
          "output_type": "stream",
          "name": "stdout",
          "text": [
            "Coeficientes: [[ 9.33912834e+05 -1.09330730e+06 -4.56449932e+02 -2.78686288e+01\n",
            "  -2.07407238e+06 -3.95431870e+06 -2.88638026e+05  5.58697570e+05\n",
            "   1.09864510e+06 -2.19758415e+02 -3.82034272e+02 -8.59630908e+04\n",
            "  -2.95351595e+03  3.99965710e+03 -3.40106316e+01  9.57541696e+02\n",
            "   7.49958190e+03 -1.37969466e+01 -1.84926695e-02  8.57699569e+03\n",
            "  -1.14965893e+04 -3.06588900e+02 -5.24628836e+03 -5.36788065e+03\n",
            "  -1.20757669e+00 -1.46068182e+01 -4.67099451e+02 -9.13191519e+00\n",
            "   1.72800642e+01  2.15500198e-01 -9.63429892e+03  1.53879172e+01\n",
            "  -1.35842369e-01 -2.59067293e+04  4.33707238e+04  3.82942459e+03\n",
            "  -1.07592927e+03  2.22971689e+04  1.44292325e+01  1.33928361e+00\n",
            "   5.03401980e+02 -1.70798805e+01 -1.72895923e+01 -5.56785248e-02\n",
            "   1.56185890e+00 -4.34972758e+00  4.83299456e+00  1.60303193e+02\n",
            "  -1.42711737e+01  1.31138593e+01  2.07283397e+01  2.61335089e+00\n",
            "  -4.41381412e+00 -2.20765903e+00  6.36282684e-02  3.53629072e+00\n",
            "   1.88176819e+01  3.06637958e-07  4.40839907e-01 -9.84216136e-02\n",
            "  -9.75869659e-02  9.17233241e-02  1.51960354e-01  4.34904161e+00\n",
            "   4.34926327e+00  1.37650380e-02 -1.48516006e-04  1.76864211e-04\n",
            "   1.05303479e-06  2.16116740e+04 -1.31320713e+05  1.44412938e+04\n",
            "   2.02989005e+04 -4.27844150e+03 -2.82201875e+00  7.66330754e+00\n",
            "   1.03664758e+03  2.59349503e+00 -3.20401882e+01 -5.28612817e-01\n",
            "  -3.95431899e+06 -1.60488762e+04  9.19611219e+03 -1.61637325e+05\n",
            "   1.83103328e+02 -2.28001023e+01  4.42833048e+03 -2.99177258e+01\n",
            "   1.70604193e+02 -8.13533327e-01  7.98448565e+03  7.33999963e+03\n",
            "   1.79556171e+04 -1.24963418e+01 -1.77332663e+00  7.20704241e+01\n",
            "  -9.96831512e+00  4.63359903e+00 -5.24194412e-02 -5.41914699e+02\n",
            "  -6.03821219e+03  1.16309467e+00  1.19544378e+01 -3.07074418e+02\n",
            "  -2.01997367e+01  4.63198881e+01 -2.76877580e-01  7.36624125e+03\n",
            "   9.60665725e+00  1.11459299e+01 -5.71989956e+02 -1.01345126e+01\n",
            "  -2.27554341e+01 -5.08577049e-01 -4.16987537e+00 -1.28789962e+00\n",
            "   2.44718109e+00 -2.54496408e-02 -3.53836487e+00 -1.88174913e+01\n",
            "   2.79020491e+00  2.54821210e+00 -1.88342368e-02 -3.53312599e+00\n",
            "  -1.88181978e+01  2.30599022e+01  4.06969503e-01 -2.04695891e+00\n",
            "   1.88936366e-02  1.11629336e+00  4.71190049e-02  2.55405757e-04\n",
            "   3.31517292e-02  1.11144269e-04  2.35741027e-06]]\n",
            "Intercept: [80227028.3104757]\n"
          ]
        }
      ]
    },
    {
      "cell_type": "markdown",
      "source": [
        "Obtenemos sus predicciones para datos de entrenamiento, y datos de prueba:"
      ],
      "metadata": {
        "id": "9GVlG4X8ZcTI"
      }
    },
    {
      "cell_type": "code",
      "source": [
        "yhat_train, yhat_test = predict_ys(lin_reg, X_poly_train, X_poly_test)"
      ],
      "metadata": {
        "id": "N5Dq08pqZcTI"
      },
      "execution_count": 183,
      "outputs": []
    },
    {
      "cell_type": "markdown",
      "source": [
        "* Visualización"
      ],
      "metadata": {
        "id": "V65W1lyZZcTI"
      }
    },
    {
      "cell_type": "markdown",
      "source": [
        "No aplica ya que son múltiples variables de entrada"
      ],
      "metadata": {
        "id": "B2SURQRSZnZr"
      }
    },
    {
      "cell_type": "markdown",
      "source": [
        "* Sus errores y r cuadrada"
      ],
      "metadata": {
        "id": "ZKeTPQjZZcTJ"
      }
    },
    {
      "cell_type": "code",
      "source": [
        "errores_train = list()\n",
        "errores_test = list()\n",
        "errores_train, errores_test = errores(y_train,yhat_train,y_test,yhat_test)\n",
        "error_ejercicio1_train.append(errores_train)\n",
        "error_ejercicio1_test.append(errores_test)\n",
        "\n",
        "i = 0\n",
        "for error in nom_errores:\n",
        "  print(error, 'de train:', errores_train[i])\n",
        "  i = i + 1\n",
        "i = 0\n",
        "for error in nom_errores:\n",
        "  print(error, 'de train:', errores_test[i])\n",
        "  i = i + 1"
      ],
      "metadata": {
        "colab": {
          "base_uri": "https://localhost:8080/"
        },
        "outputId": "6689fb55-1324-4017-deb8-4d741a6705f2",
        "id": "DpLLAVyXZcTJ"
      },
      "execution_count": 184,
      "outputs": [
        {
          "output_type": "stream",
          "name": "stdout",
          "text": [
            "MAE de train: 123190.80861039193\n",
            "RMSE de train: 182926.52904652644\n",
            "R2 de train: 0.7469519325162244\n",
            "MAE de train: 121314.06948173394\n",
            "RMSE de train: 186261.28575138954\n",
            "R2 de train: 0.7797929072570198\n"
          ]
        }
      ]
    },
    {
      "cell_type": "markdown",
      "source": [
        "### Ridge"
      ],
      "metadata": {
        "id": "wpOhVuxZZtuq"
      }
    },
    {
      "cell_type": "markdown",
      "source": [
        "* Modelo generado (ecuación)"
      ],
      "metadata": {
        "id": "txGzXuV_Ztuq"
      }
    },
    {
      "cell_type": "code",
      "source": [
        "X_poly_train, X_poly_test = poly_transform(X, X_train, X_test, 2)"
      ],
      "metadata": {
        "id": "b_YEdtuVZtur"
      },
      "execution_count": 185,
      "outputs": []
    },
    {
      "cell_type": "code",
      "source": [
        "ridge_model = Ridge(alpha = 10)\n",
        "ridge_model.fit(X_poly_train, y_train)"
      ],
      "metadata": {
        "colab": {
          "base_uri": "https://localhost:8080/"
        },
        "outputId": "9d6ad36c-a7f0-4e00-bab5-9082fd6efc0e",
        "id": "HZNDMMoXZtur"
      },
      "execution_count": 186,
      "outputs": [
        {
          "output_type": "execute_result",
          "data": {
            "text/plain": [
              "Ridge(alpha=10)"
            ]
          },
          "metadata": {},
          "execution_count": 186
        }
      ]
    },
    {
      "cell_type": "code",
      "source": [
        "coef_inter(ridge_model)"
      ],
      "metadata": {
        "colab": {
          "base_uri": "https://localhost:8080/"
        },
        "outputId": "55da51f5-0db6-4d24-b12c-0c7242d901b6",
        "id": "uQfHWgVQZtur"
      },
      "execution_count": 187,
      "outputs": [
        {
          "output_type": "stream",
          "name": "stdout",
          "text": [
            "Coeficientes: [[ 9.26079225e+04 -3.16202656e+04 -2.89931541e+02 -2.88124732e+01\n",
            "  -4.39153256e+04 -1.17042941e+04 -5.89524774e+04  5.01420732e+04\n",
            "   7.56827400e+04 -2.99558271e+02 -2.31775846e+00 -9.65832516e+04\n",
            "  -3.29982594e+03  4.27765913e+03 -3.32420023e+01  8.96760793e+02\n",
            "   7.95999938e+02 -4.80522580e+00 -1.97093917e-02  3.97208378e+03\n",
            "  -2.07692278e+04  2.45616536e+01 -8.57507708e+02 -5.81640632e+03\n",
            "  -6.52845822e+00 -1.83927377e+01 -3.58726026e+01 -1.60738231e+00\n",
            "   1.43659490e+01  1.83445781e-01 -3.28651083e+03  1.11513106e+01\n",
            "  -1.34894590e-01 -1.29786747e+04  4.52180461e+04  4.43372310e+03\n",
            "  -1.08031206e+04  1.48188309e+04  1.83498945e+01  4.86805884e+00\n",
            "  -9.28847015e+00 -2.67947005e+01 -9.99201617e+00 -1.94914631e-02\n",
            "   7.87817177e+00  5.80170911e+00  7.49164504e-01  1.52885346e+02\n",
            "  -1.30912225e+01  1.15055021e+01  2.28938623e+01 -1.86192579e+00\n",
            "  -1.08521677e+00 -4.30105398e+00  1.09371012e+01  2.79193593e+00\n",
            "   5.08634683e+00  3.29499473e-07  4.59090888e-01 -6.96221095e-02\n",
            "  -9.60867187e-02  1.07470892e-01  1.49538967e-01 -5.80239985e+00\n",
            "  -5.80216233e+00  1.42166353e-02 -8.41965818e-05  1.67179478e-04\n",
            "   1.09139391e-06  2.87308471e+04 -5.36939227e+04  1.10095419e+04\n",
            "   6.82842463e+03 -5.74679080e+03 -1.20419661e+00  6.91262692e+00\n",
            "   2.61944360e+01 -1.79901277e+01 -3.19376010e+01 -5.42095044e-01\n",
            "  -1.17258842e+04 -8.57629569e+03 -2.01817700e+04 -1.18293117e+05\n",
            "   1.64070441e+02  1.56346391e+01  2.54336722e+02 -6.87896349e+01\n",
            "   1.56821186e+02 -8.37413703e-01  7.58101807e+03  5.51099936e+03\n",
            "   1.87556763e+04 -1.23498714e+01 -4.18893266e+00 -4.34544661e+01\n",
            "  -1.19980919e+01  4.47016702e+00 -5.59162193e-02 -4.17218454e+02\n",
            "   4.72322606e+01  4.97000519e+00  1.26759792e+01 -5.81185268e+01\n",
            "  -1.43029791e+01  4.33329973e+01 -3.00867710e-01  5.95315412e+03\n",
            "   1.11282652e+01  1.65993326e+01 -4.39094060e+01 -1.23636885e+00\n",
            "  -2.58993172e+01 -5.41200226e-01 -6.01249182e+00 -1.27787597e+01\n",
            "   4.47476848e+00 -1.08992084e+01 -2.79223778e+00 -5.08614066e+00\n",
            "  -6.86044487e+00  4.33948995e+00 -1.08966375e+01 -2.78958164e+00\n",
            "  -5.08686219e+00  2.49515537e+01  5.57822890e-01 -2.17608457e+00\n",
            "   1.86527626e-02  1.11463192e+00  4.47924173e-02  1.71548501e-04\n",
            "   3.34774396e-02  1.35998672e-04  2.34340547e-06]]\n",
            "Intercept: [93693952.2357083]\n"
          ]
        }
      ]
    },
    {
      "cell_type": "markdown",
      "source": [
        "Obtenemos sus predicciones para datos de entrenamiento, y datos de prueba:"
      ],
      "metadata": {
        "id": "fjcQ8nD9Ztur"
      }
    },
    {
      "cell_type": "code",
      "source": [
        "yhat_train, yhat_test = predict_ys(ridge_model, X_poly_train, X_poly_test)"
      ],
      "metadata": {
        "id": "kYZqxB7BZtur"
      },
      "execution_count": 188,
      "outputs": []
    },
    {
      "cell_type": "markdown",
      "source": [
        "* Visualización"
      ],
      "metadata": {
        "id": "KP6PpEA7Ztus"
      }
    },
    {
      "cell_type": "markdown",
      "source": [
        "No aplica ya que son múltiples variables de entrada"
      ],
      "metadata": {
        "id": "5Ujj1vSVZzn7"
      }
    },
    {
      "cell_type": "markdown",
      "source": [
        "* Sus errores y r cuadrada"
      ],
      "metadata": {
        "id": "Oj_vtGU5Ztus"
      }
    },
    {
      "cell_type": "code",
      "source": [
        "errores_train = list()\n",
        "errores_test = list()\n",
        "errores_train, errores_test = errores(y_train,yhat_train,y_test,yhat_test)\n",
        "error_ejercicio1_train.append(errores_train)\n",
        "error_ejercicio1_test.append(errores_test)\n",
        "\n",
        "i = 0\n",
        "for error in nom_errores:\n",
        "  print(error, 'de train:', errores_train[i])\n",
        "  i = i + 1\n",
        "i = 0\n",
        "for error in nom_errores:\n",
        "  print(error, 'de train:', errores_test[i])\n",
        "  i = i + 1"
      ],
      "metadata": {
        "outputId": "2654e1e5-35fb-4a48-9944-b8759c4cbd3d",
        "colab": {
          "base_uri": "https://localhost:8080/"
        },
        "id": "GRF3DgIiZtus"
      },
      "execution_count": 189,
      "outputs": [
        {
          "output_type": "stream",
          "name": "stdout",
          "text": [
            "MAE de train: 123629.62442312554\n",
            "RMSE de train: 183511.65311879775\n",
            "R2 de train: 0.7453305020734993\n",
            "MAE de train: 121631.23667354375\n",
            "RMSE de train: 186020.93804955797\n",
            "R2 de train: 0.7803608419298045\n"
          ]
        }
      ]
    },
    {
      "cell_type": "markdown",
      "source": [
        "### Lasso"
      ],
      "metadata": {
        "id": "LQvGLZleZ9eK"
      }
    },
    {
      "cell_type": "markdown",
      "source": [
        "* Modelo generado (ecuación)"
      ],
      "metadata": {
        "id": "iox6G4aDZ9eL"
      }
    },
    {
      "cell_type": "code",
      "source": [
        "X_poly_train, X_poly_test = poly_transform(X, X_train, X_test, 1)"
      ],
      "metadata": {
        "id": "jW2F7vaWZ9eL"
      },
      "execution_count": 200,
      "outputs": []
    },
    {
      "cell_type": "code",
      "source": [
        "lasso_model = Lasso(alpha = 0.1, tol=0.001,max_iter=10000)\n",
        "lasso_model.fit(X_poly_train, y_train)"
      ],
      "metadata": {
        "colab": {
          "base_uri": "https://localhost:8080/"
        },
        "outputId": "5156be72-16fd-4746-b13c-20c23af42e20",
        "id": "N61hmMp3Z9eM"
      },
      "execution_count": 203,
      "outputs": [
        {
          "output_type": "stream",
          "name": "stderr",
          "text": [
            "/usr/local/lib/python3.7/dist-packages/sklearn/linear_model/_coordinate_descent.py:648: ConvergenceWarning: Objective did not converge. You might want to increase the number of iterations, check the scale of the features or consider increasing regularisation. Duality gap: 4.053e+14, tolerance: 2.572e+12\n",
            "  coef_, l1_reg, l2_reg, X, y, max_iter, tol, rng, random, positive\n"
          ]
        },
        {
          "output_type": "execute_result",
          "data": {
            "text/plain": [
              "Lasso(alpha=0.1, max_iter=10000, tol=0.001)"
            ]
          },
          "metadata": {},
          "execution_count": 203
        }
      ]
    },
    {
      "cell_type": "code",
      "source": [
        "coef_inter(lasso_model)"
      ],
      "metadata": {
        "colab": {
          "base_uri": "https://localhost:8080/"
        },
        "outputId": "8baee336-1b78-4770-c886-c53a543ca210",
        "id": "NZCMbpB7Z9eM"
      },
      "execution_count": 204,
      "outputs": [
        {
          "output_type": "stream",
          "name": "stdout",
          "text": [
            "Coeficientes: [-3.82006778e+04  4.14657099e+04  2.93478924e+02  1.71349480e-02\n",
            "  3.16912363e+04  5.52676032e+05  4.12498870e+04  2.12218689e+04\n",
            "  1.19493078e+05 -1.37710845e+02 -1.25268594e+02 -3.55089695e+03\n",
            "  1.32604839e+01  2.90058685e+01 -5.48132950e-01]\n",
            "Intercept: [6151351.34785704]\n"
          ]
        }
      ]
    },
    {
      "cell_type": "markdown",
      "source": [
        "Obtenemos sus predicciones para datos de entrenamiento, y datos de prueba:"
      ],
      "metadata": {
        "id": "_A3nX6MuZ9eM"
      }
    },
    {
      "cell_type": "code",
      "source": [
        "yhat_train, yhat_test = predict_ys(lasso_model, X_poly_train, X_poly_test)"
      ],
      "metadata": {
        "id": "jltixrVeZ9eN"
      },
      "execution_count": 205,
      "outputs": []
    },
    {
      "cell_type": "markdown",
      "source": [
        "* Visualización"
      ],
      "metadata": {
        "id": "Hsa0IGLLZ9eN"
      }
    },
    {
      "cell_type": "markdown",
      "source": [
        "No aplica ya que son múltiples variables de entrada"
      ],
      "metadata": {
        "id": "xrnIsBw3bCNz"
      }
    },
    {
      "cell_type": "code",
      "source": [
        "len(yhat_train.ravel())"
      ],
      "metadata": {
        "id": "HR-JafwmbYF8",
        "outputId": "1f5ad39c-e217-4918-f901-7a2cf42a059d",
        "colab": {
          "base_uri": "https://localhost:8080/"
        }
      },
      "execution_count": 216,
      "outputs": [
        {
          "output_type": "execute_result",
          "data": {
            "text/plain": [
              "19451"
            ]
          },
          "metadata": {},
          "execution_count": 216
        }
      ]
    },
    {
      "cell_type": "markdown",
      "source": [
        "* Sus errores y r cuadrada"
      ],
      "metadata": {
        "id": "z-V7VXreZ9eO"
      }
    },
    {
      "cell_type": "code",
      "source": [
        "errores_train = list()\n",
        "errores_test = list()\n",
        "errores_train, errores_test = errores(y_train,yhat_train.reshape(19451,1),y_test,yhat_test.reshape(2162,1))\n",
        "error_ejercicio1_train.append(errores_train)\n",
        "error_ejercicio1_test.append(errores_test)\n",
        "\n",
        "i = 0\n",
        "for error in nom_errores:\n",
        "  print(error, 'de train:', errores_train[i])\n",
        "  i = i + 1\n",
        "i = 0\n",
        "for error in nom_errores:\n",
        "  print(error, 'de train:', errores_test[i])\n",
        "  i = i + 1"
      ],
      "metadata": {
        "outputId": "a0be7f89-20bb-4b86-f3ec-7148d4fcfb25",
        "colab": {
          "base_uri": "https://localhost:8080/"
        },
        "id": "dINf7uL7Z9eO"
      },
      "execution_count": 221,
      "outputs": [
        {
          "output_type": "stream",
          "name": "stdout",
          "text": [
            "MAE de train: 139269.330990337\n",
            "RMSE de train: 214234.88227916526\n",
            "R2 de train: 0.6529196653013929\n",
            "MAE de train: 137480.18209947887\n",
            "RMSE de train: 232133.48359030427\n",
            "R2 de train: 0.6579719787690377\n"
          ]
        }
      ]
    },
    {
      "cell_type": "markdown",
      "source": [
        "### Finalmente grafica"
      ],
      "metadata": {
        "id": "042tBDrLcNV5"
      }
    },
    {
      "cell_type": "markdown",
      "source": [
        "* MAE (de los cuatro métodos)"
      ],
      "metadata": {
        "id": "H9Uj9-JncNV5"
      }
    },
    {
      "cell_type": "code",
      "source": [
        "modelos_ejercicio1 = ['Regresión Múltiple Lineal','Regresión Múltiple Polinomial','Ridge','Lasso']\n",
        "\n",
        "mae_values = list()\n",
        "for i in range(0,len(modelos_ejercicio1)):\n",
        "  mae_values.append(error_ejercicio1_test[i][0])\n",
        "\n",
        "plt.figure(figsize = (10, 5))\n",
        "plt.bar(modelos_ejercicio1, mae_values, color ='maroon', width = 0.4)\n",
        "plt.title(\"MAE\")"
      ],
      "metadata": {
        "colab": {
          "base_uri": "https://localhost:8080/",
          "height": 357
        },
        "outputId": "00c0da49-7fdd-49e4-a48a-06e14418e5a0",
        "id": "eLOOE9wEcNV6"
      },
      "execution_count": 222,
      "outputs": [
        {
          "output_type": "execute_result",
          "data": {
            "text/plain": [
              "Text(0.5, 1.0, 'MAE')"
            ]
          },
          "metadata": {},
          "execution_count": 222
        },
        {
          "output_type": "display_data",
          "data": {
            "text/plain": [
              "<Figure size 720x360 with 1 Axes>"
            ],
            "image/png": "[encoded data removed]"
          },
          "metadata": {}
        }
      ]
    },
    {
      "cell_type": "markdown",
      "source": [
        "* R2 (de los cuatro métodos)"
      ],
      "metadata": {
        "id": "Ld-HgzcgcNV6"
      }
    },
    {
      "cell_type": "code",
      "source": [
        "r2_values = list()\n",
        "for i in range(0,len(modelos_ejercicio1)):\n",
        "  r2_values.append(error_ejercicio1_test[i][2])\n",
        "\n",
        "plt.figure(figsize = (10, 5))\n",
        "plt.bar(modelos_ejercicio1, r2_values, color ='maroon', width = 0.4)\n",
        "plt.title(\"R2\")"
      ],
      "metadata": {
        "colab": {
          "base_uri": "https://localhost:8080/",
          "height": 357
        },
        "outputId": "5e3a70a1-5c49-4a17-f074-0571bbb9204b",
        "id": "dtrCIJSGcNV6"
      },
      "execution_count": 223,
      "outputs": [
        {
          "output_type": "execute_result",
          "data": {
            "text/plain": [
              "Text(0.5, 1.0, 'R2')"
            ]
          },
          "metadata": {},
          "execution_count": 223
        },
        {
          "output_type": "display_data",
          "data": {
            "text/plain": [
              "<Figure size 720x360 with 1 Axes>"
            ],
            "image/png": "[encoded data removed]"
          },
          "metadata": {}
        }
      ]
    },
    {
      "cell_type": "markdown",
      "source": [
        "### Explica tus resultados, que método conviene más a la empresa, ¿por que?, ¿que porcentajes de entrenamiento y evaluación?, ¿que error tienes?, ¿es bueno?, ¿cómo lo sabes?"
      ],
      "metadata": {
        "id": "lkQCy5ancNV7"
      }
    },
    {
      "cell_type": "markdown",
      "source": [
        "A primera vista, podemos ver que, para el valor de MAE, para todos menos para regresión lineal, sus valores disminuyen cuando se usan los datos de prueba. Para RMSE sucede lo mismo. Y para R2, en todos los modelos incrementa con los datos de prueba contra los de entrenamiento. Así mismo, el mejor valor de R2 es el de regresión lineal polinomial, así como de MAE y de RMSE. Por lo que se le recomienda a la empresa la regresión polinomial de grado 2. \n",
        "\n",
        "Veamos ahora sus errores:\n"
      ],
      "metadata": {
        "id": "deSrB2wvcNV7"
      }
    },
    {
      "cell_type": "code",
      "source": [
        "residuos_values = list()\n",
        "for i in range(0,len(modelos_ejercicio1)-1):\n",
        "  residuos_values.append(error_ejercicio1_test[i][3])\n",
        "\n",
        "sns.set(rc={'figure.figsize':(8,4)})\n",
        "plt.boxplot(residuos_values, labels=modelos_ejercicio1, showmeans=True)\n",
        "plt.show()"
      ],
      "metadata": {
        "colab": {
          "base_uri": "https://localhost:8080/",
          "height": 632
        },
        "outputId": "c67f4d05-d8d8-4851-9885-5cc688ccbd92",
        "id": "bQMdbzf7cNV8"
      },
      "execution_count": 233,
      "outputs": [
        {
          "output_type": "error",
          "ename": "ValueError",
          "evalue": "ignored",
          "traceback": [
            "\u001b[0;31m---------------------------------------------------------------------------\u001b[0m",
            "\u001b[0;31mValueError\u001b[0m                                Traceback (most recent call last)",
            "\u001b[0;32m<ipython-input-233-bfbf79e03a6f>\u001b[0m in \u001b[0;36m<module>\u001b[0;34m\u001b[0m\n\u001b[1;32m      4\u001b[0m \u001b[0;34m\u001b[0m\u001b[0m\n\u001b[1;32m      5\u001b[0m \u001b[0msns\u001b[0m\u001b[0;34m.\u001b[0m\u001b[0mset\u001b[0m\u001b[0;34m(\u001b[0m\u001b[0mrc\u001b[0m\u001b[0;34m=\u001b[0m\u001b[0;34m{\u001b[0m\u001b[0;34m'figure.figsize'\u001b[0m\u001b[0;34m:\u001b[0m\u001b[0;34m(\u001b[0m\u001b[0;36m8\u001b[0m\u001b[0;34m,\u001b[0m\u001b[0;36m4\u001b[0m\u001b[0;34m)\u001b[0m\u001b[0;34m}\u001b[0m\u001b[0;34m)\u001b[0m\u001b[0;34m\u001b[0m\u001b[0;34m\u001b[0m\u001b[0m\n\u001b[0;32m----> 6\u001b[0;31m \u001b[0mplt\u001b[0m\u001b[0;34m.\u001b[0m\u001b[0mboxplot\u001b[0m\u001b[0;34m(\u001b[0m\u001b[0mresiduos_values\u001b[0m\u001b[0;34m,\u001b[0m \u001b[0mlabels\u001b[0m\u001b[0;34m=\u001b[0m\u001b[0mmodelos_ejercicio1\u001b[0m\u001b[0;34m,\u001b[0m \u001b[0mshowmeans\u001b[0m\u001b[0;34m=\u001b[0m\u001b[0;32mTrue\u001b[0m\u001b[0;34m)\u001b[0m\u001b[0;34m\u001b[0m\u001b[0;34m\u001b[0m\u001b[0m\n\u001b[0m\u001b[1;32m      7\u001b[0m \u001b[0mplt\u001b[0m\u001b[0;34m.\u001b[0m\u001b[0mshow\u001b[0m\u001b[0;34m(\u001b[0m\u001b[0;34m)\u001b[0m\u001b[0;34m\u001b[0m\u001b[0;34m\u001b[0m\u001b[0m\n",
            "\u001b[0;32m/usr/local/lib/python3.7/dist-packages/matplotlib/pyplot.py\u001b[0m in \u001b[0;36mboxplot\u001b[0;34m(x, notch, sym, vert, whis, positions, widths, patch_artist, bootstrap, usermedians, conf_intervals, meanline, showmeans, showcaps, showbox, showfliers, boxprops, labels, flierprops, medianprops, meanprops, capprops, whiskerprops, manage_ticks, autorange, zorder, data)\u001b[0m\n\u001b[1;32m   2446\u001b[0m         \u001b[0mwhiskerprops\u001b[0m\u001b[0;34m=\u001b[0m\u001b[0mwhiskerprops\u001b[0m\u001b[0;34m,\u001b[0m \u001b[0mmanage_ticks\u001b[0m\u001b[0;34m=\u001b[0m\u001b[0mmanage_ticks\u001b[0m\u001b[0;34m,\u001b[0m\u001b[0;34m\u001b[0m\u001b[0;34m\u001b[0m\u001b[0m\n\u001b[1;32m   2447\u001b[0m         autorange=autorange, zorder=zorder, **({\"data\": data} if data\n\u001b[0;32m-> 2448\u001b[0;31m         is not None else {}))\n\u001b[0m\u001b[1;32m   2449\u001b[0m \u001b[0;34m\u001b[0m\u001b[0m\n\u001b[1;32m   2450\u001b[0m \u001b[0;34m\u001b[0m\u001b[0m\n",
            "\u001b[0;32m/usr/local/lib/python3.7/dist-packages/matplotlib/cbook/deprecation.py\u001b[0m in \u001b[0;36mwrapper\u001b[0;34m(*args, **kwargs)\u001b[0m\n\u001b[1;32m    294\u001b[0m                 f\"for the old name will be dropped %(removal)s.\")\n\u001b[1;32m    295\u001b[0m             \u001b[0mkwargs\u001b[0m\u001b[0;34m[\u001b[0m\u001b[0mnew\u001b[0m\u001b[0;34m]\u001b[0m \u001b[0;34m=\u001b[0m \u001b[0mkwargs\u001b[0m\u001b[0;34m.\u001b[0m\u001b[0mpop\u001b[0m\u001b[0;34m(\u001b[0m\u001b[0mold\u001b[0m\u001b[0;34m)\u001b[0m\u001b[0;34m\u001b[0m\u001b[0;34m\u001b[0m\u001b[0m\n\u001b[0;32m--> 296\u001b[0;31m         \u001b[0;32mreturn\u001b[0m \u001b[0mfunc\u001b[0m\u001b[0;34m(\u001b[0m\u001b[0;34m*\u001b[0m\u001b[0margs\u001b[0m\u001b[0;34m,\u001b[0m \u001b[0;34m**\u001b[0m\u001b[0mkwargs\u001b[0m\u001b[0;34m)\u001b[0m\u001b[0;34m\u001b[0m\u001b[0;34m\u001b[0m\u001b[0m\n\u001b[0m\u001b[1;32m    297\u001b[0m \u001b[0;34m\u001b[0m\u001b[0m\n\u001b[1;32m    298\u001b[0m     \u001b[0;31m# wrapper() must keep the same documented signature as func(): if we\u001b[0m\u001b[0;34m\u001b[0m\u001b[0;34m\u001b[0m\u001b[0;34m\u001b[0m\u001b[0m\n",
            "\u001b[0;32m/usr/local/lib/python3.7/dist-packages/matplotlib/__init__.py\u001b[0m in \u001b[0;36minner\u001b[0;34m(ax, data, *args, **kwargs)\u001b[0m\n\u001b[1;32m   1563\u001b[0m     \u001b[0;32mdef\u001b[0m \u001b[0minner\u001b[0m\u001b[0;34m(\u001b[0m\u001b[0max\u001b[0m\u001b[0;34m,\u001b[0m \u001b[0;34m*\u001b[0m\u001b[0margs\u001b[0m\u001b[0;34m,\u001b[0m \u001b[0mdata\u001b[0m\u001b[0;34m=\u001b[0m\u001b[0;32mNone\u001b[0m\u001b[0;34m,\u001b[0m \u001b[0;34m**\u001b[0m\u001b[0mkwargs\u001b[0m\u001b[0;34m)\u001b[0m\u001b[0;34m:\u001b[0m\u001b[0;34m\u001b[0m\u001b[0;34m\u001b[0m\u001b[0m\n\u001b[1;32m   1564\u001b[0m         \u001b[0;32mif\u001b[0m \u001b[0mdata\u001b[0m \u001b[0;32mis\u001b[0m \u001b[0;32mNone\u001b[0m\u001b[0;34m:\u001b[0m\u001b[0;34m\u001b[0m\u001b[0;34m\u001b[0m\u001b[0m\n\u001b[0;32m-> 1565\u001b[0;31m             \u001b[0;32mreturn\u001b[0m \u001b[0mfunc\u001b[0m\u001b[0;34m(\u001b[0m\u001b[0max\u001b[0m\u001b[0;34m,\u001b[0m \u001b[0;34m*\u001b[0m\u001b[0mmap\u001b[0m\u001b[0;34m(\u001b[0m\u001b[0msanitize_sequence\u001b[0m\u001b[0;34m,\u001b[0m \u001b[0margs\u001b[0m\u001b[0;34m)\u001b[0m\u001b[0;34m,\u001b[0m \u001b[0;34m**\u001b[0m\u001b[0mkwargs\u001b[0m\u001b[0;34m)\u001b[0m\u001b[0;34m\u001b[0m\u001b[0;34m\u001b[0m\u001b[0m\n\u001b[0m\u001b[1;32m   1566\u001b[0m \u001b[0;34m\u001b[0m\u001b[0m\n\u001b[1;32m   1567\u001b[0m         \u001b[0mbound\u001b[0m \u001b[0;34m=\u001b[0m \u001b[0mnew_sig\u001b[0m\u001b[0;34m.\u001b[0m\u001b[0mbind\u001b[0m\u001b[0;34m(\u001b[0m\u001b[0max\u001b[0m\u001b[0;34m,\u001b[0m \u001b[0;34m*\u001b[0m\u001b[0margs\u001b[0m\u001b[0;34m,\u001b[0m \u001b[0;34m**\u001b[0m\u001b[0mkwargs\u001b[0m\u001b[0;34m)\u001b[0m\u001b[0;34m\u001b[0m\u001b[0;34m\u001b[0m\u001b[0m\n",
            "\u001b[0;32m/usr/local/lib/python3.7/dist-packages/matplotlib/axes/_axes.py\u001b[0m in \u001b[0;36mboxplot\u001b[0;34m(self, x, notch, sym, vert, whis, positions, widths, patch_artist, bootstrap, usermedians, conf_intervals, meanline, showmeans, showcaps, showbox, showfliers, boxprops, labels, flierprops, medianprops, meanprops, capprops, whiskerprops, manage_ticks, autorange, zorder)\u001b[0m\n\u001b[1;32m   3626\u001b[0m \u001b[0;34m\u001b[0m\u001b[0m\n\u001b[1;32m   3627\u001b[0m         bxpstats = cbook.boxplot_stats(x, whis=whis, bootstrap=bootstrap,\n\u001b[0;32m-> 3628\u001b[0;31m                                        labels=labels, autorange=autorange)\n\u001b[0m\u001b[1;32m   3629\u001b[0m         \u001b[0;32mif\u001b[0m \u001b[0mnotch\u001b[0m \u001b[0;32mis\u001b[0m \u001b[0;32mNone\u001b[0m\u001b[0;34m:\u001b[0m\u001b[0;34m\u001b[0m\u001b[0;34m\u001b[0m\u001b[0m\n\u001b[1;32m   3630\u001b[0m             \u001b[0mnotch\u001b[0m \u001b[0;34m=\u001b[0m \u001b[0mrcParams\u001b[0m\u001b[0;34m[\u001b[0m\u001b[0;34m'boxplot.notch'\u001b[0m\u001b[0;34m]\u001b[0m\u001b[0;34m\u001b[0m\u001b[0;34m\u001b[0m\u001b[0m\n",
            "\u001b[0;32m/usr/local/lib/python3.7/dist-packages/matplotlib/cbook/__init__.py\u001b[0m in \u001b[0;36mboxplot_stats\u001b[0;34m(X, whis, bootstrap, labels, autorange)\u001b[0m\n\u001b[1;32m   1163\u001b[0m \u001b[0;34m\u001b[0m\u001b[0m\n\u001b[1;32m   1164\u001b[0m     \u001b[0;31m# convert X to a list of lists\u001b[0m\u001b[0;34m\u001b[0m\u001b[0;34m\u001b[0m\u001b[0;34m\u001b[0m\u001b[0m\n\u001b[0;32m-> 1165\u001b[0;31m     \u001b[0mX\u001b[0m \u001b[0;34m=\u001b[0m \u001b[0m_reshape_2D\u001b[0m\u001b[0;34m(\u001b[0m\u001b[0mX\u001b[0m\u001b[0;34m,\u001b[0m \u001b[0;34m\"X\"\u001b[0m\u001b[0;34m)\u001b[0m\u001b[0;34m\u001b[0m\u001b[0;34m\u001b[0m\u001b[0m\n\u001b[0m\u001b[1;32m   1166\u001b[0m \u001b[0;34m\u001b[0m\u001b[0m\n\u001b[1;32m   1167\u001b[0m     \u001b[0mncols\u001b[0m \u001b[0;34m=\u001b[0m \u001b[0mlen\u001b[0m\u001b[0;34m(\u001b[0m\u001b[0mX\u001b[0m\u001b[0;34m)\u001b[0m\u001b[0;34m\u001b[0m\u001b[0;34m\u001b[0m\u001b[0m\n",
            "\u001b[0;32m/usr/local/lib/python3.7/dist-packages/matplotlib/cbook/__init__.py\u001b[0m in \u001b[0;36m_reshape_2D\u001b[0;34m(X, name)\u001b[0m\n\u001b[1;32m   1384\u001b[0m         \u001b[0;32mreturn\u001b[0m \u001b[0;34m[\u001b[0m\u001b[0mnp\u001b[0m\u001b[0;34m.\u001b[0m\u001b[0mreshape\u001b[0m\u001b[0;34m(\u001b[0m\u001b[0mx\u001b[0m\u001b[0;34m,\u001b[0m \u001b[0;34m-\u001b[0m\u001b[0;36m1\u001b[0m\u001b[0;34m)\u001b[0m \u001b[0;32mfor\u001b[0m \u001b[0mx\u001b[0m \u001b[0;32min\u001b[0m \u001b[0mX\u001b[0m\u001b[0;34m]\u001b[0m\u001b[0;34m\u001b[0m\u001b[0;34m\u001b[0m\u001b[0m\n\u001b[1;32m   1385\u001b[0m     \u001b[0;32melse\u001b[0m\u001b[0;34m:\u001b[0m\u001b[0;34m\u001b[0m\u001b[0;34m\u001b[0m\u001b[0m\n\u001b[0;32m-> 1386\u001b[0;31m         \u001b[0;32mraise\u001b[0m \u001b[0mValueError\u001b[0m\u001b[0;34m(\u001b[0m\u001b[0;34m\"{} must have 2 or fewer dimensions\"\u001b[0m\u001b[0;34m.\u001b[0m\u001b[0mformat\u001b[0m\u001b[0;34m(\u001b[0m\u001b[0mname\u001b[0m\u001b[0;34m)\u001b[0m\u001b[0;34m)\u001b[0m\u001b[0;34m\u001b[0m\u001b[0;34m\u001b[0m\u001b[0m\n\u001b[0m\u001b[1;32m   1387\u001b[0m \u001b[0;34m\u001b[0m\u001b[0m\n\u001b[1;32m   1388\u001b[0m \u001b[0;34m\u001b[0m\u001b[0m\n",
            "\u001b[0;31mValueError\u001b[0m: X must have 2 or fewer dimensions"
          ]
        },
        {
          "output_type": "display_data",
          "data": {
            "text/plain": [
              "<Figure size 576x288 with 1 Axes>"
            ],
            "image/png": "[encoded data removed]"
          },
          "metadata": {}
        }
      ]
    },
    {
      "cell_type": "code",
      "source": [
        "residuos_values[0]"
      ],
      "metadata": {
        "id": "jUzbKZLbdvb9",
        "outputId": "48963556-31bb-4de8-9d3c-d768418d5aef",
        "colab": {
          "base_uri": "https://localhost:8080/",
          "height": 424
        }
      },
      "execution_count": 237,
      "outputs": [
        {
          "output_type": "execute_result",
          "data": {
            "text/plain": [
              "               price\n",
              "3834  -147279.469284\n",
              "1348  -112952.654035\n",
              "20366  171240.639828\n",
              "16617  -63586.864777\n",
              "20925    -613.377067\n",
              "...              ...\n",
              "13586   15434.533006\n",
              "21221   -4463.908655\n",
              "4016   120204.746030\n",
              "5399    58262.212731\n",
              "16847  184346.830273\n",
              "\n",
              "[2162 rows x 1 columns]"
            ],
            "text/html": [
              "\n",
              "  <div id=\"df-5730f686-55d1-40e1-8c2d-e3c585f740b7\">\n",
              "    <div class=\"colab-df-container\">\n",
              "      <div>\n",
              "<style scoped>\n",
              "    .dataframe tbody tr th:only-of-type {\n",
              "        vertical-align: middle;\n",
              "    }\n",
              "\n",
              "    .dataframe tbody tr th {\n",
              "        vertical-align: top;\n",
              "    }\n",
              "\n",
              "    .dataframe thead th {\n",
              "        text-align: right;\n",
              "    }\n",
              "</style>\n",
              "<table border=\"1\" class=\"dataframe\">\n",
              "  <thead>\n",
              "    <tr style=\"text-align: right;\">\n",
              "      <th></th>\n",
              "      <th>price</th>\n",
              "    </tr>\n",
              "  </thead>\n",
              "  <tbody>\n",
              "    <tr>\n",
              "      <th>3834</th>\n",
              "      <td>-147279.469284</td>\n",
              "    </tr>\n",
              "    <tr>\n",
              "      <th>1348</th>\n",
              "      <td>-112952.654035</td>\n",
              "    </tr>\n",
              "    <tr>\n",
              "      <th>20366</th>\n",
              "      <td>171240.639828</td>\n",
              "    </tr>\n",
              "    <tr>\n",
              "      <th>16617</th>\n",
              "      <td>-63586.864777</td>\n",
              "    </tr>\n",
              "    <tr>\n",
              "      <th>20925</th>\n",
              "      <td>-613.377067</td>\n",
              "    </tr>\n",
              "    <tr>\n",
              "      <th>...</th>\n",
              "      <td>...</td>\n",
              "    </tr>\n",
              "    <tr>\n",
              "      <th>13586</th>\n",
              "      <td>15434.533006</td>\n",
              "    </tr>\n",
              "    <tr>\n",
              "      <th>21221</th>\n",
              "      <td>-4463.908655</td>\n",
              "    </tr>\n",
              "    <tr>\n",
              "      <th>4016</th>\n",
              "      <td>120204.746030</td>\n",
              "    </tr>\n",
              "    <tr>\n",
              "      <th>5399</th>\n",
              "      <td>58262.212731</td>\n",
              "    </tr>\n",
              "    <tr>\n",
              "      <th>16847</th>\n",
              "      <td>184346.830273</td>\n",
              "    </tr>\n",
              "  </tbody>\n",
              "</table>\n",
              "<p>2162 rows × 1 columns</p>\n",
              "</div>\n",
              "      <button class=\"colab-df-convert\" onclick=\"convertToInteractive('df-5730f686-55d1-40e1-8c2d-e3c585f740b7')\"\n",
              "              title=\"Convert this dataframe to an interactive table.\"\n",
              "              style=\"display:none;\">\n",
              "        \n",
              "  <svg xmlns=\"http://www.w3.org/2000/svg\" height=\"24px\"viewBox=\"0 0 24 24\"\n",
              "       width=\"24px\">\n",
              "    <path d=\"M0 0h24v24H0V0z\" fill=\"none\"/>\n",
              "    <path d=\"M18.56 5.44l.94 2.06.94-2.06 2.06-.94-2.06-.94-.94-2.06-.94 2.06-2.06.94zm-11 1L8.5 8.5l.94-2.06 2.06-.94-2.06-.94L8.5 2.5l-.94 2.06-2.06.94zm10 10l.94 2.06.94-2.06 2.06-.94-2.06-.94-.94-2.06-.94 2.06-2.06.94z\"/><path d=\"M17.41 7.96l-1.37-1.37c-.4-.4-.92-.59-1.43-.59-.52 0-1.04.2-1.43.59L10.3 9.45l-7.72 7.72c-.78.78-.78 2.05 0 2.83L4 21.41c.39.39.9.59 1.41.59.51 0 1.02-.2 1.41-.59l7.78-7.78 2.81-2.81c.8-.78.8-2.07 0-2.86zM5.41 20L4 18.59l7.72-7.72 1.47 1.35L5.41 20z\"/>\n",
              "  </svg>\n",
              "      </button>\n",
              "      \n",
              "  <style>\n",
              "    .colab-df-container {\n",
              "      display:flex;\n",
              "      flex-wrap:wrap;\n",
              "      gap: 12px;\n",
              "    }\n",
              "\n",
              "    .colab-df-convert {\n",
              "      background-color: #E8F0FE;\n",
              "      border: none;\n",
              "      border-radius: 50%;\n",
              "      cursor: pointer;\n",
              "      display: none;\n",
              "      fill: #1967D2;\n",
              "      height: 32px;\n",
              "      padding: 0 0 0 0;\n",
              "      width: 32px;\n",
              "    }\n",
              "\n",
              "    .colab-df-convert:hover {\n",
              "      background-color: #E2EBFA;\n",
              "      box-shadow: 0px 1px 2px rgba(60, 64, 67, 0.3), 0px 1px 3px 1px rgba(60, 64, 67, 0.15);\n",
              "      fill: #174EA6;\n",
              "    }\n",
              "\n",
              "    [theme=dark] .colab-df-convert {\n",
              "      background-color: #3B4455;\n",
              "      fill: #D2E3FC;\n",
              "    }\n",
              "\n",
              "    [theme=dark] .colab-df-convert:hover {\n",
              "      background-color: #434B5C;\n",
              "      box-shadow: 0px 1px 3px 1px rgba(0, 0, 0, 0.15);\n",
              "      filter: drop-shadow(0px 1px 2px rgba(0, 0, 0, 0.3));\n",
              "      fill: #FFFFFF;\n",
              "    }\n",
              "  </style>\n",
              "\n",
              "      <script>\n",
              "        const buttonEl =\n",
              "          document.querySelector('#df-5730f686-55d1-40e1-8c2d-e3c585f740b7 button.colab-df-convert');\n",
              "        buttonEl.style.display =\n",
              "          google.colab.kernel.accessAllowed ? 'block' : 'none';\n",
              "\n",
              "        async function convertToInteractive(key) {\n",
              "          const element = document.querySelector('#df-5730f686-55d1-40e1-8c2d-e3c585f740b7');\n",
              "          const dataTable =\n",
              "            await google.colab.kernel.invokeFunction('convertToInteractive',\n",
              "                                                     [key], {});\n",
              "          if (!dataTable) return;\n",
              "\n",
              "          const docLinkHtml = 'Like what you see? Visit the ' +\n",
              "            '<a target=\"_blank\" href=https://colab.research.google.com/notebooks/data_table.ipynb>data table notebook</a>'\n",
              "            + ' to learn more about interactive tables.';\n",
              "          element.innerHTML = '';\n",
              "          dataTable['output_type'] = 'display_data';\n",
              "          await google.colab.output.renderOutput(dataTable, element);\n",
              "          const docLink = document.createElement('div');\n",
              "          docLink.innerHTML = docLinkHtml;\n",
              "          element.appendChild(docLink);\n",
              "        }\n",
              "      </script>\n",
              "    </div>\n",
              "  </div>\n",
              "  "
            ]
          },
          "metadata": {},
          "execution_count": 237
        }
      ]
    },
    {
      "cell_type": "markdown",
      "source": [
        "Podemos observar que todos son muy similares, y con datos atípicos. Sin embargo, el de regresión lineal es que nos arroja los valores atípicos mas altos. Lo cual reafirma, considerando las métricas, que el mejor modelo a recomendar es el de regresión polinomial de grado 2. "
      ],
      "metadata": {
        "id": "U4eM_aKocNV8"
      }
    }
  ]
}