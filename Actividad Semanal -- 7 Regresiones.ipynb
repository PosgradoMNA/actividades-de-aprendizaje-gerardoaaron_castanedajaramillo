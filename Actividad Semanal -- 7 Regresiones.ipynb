{
  "nbformat": 4,
  "nbformat_minor": 0,
  "metadata": {
    "kernelspec": {
      "display_name": "Python 3",
      "language": "python",
      "name": "python3"
    },
    "language_info": {
      "codemirror_mode": {
        "name": "ipython",
        "version": 3
      },
      "file_extension": ".py",
      "mimetype": "text/x-python",
      "name": "python",
      "nbconvert_exporter": "python",
      "pygments_lexer": "ipython3",
      "version": "3.7.7"
    },
    "colab": {
      "provenance": [],
      "include_colab_link": true
    },
    "accelerator": "GPU"
  },
  "cells": [
    {
      "cell_type": "markdown",
      "metadata": {
        "id": "view-in-github",
        "colab_type": "text"
      },
      "source": [
        "<a href=\"https://colab.research.google.com/github/PosgradoMNA/actividades-de-aprendizaje-gerardoaaron_castanedajaramillo/blob/main/Actividad%20Semanal%20--%207%20Regresiones.ipynb\" target=\"_parent\"><img src=\"https://colab.research.google.com/assets/colab-badge.svg\" alt=\"Open In Colab\"/></a>"
      ]
    },
    {
      "cell_type": "markdown",
      "metadata": {
        "id": "WUO-kdryVQwK"
      },
      "source": [
        "# Linear Models\n"
      ]
    },
    {
      "cell_type": "code",
      "source": [],
      "metadata": {
        "id": "Msm89naSzi21"
      },
      "execution_count": null,
      "outputs": []
    },
    {
      "cell_type": "markdown",
      "metadata": {
        "id": "u3ytB4LpVQwM"
      },
      "source": [
        "- In supervised learning, the training data fed to the algorithm includes the desired solutions, called labels. \n",
        "- In **regression**, the labels are continuous quantities.\n",
        "- Linear models predict by computing a weighted sum of input features plus a bias term."
      ]
    },
    {
      "cell_type": "code",
      "metadata": {
        "id": "HMp_I4Y6VQwN"
      },
      "source": [
        "import numpy as np\n",
        "%matplotlib inline\n",
        "import matplotlib\n",
        "import matplotlib.pyplot as plt\n",
        "import pandas as pd\n",
        "import seaborn as sns\n",
        "# to make this notebook's output stable across runs\n",
        "np.random.seed(42)"
      ],
      "execution_count": 1,
      "outputs": []
    },
    {
      "cell_type": "markdown",
      "metadata": {
        "id": "szpzFXgiVQwN"
      },
      "source": [
        "## Simple Linear Regression\n",
        "\n",
        "Simple linear regression equation:\n",
        "\n",
        "$y = ax + b$\n",
        "<br>\n",
        "$a$: slope\n",
        "<br>\n",
        "$b$: intercept\n",
        "\n",
        "Generate linear-looking data with the equation:\n",
        "\n",
        "$y = 3X + 4 + noise$"
      ]
    },
    {
      "cell_type": "code",
      "metadata": {
        "colab": {
          "base_uri": "https://localhost:8080/"
        },
        "id": "mitJFYeiMQqD",
        "outputId": "afc9c63d-1b8f-4ffc-bb43-a12ea2001c38"
      },
      "source": [
        "np.random.rand(100, 1)"
      ],
      "execution_count": 4,
      "outputs": [
        {
          "output_type": "execute_result",
          "data": {
            "text/plain": [
              "array([[0.37454012],\n",
              "       [0.95071431],\n",
              "       [0.73199394],\n",
              "       [0.59865848],\n",
              "       [0.15601864],\n",
              "       [0.15599452],\n",
              "       [0.05808361],\n",
              "       [0.86617615],\n",
              "       [0.60111501],\n",
              "       [0.70807258],\n",
              "       [0.02058449],\n",
              "       [0.96990985],\n",
              "       [0.83244264],\n",
              "       [0.21233911],\n",
              "       [0.18182497],\n",
              "       [0.18340451],\n",
              "       [0.30424224],\n",
              "       [0.52475643],\n",
              "       [0.43194502],\n",
              "       [0.29122914],\n",
              "       [0.61185289],\n",
              "       [0.13949386],\n",
              "       [0.29214465],\n",
              "       [0.36636184],\n",
              "       [0.45606998],\n",
              "       [0.78517596],\n",
              "       [0.19967378],\n",
              "       [0.51423444],\n",
              "       [0.59241457],\n",
              "       [0.04645041],\n",
              "       [0.60754485],\n",
              "       [0.17052412],\n",
              "       [0.06505159],\n",
              "       [0.94888554],\n",
              "       [0.96563203],\n",
              "       [0.80839735],\n",
              "       [0.30461377],\n",
              "       [0.09767211],\n",
              "       [0.68423303],\n",
              "       [0.44015249],\n",
              "       [0.12203823],\n",
              "       [0.49517691],\n",
              "       [0.03438852],\n",
              "       [0.9093204 ],\n",
              "       [0.25877998],\n",
              "       [0.66252228],\n",
              "       [0.31171108],\n",
              "       [0.52006802],\n",
              "       [0.54671028],\n",
              "       [0.18485446],\n",
              "       [0.96958463],\n",
              "       [0.77513282],\n",
              "       [0.93949894],\n",
              "       [0.89482735],\n",
              "       [0.59789998],\n",
              "       [0.92187424],\n",
              "       [0.0884925 ],\n",
              "       [0.19598286],\n",
              "       [0.04522729],\n",
              "       [0.32533033],\n",
              "       [0.38867729],\n",
              "       [0.27134903],\n",
              "       [0.82873751],\n",
              "       [0.35675333],\n",
              "       [0.28093451],\n",
              "       [0.54269608],\n",
              "       [0.14092422],\n",
              "       [0.80219698],\n",
              "       [0.07455064],\n",
              "       [0.98688694],\n",
              "       [0.77224477],\n",
              "       [0.19871568],\n",
              "       [0.00552212],\n",
              "       [0.81546143],\n",
              "       [0.70685734],\n",
              "       [0.72900717],\n",
              "       [0.77127035],\n",
              "       [0.07404465],\n",
              "       [0.35846573],\n",
              "       [0.11586906],\n",
              "       [0.86310343],\n",
              "       [0.62329813],\n",
              "       [0.33089802],\n",
              "       [0.06355835],\n",
              "       [0.31098232],\n",
              "       [0.32518332],\n",
              "       [0.72960618],\n",
              "       [0.63755747],\n",
              "       [0.88721274],\n",
              "       [0.47221493],\n",
              "       [0.11959425],\n",
              "       [0.71324479],\n",
              "       [0.76078505],\n",
              "       [0.5612772 ],\n",
              "       [0.77096718],\n",
              "       [0.4937956 ],\n",
              "       [0.52273283],\n",
              "       [0.42754102],\n",
              "       [0.02541913],\n",
              "       [0.10789143]])"
            ]
          },
          "metadata": {},
          "execution_count": 4
        }
      ]
    },
    {
      "cell_type": "code",
      "metadata": {
        "colab": {
          "base_uri": "https://localhost:8080/",
          "height": 265
        },
        "id": "QyubE1VEVQwN",
        "outputId": "9b565f24-412d-4319-d619-206e8040fa89"
      },
      "source": [
        "X = 2*np.random.rand(100, 1)\n",
        "y = 4 + 3 * X + np.random.randn(100, 1)\n",
        "plt.scatter(X, y);"
      ],
      "execution_count": 5,
      "outputs": [
        {
          "output_type": "display_data",
          "data": {
            "text/plain": [
              "<Figure size 432x288 with 1 Axes>"
            ],
            "image/png": "[encoded data removed]"
          },
          "metadata": {
            "needs_background": "light"
          }
        }
      ]
    },
    {
      "cell_type": "code",
      "source": [
        "import pandas as pd\n",
        "pd.DataFrame(y)"
      ],
      "metadata": {
        "colab": {
          "base_uri": "https://localhost:8080/",
          "height": 424
        },
        "id": "M5kaENJ4bZY5",
        "outputId": "8ab223f9-6d96-4c2d-9f86-5a5b094926c3"
      },
      "execution_count": 6,
      "outputs": [
        {
          "output_type": "execute_result",
          "data": {
            "text/plain": [
              "            0\n",
              "0    3.508550\n",
              "1    8.050716\n",
              "2    6.179208\n",
              "3    6.337073\n",
              "4   11.311173\n",
              "..        ...\n",
              "95   5.441928\n",
              "96  10.121188\n",
              "97   9.787643\n",
              "98   8.061635\n",
              "99   9.597115\n",
              "\n",
              "[100 rows x 1 columns]"
            ],
            "text/html": [
              "\n",
              "  <div id=\"df-0c99f531-1a6c-4eb6-b0ba-1f8747fe5f36\">\n",
              "    <div class=\"colab-df-container\">\n",
              "      <div>\n",
              "<style scoped>\n",
              "    .dataframe tbody tr th:only-of-type {\n",
              "        vertical-align: middle;\n",
              "    }\n",
              "\n",
              "    .dataframe tbody tr th {\n",
              "        vertical-align: top;\n",
              "    }\n",
              "\n",
              "    .dataframe thead th {\n",
              "        text-align: right;\n",
              "    }\n",
              "</style>\n",
              "<table border=\"1\" class=\"dataframe\">\n",
              "  <thead>\n",
              "    <tr style=\"text-align: right;\">\n",
              "      <th></th>\n",
              "      <th>0</th>\n",
              "    </tr>\n",
              "  </thead>\n",
              "  <tbody>\n",
              "    <tr>\n",
              "      <th>0</th>\n",
              "      <td>3.508550</td>\n",
              "    </tr>\n",
              "    <tr>\n",
              "      <th>1</th>\n",
              "      <td>8.050716</td>\n",
              "    </tr>\n",
              "    <tr>\n",
              "      <th>2</th>\n",
              "      <td>6.179208</td>\n",
              "    </tr>\n",
              "    <tr>\n",
              "      <th>3</th>\n",
              "      <td>6.337073</td>\n",
              "    </tr>\n",
              "    <tr>\n",
              "      <th>4</th>\n",
              "      <td>11.311173</td>\n",
              "    </tr>\n",
              "    <tr>\n",
              "      <th>...</th>\n",
              "      <td>...</td>\n",
              "    </tr>\n",
              "    <tr>\n",
              "      <th>95</th>\n",
              "      <td>5.441928</td>\n",
              "    </tr>\n",
              "    <tr>\n",
              "      <th>96</th>\n",
              "      <td>10.121188</td>\n",
              "    </tr>\n",
              "    <tr>\n",
              "      <th>97</th>\n",
              "      <td>9.787643</td>\n",
              "    </tr>\n",
              "    <tr>\n",
              "      <th>98</th>\n",
              "      <td>8.061635</td>\n",
              "    </tr>\n",
              "    <tr>\n",
              "      <th>99</th>\n",
              "      <td>9.597115</td>\n",
              "    </tr>\n",
              "  </tbody>\n",
              "</table>\n",
              "<p>100 rows × 1 columns</p>\n",
              "</div>\n",
              "      <button class=\"colab-df-convert\" onclick=\"convertToInteractive('df-0c99f531-1a6c-4eb6-b0ba-1f8747fe5f36')\"\n",
              "              title=\"Convert this dataframe to an interactive table.\"\n",
              "              style=\"display:none;\">\n",
              "        \n",
              "  <svg xmlns=\"http://www.w3.org/2000/svg\" height=\"24px\"viewBox=\"0 0 24 24\"\n",
              "       width=\"24px\">\n",
              "    <path d=\"M0 0h24v24H0V0z\" fill=\"none\"/>\n",
              "    <path d=\"M18.56 5.44l.94 2.06.94-2.06 2.06-.94-2.06-.94-.94-2.06-.94 2.06-2.06.94zm-11 1L8.5 8.5l.94-2.06 2.06-.94-2.06-.94L8.5 2.5l-.94 2.06-2.06.94zm10 10l.94 2.06.94-2.06 2.06-.94-2.06-.94-.94-2.06-.94 2.06-2.06.94z\"/><path d=\"M17.41 7.96l-1.37-1.37c-.4-.4-.92-.59-1.43-.59-.52 0-1.04.2-1.43.59L10.3 9.45l-7.72 7.72c-.78.78-.78 2.05 0 2.83L4 21.41c.39.39.9.59 1.41.59.51 0 1.02-.2 1.41-.59l7.78-7.78 2.81-2.81c.8-.78.8-2.07 0-2.86zM5.41 20L4 18.59l7.72-7.72 1.47 1.35L5.41 20z\"/>\n",
              "  </svg>\n",
              "      </button>\n",
              "      \n",
              "  <style>\n",
              "    .colab-df-container {\n",
              "      display:flex;\n",
              "      flex-wrap:wrap;\n",
              "      gap: 12px;\n",
              "    }\n",
              "\n",
              "    .colab-df-convert {\n",
              "      background-color: #E8F0FE;\n",
              "      border: none;\n",
              "      border-radius: 50%;\n",
              "      cursor: pointer;\n",
              "      display: none;\n",
              "      fill: #1967D2;\n",
              "      height: 32px;\n",
              "      padding: 0 0 0 0;\n",
              "      width: 32px;\n",
              "    }\n",
              "\n",
              "    .colab-df-convert:hover {\n",
              "      background-color: #E2EBFA;\n",
              "      box-shadow: 0px 1px 2px rgba(60, 64, 67, 0.3), 0px 1px 3px 1px rgba(60, 64, 67, 0.15);\n",
              "      fill: #174EA6;\n",
              "    }\n",
              "\n",
              "    [theme=dark] .colab-df-convert {\n",
              "      background-color: #3B4455;\n",
              "      fill: #D2E3FC;\n",
              "    }\n",
              "\n",
              "    [theme=dark] .colab-df-convert:hover {\n",
              "      background-color: #434B5C;\n",
              "      box-shadow: 0px 1px 3px 1px rgba(0, 0, 0, 0.15);\n",
              "      filter: drop-shadow(0px 1px 2px rgba(0, 0, 0, 0.3));\n",
              "      fill: #FFFFFF;\n",
              "    }\n",
              "  </style>\n",
              "\n",
              "      <script>\n",
              "        const buttonEl =\n",
              "          document.querySelector('#df-0c99f531-1a6c-4eb6-b0ba-1f8747fe5f36 button.colab-df-convert');\n",
              "        buttonEl.style.display =\n",
              "          google.colab.kernel.accessAllowed ? 'block' : 'none';\n",
              "\n",
              "        async function convertToInteractive(key) {\n",
              "          const element = document.querySelector('#df-0c99f531-1a6c-4eb6-b0ba-1f8747fe5f36');\n",
              "          const dataTable =\n",
              "            await google.colab.kernel.invokeFunction('convertToInteractive',\n",
              "                                                     [key], {});\n",
              "          if (!dataTable) return;\n",
              "\n",
              "          const docLinkHtml = 'Like what you see? Visit the ' +\n",
              "            '<a target=\"_blank\" href=https://colab.research.google.com/notebooks/data_table.ipynb>data table notebook</a>'\n",
              "            + ' to learn more about interactive tables.';\n",
              "          element.innerHTML = '';\n",
              "          dataTable['output_type'] = 'display_data';\n",
              "          await google.colab.output.renderOutput(dataTable, element);\n",
              "          const docLink = document.createElement('div');\n",
              "          docLink.innerHTML = docLinkHtml;\n",
              "          element.appendChild(docLink);\n",
              "        }\n",
              "      </script>\n",
              "    </div>\n",
              "  </div>\n",
              "  "
            ]
          },
          "metadata": {},
          "execution_count": 6
        }
      ]
    },
    {
      "cell_type": "code",
      "metadata": {
        "colab": {
          "base_uri": "https://localhost:8080/"
        },
        "id": "x6XGt_iAVQwO",
        "outputId": "50d5ca7b-59a7-4cc3-e5fc-451393c9e45c"
      },
      "source": [
        "from sklearn.linear_model import LinearRegression\n",
        "\n",
        "linear_reg = LinearRegression(fit_intercept=True)\n",
        "linear_reg.fit(X, y)"
      ],
      "execution_count": 7,
      "outputs": [
        {
          "output_type": "execute_result",
          "data": {
            "text/plain": [
              "LinearRegression()"
            ]
          },
          "metadata": {},
          "execution_count": 7
        }
      ]
    },
    {
      "cell_type": "markdown",
      "metadata": {
        "id": "Hnm9YgjbVQwO"
      },
      "source": [
        "Plot the model's predictions:"
      ]
    },
    {
      "cell_type": "code",
      "metadata": {
        "id": "9NtrLfGGVQwP"
      },
      "source": [
        "#X_fit[]"
      ],
      "execution_count": null,
      "outputs": []
    },
    {
      "cell_type": "code",
      "metadata": {
        "colab": {
          "base_uri": "https://localhost:8080/",
          "height": 287
        },
        "id": "1ZTT31igVQwP",
        "outputId": "86dd5a56-503e-4d31-a2c9-369e45a62666"
      },
      "source": [
        "# construct best fit line\n",
        "X_fit = np.linspace(0, 2, 100)\n",
        "y_fit = linear_reg.predict(X_fit[:, np.newaxis])\n",
        "\n",
        "plt.scatter(X, y)\n",
        "plt.plot(X_fit, y_fit, \"r-\", linewidth=2, label=\"Predictions\")\n",
        "plt.xlabel(\"$X$\", fontsize=18)\n",
        "plt.ylabel(\"$y$\", rotation=0, fontsize=18)\n",
        "plt.legend(loc=\"upper left\", fontsize=14);"
      ],
      "execution_count": null,
      "outputs": [
        {
          "output_type": "display_data",
          "data": {
            "text/plain": [
              "<Figure size 432x288 with 1 Axes>"
            ],
            "image/png": "[encoded data removed]"
          },
          "metadata": {
            "needs_background": "light"
          }
        }
      ]
    },
    {
      "cell_type": "markdown",
      "metadata": {
        "id": "kIfOsEcWVQwP"
      },
      "source": [
        "Predictions are a good fit."
      ]
    },
    {
      "cell_type": "markdown",
      "metadata": {
        "id": "z2VYUeGrVQwQ"
      },
      "source": [
        "Generate new data to make predictions with the model:"
      ]
    },
    {
      "cell_type": "code",
      "metadata": {
        "colab": {
          "base_uri": "https://localhost:8080/"
        },
        "id": "FuEd0Wp0VQwQ",
        "outputId": "367f69d6-5d6a-4dd8-a2b2-1c7de2340fdd"
      },
      "source": [
        "X_new = np.array([[0], [2]])\n",
        "X_new"
      ],
      "execution_count": null,
      "outputs": [
        {
          "output_type": "execute_result",
          "data": {
            "text/plain": [
              "array([[0],\n",
              "       [2]])"
            ]
          },
          "metadata": {},
          "execution_count": 51
        }
      ]
    },
    {
      "cell_type": "code",
      "metadata": {
        "colab": {
          "base_uri": "https://localhost:8080/"
        },
        "id": "lLCnLm7_VQwQ",
        "outputId": "40e094c6-54d4-4019-9748-81cca8f6820e"
      },
      "source": [
        "X_new.shape"
      ],
      "execution_count": null,
      "outputs": [
        {
          "output_type": "execute_result",
          "data": {
            "text/plain": [
              "(2, 1)"
            ]
          },
          "metadata": {},
          "execution_count": 52
        }
      ]
    },
    {
      "cell_type": "code",
      "metadata": {
        "colab": {
          "base_uri": "https://localhost:8080/"
        },
        "id": "zJIzUfZsVQwQ",
        "outputId": "e7cfadbc-9048-4843-c3cb-c728cdc90f50"
      },
      "source": [
        "y_new = linear_reg.predict(X_new)\n",
        "y_new"
      ],
      "execution_count": null,
      "outputs": [
        {
          "output_type": "execute_result",
          "data": {
            "text/plain": [
              "array([[ 3.74406122],\n",
              "       [10.47517611]])"
            ]
          },
          "metadata": {},
          "execution_count": 53
        }
      ]
    },
    {
      "cell_type": "code",
      "metadata": {
        "colab": {
          "base_uri": "https://localhost:8080/"
        },
        "id": "ICiEnkbdVQwQ",
        "outputId": "300cd885-b624-4eb8-8c55-70c953c23b70"
      },
      "source": [
        " linear_reg.coef_, linear_reg.intercept_"
      ],
      "execution_count": null,
      "outputs": [
        {
          "output_type": "execute_result",
          "data": {
            "text/plain": [
              "(array([[3.36555744]]), array([3.74406122]))"
            ]
          },
          "metadata": {},
          "execution_count": 54
        }
      ]
    },
    {
      "cell_type": "markdown",
      "metadata": {
        "id": "iBXzOecgVQwR"
      },
      "source": [
        "The model estimates:\n",
        "\n",
        "$\\hat{y} = 3.36X + 3.74$"
      ]
    },
    {
      "cell_type": "code",
      "metadata": {
        "id": "ZNvipq0wQYfj"
      },
      "source": [
        "#|VENTAS|GANANCIAS|\n",
        "#COEF*VENTAS+B\n",
        "#|VENTAS|COMPRAS|GANANCIAS|\n",
        "#COEF1*X1+COEF2*X2+B=Y"
      ],
      "execution_count": null,
      "outputs": []
    },
    {
      "cell_type": "markdown",
      "metadata": {
        "id": "_Rv-RJSnVQwR"
      },
      "source": [
        "## Polynomial Regression\n",
        "\n",
        "If data is more complex than a straight line, you can use a linear model ti fit non-linear data adding powers of each feature as new features and then train a linear model on the extended set of features. "
      ]
    },
    {
      "cell_type": "markdown",
      "metadata": {
        "id": "dPrpAVsZVQwR"
      },
      "source": [
        "$$y = a_0 + a_1x_1 + a_2x_2 + a_3x_3 + ...$$ to $$y = a_0 + a_1x + a_2x^2 + a_3x^3+ ...$$ "
      ]
    },
    {
      "cell_type": "markdown",
      "metadata": {
        "id": "9kjMWzEfVQwR"
      },
      "source": [
        "This is still a linear model, the linearity refers to the fact that the coefficients never multiply or divide each other."
      ]
    },
    {
      "cell_type": "markdown",
      "metadata": {
        "id": "2M3fp_CSVQwR"
      },
      "source": [
        "To generate polynomial data we use the function:\n",
        "\n",
        "$y = 0.50X^2 + X + 2 + noise$"
      ]
    },
    {
      "cell_type": "code",
      "metadata": {
        "id": "sSrueMnPVQwR"
      },
      "source": [
        "# generate non-linear data e.g. quadratic equation\n",
        "m = 100\n",
        "X = 6 * np.random.rand(m, 1) - 3\n",
        "y = 0.5 * X**2 + X + 2 + np.random.randn(m, 1)"
      ],
      "execution_count": null,
      "outputs": []
    },
    {
      "cell_type": "code",
      "metadata": {
        "colab": {
          "base_uri": "https://localhost:8080/",
          "height": 291
        },
        "id": "GNQQoXkMVQwS",
        "outputId": "5284814d-3b79-4a75-c7c3-a26c161846ca"
      },
      "source": [
        "plt.plot(X, y, \"b.\")\n",
        "plt.xlabel(\"$x_1$\", fontsize=18)\n",
        "plt.ylabel(\"$y$\", rotation=0, fontsize=18)\n",
        "plt.axis([-3, 3, 0, 10]);"
      ],
      "execution_count": null,
      "outputs": [
        {
          "output_type": "display_data",
          "data": {
            "text/plain": [
              "<Figure size 432x288 with 1 Axes>"
            ],
            "image/png": "[encoded data removed]"
          },
          "metadata": {
            "needs_background": "light"
          }
        }
      ]
    },
    {
      "cell_type": "code",
      "source": [
        "import pandas as pd\n",
        "pd.DataFrame(y)"
      ],
      "metadata": {
        "id": "YtaK_dsidNcP",
        "outputId": "ed940d74-045d-4578-a1c1-3cac6bbea074",
        "colab": {
          "base_uri": "https://localhost:8080/",
          "height": 423
        }
      },
      "execution_count": null,
      "outputs": [
        {
          "output_type": "execute_result",
          "data": {
            "text/plain": [
              "           0\n",
              "0   3.998940\n",
              "1   4.320418\n",
              "2   2.599923\n",
              "3   2.175267\n",
              "4   0.447174\n",
              "..       ...\n",
              "95  0.565325\n",
              "96  2.759217\n",
              "97  3.314489\n",
              "98  3.124415\n",
              "99  1.650905\n",
              "\n",
              "[100 rows x 1 columns]"
            ],
            "text/html": [
              "\n",
              "  <div id=\"df-a10cfaa4-512e-4bca-b06c-4dff01d92ace\">\n",
              "    <div class=\"colab-df-container\">\n",
              "      <div>\n",
              "<style scoped>\n",
              "    .dataframe tbody tr th:only-of-type {\n",
              "        vertical-align: middle;\n",
              "    }\n",
              "\n",
              "    .dataframe tbody tr th {\n",
              "        vertical-align: top;\n",
              "    }\n",
              "\n",
              "    .dataframe thead th {\n",
              "        text-align: right;\n",
              "    }\n",
              "</style>\n",
              "<table border=\"1\" class=\"dataframe\">\n",
              "  <thead>\n",
              "    <tr style=\"text-align: right;\">\n",
              "      <th></th>\n",
              "      <th>0</th>\n",
              "    </tr>\n",
              "  </thead>\n",
              "  <tbody>\n",
              "    <tr>\n",
              "      <th>0</th>\n",
              "      <td>3.998940</td>\n",
              "    </tr>\n",
              "    <tr>\n",
              "      <th>1</th>\n",
              "      <td>4.320418</td>\n",
              "    </tr>\n",
              "    <tr>\n",
              "      <th>2</th>\n",
              "      <td>2.599923</td>\n",
              "    </tr>\n",
              "    <tr>\n",
              "      <th>3</th>\n",
              "      <td>2.175267</td>\n",
              "    </tr>\n",
              "    <tr>\n",
              "      <th>4</th>\n",
              "      <td>0.447174</td>\n",
              "    </tr>\n",
              "    <tr>\n",
              "      <th>...</th>\n",
              "      <td>...</td>\n",
              "    </tr>\n",
              "    <tr>\n",
              "      <th>95</th>\n",
              "      <td>0.565325</td>\n",
              "    </tr>\n",
              "    <tr>\n",
              "      <th>96</th>\n",
              "      <td>2.759217</td>\n",
              "    </tr>\n",
              "    <tr>\n",
              "      <th>97</th>\n",
              "      <td>3.314489</td>\n",
              "    </tr>\n",
              "    <tr>\n",
              "      <th>98</th>\n",
              "      <td>3.124415</td>\n",
              "    </tr>\n",
              "    <tr>\n",
              "      <th>99</th>\n",
              "      <td>1.650905</td>\n",
              "    </tr>\n",
              "  </tbody>\n",
              "</table>\n",
              "<p>100 rows × 1 columns</p>\n",
              "</div>\n",
              "      <button class=\"colab-df-convert\" onclick=\"convertToInteractive('df-a10cfaa4-512e-4bca-b06c-4dff01d92ace')\"\n",
              "              title=\"Convert this dataframe to an interactive table.\"\n",
              "              style=\"display:none;\">\n",
              "        \n",
              "  <svg xmlns=\"http://www.w3.org/2000/svg\" height=\"24px\"viewBox=\"0 0 24 24\"\n",
              "       width=\"24px\">\n",
              "    <path d=\"M0 0h24v24H0V0z\" fill=\"none\"/>\n",
              "    <path d=\"M18.56 5.44l.94 2.06.94-2.06 2.06-.94-2.06-.94-.94-2.06-.94 2.06-2.06.94zm-11 1L8.5 8.5l.94-2.06 2.06-.94-2.06-.94L8.5 2.5l-.94 2.06-2.06.94zm10 10l.94 2.06.94-2.06 2.06-.94-2.06-.94-.94-2.06-.94 2.06-2.06.94z\"/><path d=\"M17.41 7.96l-1.37-1.37c-.4-.4-.92-.59-1.43-.59-.52 0-1.04.2-1.43.59L10.3 9.45l-7.72 7.72c-.78.78-.78 2.05 0 2.83L4 21.41c.39.39.9.59 1.41.59.51 0 1.02-.2 1.41-.59l7.78-7.78 2.81-2.81c.8-.78.8-2.07 0-2.86zM5.41 20L4 18.59l7.72-7.72 1.47 1.35L5.41 20z\"/>\n",
              "  </svg>\n",
              "      </button>\n",
              "      \n",
              "  <style>\n",
              "    .colab-df-container {\n",
              "      display:flex;\n",
              "      flex-wrap:wrap;\n",
              "      gap: 12px;\n",
              "    }\n",
              "\n",
              "    .colab-df-convert {\n",
              "      background-color: #E8F0FE;\n",
              "      border: none;\n",
              "      border-radius: 50%;\n",
              "      cursor: pointer;\n",
              "      display: none;\n",
              "      fill: #1967D2;\n",
              "      height: 32px;\n",
              "      padding: 0 0 0 0;\n",
              "      width: 32px;\n",
              "    }\n",
              "\n",
              "    .colab-df-convert:hover {\n",
              "      background-color: #E2EBFA;\n",
              "      box-shadow: 0px 1px 2px rgba(60, 64, 67, 0.3), 0px 1px 3px 1px rgba(60, 64, 67, 0.15);\n",
              "      fill: #174EA6;\n",
              "    }\n",
              "\n",
              "    [theme=dark] .colab-df-convert {\n",
              "      background-color: #3B4455;\n",
              "      fill: #D2E3FC;\n",
              "    }\n",
              "\n",
              "    [theme=dark] .colab-df-convert:hover {\n",
              "      background-color: #434B5C;\n",
              "      box-shadow: 0px 1px 3px 1px rgba(0, 0, 0, 0.15);\n",
              "      filter: drop-shadow(0px 1px 2px rgba(0, 0, 0, 0.3));\n",
              "      fill: #FFFFFF;\n",
              "    }\n",
              "  </style>\n",
              "\n",
              "      <script>\n",
              "        const buttonEl =\n",
              "          document.querySelector('#df-a10cfaa4-512e-4bca-b06c-4dff01d92ace button.colab-df-convert');\n",
              "        buttonEl.style.display =\n",
              "          google.colab.kernel.accessAllowed ? 'block' : 'none';\n",
              "\n",
              "        async function convertToInteractive(key) {\n",
              "          const element = document.querySelector('#df-a10cfaa4-512e-4bca-b06c-4dff01d92ace');\n",
              "          const dataTable =\n",
              "            await google.colab.kernel.invokeFunction('convertToInteractive',\n",
              "                                                     [key], {});\n",
              "          if (!dataTable) return;\n",
              "\n",
              "          const docLinkHtml = 'Like what you see? Visit the ' +\n",
              "            '<a target=\"_blank\" href=https://colab.research.google.com/notebooks/data_table.ipynb>data table notebook</a>'\n",
              "            + ' to learn more about interactive tables.';\n",
              "          element.innerHTML = '';\n",
              "          dataTable['output_type'] = 'display_data';\n",
              "          await google.colab.output.renderOutput(dataTable, element);\n",
              "          const docLink = document.createElement('div');\n",
              "          docLink.innerHTML = docLinkHtml;\n",
              "          element.appendChild(docLink);\n",
              "        }\n",
              "      </script>\n",
              "    </div>\n",
              "  </div>\n",
              "  "
            ]
          },
          "metadata": {},
          "execution_count": 76
        }
      ]
    },
    {
      "cell_type": "markdown",
      "metadata": {
        "id": "vrZTRaLNVQwS"
      },
      "source": [
        "Now we can use `PolynomialFeatues` to transform training data adding the square of each feature as new features."
      ]
    },
    {
      "cell_type": "code",
      "metadata": {
        "id": "BXo0Hm56VQwS"
      },
      "source": [
        "from sklearn.preprocessing import PolynomialFeatures\n",
        "\n",
        "poly_features = PolynomialFeatures(degree=2, include_bias=False)\n",
        "X_poly = poly_features.fit_transform(X)"
      ],
      "execution_count": null,
      "outputs": []
    },
    {
      "cell_type": "code",
      "metadata": {
        "colab": {
          "base_uri": "https://localhost:8080/"
        },
        "id": "1FqY9-I4VQwS",
        "outputId": "d5d3ca46-6530-4848-96a2-2a9c61918fbc"
      },
      "source": [
        "X_poly"
      ],
      "execution_count": null,
      "outputs": [
        {
          "output_type": "execute_result",
          "data": {
            "text/plain": [
              "array([[-2.38324557e+00,  5.67985946e+00],\n",
              "       [ 4.25427011e-01,  1.80988142e-01],\n",
              "       [-2.88979418e+00,  8.35091039e+00],\n",
              "       [-1.05861711e-01,  1.12067018e-02],\n",
              "       [-1.73790252e+00,  3.02030517e+00],\n",
              "       [-9.23900594e-01,  8.53592308e-01],\n",
              "       [ 1.65482841e+00,  2.73845708e+00],\n",
              "       [ 2.64742503e+00,  7.00885927e+00],\n",
              "       [-2.56550237e+00,  6.58180240e+00],\n",
              "       [ 2.05453236e-01,  4.22110321e-02],\n",
              "       [ 2.29520091e+00,  5.26794724e+00],\n",
              "       [-2.50494879e+00,  6.27476846e+00],\n",
              "       [ 1.94708428e+00,  3.79113720e+00],\n",
              "       [-8.53191894e-01,  7.27936409e-01],\n",
              "       [-1.06743179e+00,  1.13941062e+00],\n",
              "       [ 2.86479832e+00,  8.20706940e+00],\n",
              "       [-1.79484546e+00,  3.22147023e+00],\n",
              "       [ 1.15916364e+00,  1.34366036e+00],\n",
              "       [ 1.92864437e+00,  3.71966910e+00],\n",
              "       [-2.75289903e+00,  7.57845306e+00],\n",
              "       [ 1.02231275e+00,  1.04512336e+00],\n",
              "       [ 2.70929985e+00,  7.34030566e+00],\n",
              "       [-2.25468020e+00,  5.08358280e+00],\n",
              "       [ 2.37732782e+00,  5.65168755e+00],\n",
              "       [ 5.68659824e-01,  3.23373996e-01],\n",
              "       [ 6.99627491e-01,  4.89478626e-01],\n",
              "       [ 6.77665049e-01,  4.59229919e-01],\n",
              "       [-1.20698468e+00,  1.45681202e+00],\n",
              "       [ 2.61121089e+00,  6.81842232e+00],\n",
              "       [ 2.68410278e+00,  7.20440771e+00],\n",
              "       [ 7.51827961e-01,  5.65245283e-01],\n",
              "       [ 1.70053636e+00,  2.89182390e+00],\n",
              "       [ 6.73547915e-01,  4.53666794e-01],\n",
              "       [-9.36093146e-02,  8.76270377e-03],\n",
              "       [ 9.64920710e-01,  9.31071976e-01],\n",
              "       [ 3.18008716e-01,  1.01129543e-01],\n",
              "       [ 5.84855176e-01,  3.42055577e-01],\n",
              "       [ 1.70299532e+00,  2.90019306e+00],\n",
              "       [-1.14577011e-01,  1.31278915e-02],\n",
              "       [-2.75547536e+00,  7.59264448e+00],\n",
              "       [-2.01600311e+00,  4.06426856e+00],\n",
              "       [-3.68356701e-01,  1.35686659e-01],\n",
              "       [ 1.34895936e+00,  1.81969135e+00],\n",
              "       [ 5.59671890e-01,  3.13232624e-01],\n",
              "       [ 9.01765115e-01,  8.13180323e-01],\n",
              "       [-1.24326429e-01,  1.54570608e-02],\n",
              "       [ 6.94452132e-01,  4.82263763e-01],\n",
              "       [-1.02589537e+00,  1.05246132e+00],\n",
              "       [-1.78904444e-01,  3.20068000e-02],\n",
              "       [ 1.46567439e+00,  2.14820143e+00],\n",
              "       [ 2.23099667e+00,  4.97734616e+00],\n",
              "       [-3.98067996e-01,  1.58458130e-01],\n",
              "       [-2.73803005e+00,  7.49680858e+00],\n",
              "       [-2.02996474e+00,  4.12075683e+00],\n",
              "       [-2.87483316e+00,  8.26466572e+00],\n",
              "       [ 9.19578115e-01,  8.45623910e-01],\n",
              "       [-1.00611225e+00,  1.01226186e+00],\n",
              "       [ 2.54871814e-01,  6.49596417e-02],\n",
              "       [-4.03389193e-02,  1.62722841e-03],\n",
              "       [-2.51084106e+00,  6.30432284e+00],\n",
              "       [-5.80431833e-01,  3.36901113e-01],\n",
              "       [-1.67663325e+00,  2.81109906e+00],\n",
              "       [-4.89601268e-01,  2.39709402e-01],\n",
              "       [-1.77853032e+00,  3.16317009e+00],\n",
              "       [ 2.04271444e+00,  4.17268227e+00],\n",
              "       [-1.95483998e+00,  3.82139935e+00],\n",
              "       [ 2.76468331e+00,  7.64347380e+00],\n",
              "       [-5.04555803e-01,  2.54576558e-01],\n",
              "       [ 2.07747175e+00,  4.31588888e+00],\n",
              "       [ 7.72588909e-01,  5.96893623e-01],\n",
              "       [ 1.41210179e+00,  1.99403147e+00],\n",
              "       [ 1.60634333e+00,  2.58033889e+00],\n",
              "       [ 2.90692914e-02,  8.45023700e-04],\n",
              "       [ 2.59803140e-01,  6.74976716e-02],\n",
              "       [ 8.39752069e-02,  7.05183537e-03],\n",
              "       [ 5.28350269e-01,  2.79154006e-01],\n",
              "       [-2.82363333e+00,  7.97290516e+00],\n",
              "       [-6.26908981e-01,  3.93014870e-01],\n",
              "       [ 6.37132281e-01,  4.05937544e-01],\n",
              "       [ 5.86341392e-01,  3.43796227e-01],\n",
              "       [ 1.75773657e+00,  3.08963784e+00],\n",
              "       [ 9.30056033e-01,  8.65004225e-01],\n",
              "       [ 2.95279990e+00,  8.71902724e+00],\n",
              "       [-1.29687283e+00,  1.68187913e+00],\n",
              "       [-8.45093822e-01,  7.14183568e-01],\n",
              "       [-6.96917089e-01,  4.85693429e-01],\n",
              "       [-2.05123158e-01,  4.20755099e-02],\n",
              "       [ 2.01598838e+00,  4.06420916e+00],\n",
              "       [-1.58524744e+00,  2.51300943e+00],\n",
              "       [ 1.65600124e+00,  2.74234011e+00],\n",
              "       [-5.68138901e-01,  3.22781811e-01],\n",
              "       [ 6.11132302e-01,  3.73482691e-01],\n",
              "       [ 7.95243199e-01,  6.32411746e-01],\n",
              "       [-7.62908177e-01,  5.82028886e-01],\n",
              "       [ 7.56912312e-02,  5.72916249e-03],\n",
              "       [-5.21812952e-01,  2.72288757e-01],\n",
              "       [-2.58520328e+00,  6.68327601e+00],\n",
              "       [-3.77007667e-01,  1.42134781e-01],\n",
              "       [-2.41563964e+00,  5.83531489e+00],\n",
              "       [-5.69875206e-01,  3.24757750e-01]])"
            ]
          },
          "metadata": {},
          "execution_count": 78
        }
      ]
    },
    {
      "cell_type": "markdown",
      "metadata": {
        "id": "GrFMRU_eVQwS"
      },
      "source": [
        "`X_poly` now contains the original feature of X plus the square of the feature:"
      ]
    },
    {
      "cell_type": "code",
      "metadata": {
        "colab": {
          "base_uri": "https://localhost:8080/"
        },
        "id": "M8FH1dY2UwgN",
        "outputId": "b1ab252f-15be-4663-8014-d7420047017e"
      },
      "source": [
        "print(X[0])\n",
        "print(X[0]*X[0])\n"
      ],
      "execution_count": null,
      "outputs": [
        {
          "output_type": "stream",
          "name": "stdout",
          "text": [
            "[-2.38324557]\n",
            "[5.67985946]\n"
          ]
        }
      ]
    },
    {
      "cell_type": "code",
      "metadata": {
        "colab": {
          "base_uri": "https://localhost:8080/"
        },
        "id": "PSflPniWVQwT",
        "outputId": "5c8dc768-8e52-42f9-e790-5ba1ce7d5816"
      },
      "source": [
        "X_poly[0]"
      ],
      "execution_count": null,
      "outputs": [
        {
          "output_type": "execute_result",
          "data": {
            "text/plain": [
              "array([-2.38324557,  5.67985946])"
            ]
          },
          "metadata": {},
          "execution_count": 80
        }
      ]
    },
    {
      "cell_type": "markdown",
      "metadata": {
        "id": "HaXjXg7FVQwT"
      },
      "source": [
        "Fit the model to this extended training data:"
      ]
    },
    {
      "cell_type": "code",
      "metadata": {
        "colab": {
          "base_uri": "https://localhost:8080/"
        },
        "id": "c0Qu93dgVQwT",
        "outputId": "2d33bd34-f425-4206-87b9-49daa184637c"
      },
      "source": [
        "lin_reg = LinearRegression(fit_intercept=True)\n",
        "lin_reg.fit(X_poly, y)\n",
        "lin_reg.coef_, lin_reg.intercept_"
      ],
      "execution_count": null,
      "outputs": [
        {
          "output_type": "execute_result",
          "data": {
            "text/plain": [
              "(array([[0.89643337, 0.48819444]]), array([2.09460069]))"
            ]
          },
          "metadata": {},
          "execution_count": 81
        }
      ]
    },
    {
      "cell_type": "markdown",
      "metadata": {
        "id": "rKOSwvnmVQwT"
      },
      "source": [
        "The model estimates:\n",
        "\n",
        "$\\hat{y} =  0.89X +0.48X^2 + 2.09$"
      ]
    },
    {
      "cell_type": "markdown",
      "metadata": {
        "id": "_EtZEKz5VQwT"
      },
      "source": [
        "Plot the data and the predictions:"
      ]
    },
    {
      "cell_type": "code",
      "metadata": {
        "colab": {
          "base_uri": "https://localhost:8080/",
          "height": 291
        },
        "id": "6Q8dHRgdVQwT",
        "outputId": "eeb2ed3a-bcc3-4f4d-b052-65f07a498a05"
      },
      "source": [
        "X_new=np.linspace(-3, 3, 100).reshape(100, 1)\n",
        "X_new_poly = poly_features.transform(X_new)\n",
        "y_new = lin_reg.predict(X_new_poly)\n",
        "plt.plot(X, y, \"b.\")\n",
        "plt.plot(X_new, y_new, \"r-\", linewidth=2, label=\"Predictions\")\n",
        "plt.xlabel(\"$x_1$\", fontsize=18)\n",
        "plt.ylabel(\"$y$\", rotation=0, fontsize=18)\n",
        "plt.legend(loc=\"upper left\", fontsize=14)\n",
        "plt.axis([-3, 3, 0, 10]);"
      ],
      "execution_count": null,
      "outputs": [
        {
          "output_type": "display_data",
          "data": {
            "text/plain": [
              "<Figure size 432x288 with 1 Axes>"
            ],
            "image/png": "[encoded data removed]"
          },
          "metadata": {
            "needs_background": "light"
          }
        }
      ]
    },
    {
      "cell_type": "code",
      "source": [],
      "metadata": {
        "id": "vyq0o8f2pcqa"
      },
      "execution_count": null,
      "outputs": []
    },
    {
      "cell_type": "markdown",
      "source": [
        "## R square\n",
        "\n",
        "R² es una medida estadística de qué tan cerca están los datos de la línea de regresión ajustada. También se conoce como el coeficiente de determinación o el coeficiente de determinación múltiple para la regresión múltiple. Para decirlo en un lenguaje más simple, R² es una medida de ajuste para los modelos de regresión lineal.\n",
        "\n",
        "\n",
        "\n",
        "R² no indica si un modelo de regresión se ajusta adecuadamente a sus datos. Un buen modelo puede tener un valor R² bajo. Por otro lado, un modelo sesgado puede tener un valor alto de R².\n",
        "\n",
        " SSres + SSreg = SStot, R² = Explained variation / Total Variation\n",
        " \n",
        " ![image.png](https://i.stack.imgur.com/xb1VY.png)\n",
        " \n",
        "![image.png](https://3.bp.blogspot.com/-MFqQLwbGwd4/WMO7tz39beI/AAAAAAAAF9I/Bjpfohgv_5E4lu7HzHJBQtXsBM--byqPwCLcB/s1600/rsquared.png)\n"
      ],
      "metadata": {
        "id": "TIFwAtW1pc6h"
      }
    },
    {
      "cell_type": "markdown",
      "metadata": {
        "id": "nTKFj4x9LMXm"
      },
      "source": [
        "# Ejercicio 1\n",
        "\n",
        "Utiliza la base de datos de \n",
        "https://www.kaggle.com/vinicius150987/manufacturing-cost\n",
        "\n",
        "Suponga que trabaja como consultor de una empresa de nueva creación que busca desarrollar un modelo para estimar el costo de los bienes vendidos a medida que varían el volumen de producción (número de unidades producidas). La startup recopiló datos y le pidió que desarrollara un modelo para predecir su costo frente a la cantidad de unidades vendidas."
      ]
    },
    {
      "cell_type": "code",
      "metadata": {
        "colab": {
          "base_uri": "https://localhost:8080/",
          "height": 363
        },
        "id": "oTnErQOkL3oa",
        "outputId": "f3df0ed5-9e44-4077-9955-3b45ec36ffb4"
      },
      "source": [
        "import pandas as pd\n",
        "df = pd.read_csv('https://raw.githubusercontent.com/marypazrf/bdd/main/EconomiesOfScale.csv')\n",
        "df.sample(10)"
      ],
      "execution_count": 8,
      "outputs": [
        {
          "output_type": "execute_result",
          "data": {
            "text/plain": [
              "     Number of Units  Manufacturing Cost\n",
              "597         4.787700           33.916306\n",
              "700         5.139742           38.849155\n",
              "632         4.946467           36.827384\n",
              "586         4.724777           35.449822\n",
              "602         4.798105           40.280771\n",
              "154         3.112526           35.130281\n",
              "65          2.502705           44.442539\n",
              "745         5.314816           29.963480\n",
              "478         4.342330           30.460253\n",
              "67          2.520240           61.879641"
            ],
            "text/html": [
              "\n",
              "  <div id=\"df-67b917df-365f-4fb7-94c8-3023f7caf5d4\">\n",
              "    <div class=\"colab-df-container\">\n",
              "      <div>\n",
              "<style scoped>\n",
              "    .dataframe tbody tr th:only-of-type {\n",
              "        vertical-align: middle;\n",
              "    }\n",
              "\n",
              "    .dataframe tbody tr th {\n",
              "        vertical-align: top;\n",
              "    }\n",
              "\n",
              "    .dataframe thead th {\n",
              "        text-align: right;\n",
              "    }\n",
              "</style>\n",
              "<table border=\"1\" class=\"dataframe\">\n",
              "  <thead>\n",
              "    <tr style=\"text-align: right;\">\n",
              "      <th></th>\n",
              "      <th>Number of Units</th>\n",
              "      <th>Manufacturing Cost</th>\n",
              "    </tr>\n",
              "  </thead>\n",
              "  <tbody>\n",
              "    <tr>\n",
              "      <th>597</th>\n",
              "      <td>4.787700</td>\n",
              "      <td>33.916306</td>\n",
              "    </tr>\n",
              "    <tr>\n",
              "      <th>700</th>\n",
              "      <td>5.139742</td>\n",
              "      <td>38.849155</td>\n",
              "    </tr>\n",
              "    <tr>\n",
              "      <th>632</th>\n",
              "      <td>4.946467</td>\n",
              "      <td>36.827384</td>\n",
              "    </tr>\n",
              "    <tr>\n",
              "      <th>586</th>\n",
              "      <td>4.724777</td>\n",
              "      <td>35.449822</td>\n",
              "    </tr>\n",
              "    <tr>\n",
              "      <th>602</th>\n",
              "      <td>4.798105</td>\n",
              "      <td>40.280771</td>\n",
              "    </tr>\n",
              "    <tr>\n",
              "      <th>154</th>\n",
              "      <td>3.112526</td>\n",
              "      <td>35.130281</td>\n",
              "    </tr>\n",
              "    <tr>\n",
              "      <th>65</th>\n",
              "      <td>2.502705</td>\n",
              "      <td>44.442539</td>\n",
              "    </tr>\n",
              "    <tr>\n",
              "      <th>745</th>\n",
              "      <td>5.314816</td>\n",
              "      <td>29.963480</td>\n",
              "    </tr>\n",
              "    <tr>\n",
              "      <th>478</th>\n",
              "      <td>4.342330</td>\n",
              "      <td>30.460253</td>\n",
              "    </tr>\n",
              "    <tr>\n",
              "      <th>67</th>\n",
              "      <td>2.520240</td>\n",
              "      <td>61.879641</td>\n",
              "    </tr>\n",
              "  </tbody>\n",
              "</table>\n",
              "</div>\n",
              "      <button class=\"colab-df-convert\" onclick=\"convertToInteractive('df-67b917df-365f-4fb7-94c8-3023f7caf5d4')\"\n",
              "              title=\"Convert this dataframe to an interactive table.\"\n",
              "              style=\"display:none;\">\n",
              "        \n",
              "  <svg xmlns=\"http://www.w3.org/2000/svg\" height=\"24px\"viewBox=\"0 0 24 24\"\n",
              "       width=\"24px\">\n",
              "    <path d=\"M0 0h24v24H0V0z\" fill=\"none\"/>\n",
              "    <path d=\"M18.56 5.44l.94 2.06.94-2.06 2.06-.94-2.06-.94-.94-2.06-.94 2.06-2.06.94zm-11 1L8.5 8.5l.94-2.06 2.06-.94-2.06-.94L8.5 2.5l-.94 2.06-2.06.94zm10 10l.94 2.06.94-2.06 2.06-.94-2.06-.94-.94-2.06-.94 2.06-2.06.94z\"/><path d=\"M17.41 7.96l-1.37-1.37c-.4-.4-.92-.59-1.43-.59-.52 0-1.04.2-1.43.59L10.3 9.45l-7.72 7.72c-.78.78-.78 2.05 0 2.83L4 21.41c.39.39.9.59 1.41.59.51 0 1.02-.2 1.41-.59l7.78-7.78 2.81-2.81c.8-.78.8-2.07 0-2.86zM5.41 20L4 18.59l7.72-7.72 1.47 1.35L5.41 20z\"/>\n",
              "  </svg>\n",
              "      </button>\n",
              "      \n",
              "  <style>\n",
              "    .colab-df-container {\n",
              "      display:flex;\n",
              "      flex-wrap:wrap;\n",
              "      gap: 12px;\n",
              "    }\n",
              "\n",
              "    .colab-df-convert {\n",
              "      background-color: #E8F0FE;\n",
              "      border: none;\n",
              "      border-radius: 50%;\n",
              "      cursor: pointer;\n",
              "      display: none;\n",
              "      fill: #1967D2;\n",
              "      height: 32px;\n",
              "      padding: 0 0 0 0;\n",
              "      width: 32px;\n",
              "    }\n",
              "\n",
              "    .colab-df-convert:hover {\n",
              "      background-color: #E2EBFA;\n",
              "      box-shadow: 0px 1px 2px rgba(60, 64, 67, 0.3), 0px 1px 3px 1px rgba(60, 64, 67, 0.15);\n",
              "      fill: #174EA6;\n",
              "    }\n",
              "\n",
              "    [theme=dark] .colab-df-convert {\n",
              "      background-color: #3B4455;\n",
              "      fill: #D2E3FC;\n",
              "    }\n",
              "\n",
              "    [theme=dark] .colab-df-convert:hover {\n",
              "      background-color: #434B5C;\n",
              "      box-shadow: 0px 1px 3px 1px rgba(0, 0, 0, 0.15);\n",
              "      filter: drop-shadow(0px 1px 2px rgba(0, 0, 0, 0.3));\n",
              "      fill: #FFFFFF;\n",
              "    }\n",
              "  </style>\n",
              "\n",
              "      <script>\n",
              "        const buttonEl =\n",
              "          document.querySelector('#df-67b917df-365f-4fb7-94c8-3023f7caf5d4 button.colab-df-convert');\n",
              "        buttonEl.style.display =\n",
              "          google.colab.kernel.accessAllowed ? 'block' : 'none';\n",
              "\n",
              "        async function convertToInteractive(key) {\n",
              "          const element = document.querySelector('#df-67b917df-365f-4fb7-94c8-3023f7caf5d4');\n",
              "          const dataTable =\n",
              "            await google.colab.kernel.invokeFunction('convertToInteractive',\n",
              "                                                     [key], {});\n",
              "          if (!dataTable) return;\n",
              "\n",
              "          const docLinkHtml = 'Like what you see? Visit the ' +\n",
              "            '<a target=\"_blank\" href=https://colab.research.google.com/notebooks/data_table.ipynb>data table notebook</a>'\n",
              "            + ' to learn more about interactive tables.';\n",
              "          element.innerHTML = '';\n",
              "          dataTable['output_type'] = 'display_data';\n",
              "          await google.colab.output.renderOutput(dataTable, element);\n",
              "          const docLink = document.createElement('div');\n",
              "          docLink.innerHTML = docLinkHtml;\n",
              "          element.appendChild(docLink);\n",
              "        }\n",
              "      </script>\n",
              "    </div>\n",
              "  </div>\n",
              "  "
            ]
          },
          "metadata": {},
          "execution_count": 8
        }
      ]
    },
    {
      "cell_type": "code",
      "metadata": {
        "id": "14kGO5nkMGlV"
      },
      "source": [
        "X = df[['Number of Units']]\n",
        "y = df['Manufacturing Cost']"
      ],
      "execution_count": 9,
      "outputs": []
    },
    {
      "cell_type": "code",
      "source": [
        "len(X)"
      ],
      "metadata": {
        "id": "ksh_OrkjY3GW",
        "outputId": "2455aae4-2df4-45dd-f6ad-d768abc62342",
        "colab": {
          "base_uri": "https://localhost:8080/"
        }
      },
      "execution_count": null,
      "outputs": [
        {
          "output_type": "execute_result",
          "data": {
            "text/plain": [
              "1000"
            ]
          },
          "metadata": {},
          "execution_count": 85
        }
      ]
    },
    {
      "cell_type": "code",
      "source": [
        "y.describe"
      ],
      "metadata": {
        "colab": {
          "base_uri": "https://localhost:8080/"
        },
        "id": "bwR6SSqQDfC2",
        "outputId": "8c71bb99-92e3-4a5d-8b3f-fb9bfb540a33"
      },
      "execution_count": 10,
      "outputs": [
        {
          "output_type": "execute_result",
          "data": {
            "text/plain": [
              "<bound method NDFrame.describe of 0      95.066056\n",
              "1      96.531750\n",
              "2      73.661311\n",
              "3      95.566843\n",
              "4      98.777013\n",
              "         ...    \n",
              "995    23.855067\n",
              "996    27.536542\n",
              "997    25.973787\n",
              "998    25.138311\n",
              "999    21.547777\n",
              "Name: Manufacturing Cost, Length: 1000, dtype: float64>"
            ]
          },
          "metadata": {},
          "execution_count": 10
        }
      ]
    },
    {
      "cell_type": "code",
      "metadata": {
        "colab": {
          "base_uri": "https://localhost:8080/",
          "height": 283
        },
        "id": "idoEjfEhMoxk",
        "outputId": "d47d698e-85bf-4d7b-d22c-1d16e7119645"
      },
      "source": [
        "plt.plot(X,y,'b.')"
      ],
      "execution_count": 11,
      "outputs": [
        {
          "output_type": "execute_result",
          "data": {
            "text/plain": [
              "[<matplotlib.lines.Line2D at 0x7f896f954710>]"
            ]
          },
          "metadata": {},
          "execution_count": 11
        },
        {
          "output_type": "display_data",
          "data": {
            "text/plain": [
              "<Figure size 432x288 with 1 Axes>"
            ],
            "image/png": "[encoded data removed]"
          },
          "metadata": {
            "needs_background": "light"
          }
        }
      ]
    },
    {
      "cell_type": "code",
      "source": [
        "from sklearn.linear_model import LinearRegression\n",
        "from sklearn.model_selection import train_test_split"
      ],
      "metadata": {
        "id": "A2ow2k5S36W1"
      },
      "execution_count": 14,
      "outputs": []
    },
    {
      "cell_type": "markdown",
      "source": [
        "### Divide los datos del costo de manufactura. Utiliza la función train_test_split (viene el ejemplo al final del notebook)."
      ],
      "metadata": {
        "id": "iinrhmKs382b"
      }
    },
    {
      "cell_type": "code",
      "source": [
        "X_train, X_test, y_train, y_test = train_test_split(X, y, test_size = 0.1, random_state = 101)"
      ],
      "metadata": {
        "id": "uLyHcXV73_D0"
      },
      "execution_count": 15,
      "outputs": []
    },
    {
      "cell_type": "markdown",
      "source": [
        "### Regresión Lineal"
      ],
      "metadata": {
        "id": "nC89wznU4Jdb"
      }
    },
    {
      "cell_type": "markdown",
      "source": [
        "Realiza la regresión lineal: modelo generado (ecuación), su visualización, sus errores y r cuadrada."
      ],
      "metadata": {
        "id": "_yugsdLR4K27"
      }
    },
    {
      "cell_type": "markdown",
      "source": [
        "* Modelo generado (ecuación)"
      ],
      "metadata": {
        "id": "udqlX8zq4NVj"
      }
    },
    {
      "cell_type": "markdown",
      "source": [
        "Entrenamos el modelo:"
      ],
      "metadata": {
        "id": "mT6zWufP4lGz"
      }
    },
    {
      "cell_type": "code",
      "source": [
        "linear_reg = LinearRegression(fit_intercept=True)\n",
        "linear_reg.fit(X_train, y_train)"
      ],
      "metadata": {
        "id": "1zrF_TA64P1e",
        "outputId": "852f7e39-b1b4-4cfd-b0f1-b30640067ec3",
        "colab": {
          "base_uri": "https://localhost:8080/"
        }
      },
      "execution_count": 65,
      "outputs": [
        {
          "output_type": "execute_result",
          "data": {
            "text/plain": [
              "LinearRegression()"
            ]
          },
          "metadata": {},
          "execution_count": 65
        }
      ]
    },
    {
      "cell_type": "markdown",
      "source": [
        "Obtenemos coeficientes e intercepción con el eje:"
      ],
      "metadata": {
        "id": "U1aceNIZ4mly"
      }
    },
    {
      "cell_type": "code",
      "source": [
        "def coef_inter(model):\n",
        "  print('Coeficientes:', model.coef_)\n",
        "  print('Intercept:', model.intercept_)"
      ],
      "metadata": {
        "id": "82pB1pnd5m31"
      },
      "execution_count": 66,
      "outputs": []
    },
    {
      "cell_type": "code",
      "source": [
        "coef_inter(linear_reg)"
      ],
      "metadata": {
        "id": "QNhnrzIk4dVU",
        "outputId": "c5515a36-71c7-400a-e1c6-88fc7aedcfc5",
        "colab": {
          "base_uri": "https://localhost:8080/"
        }
      },
      "execution_count": 67,
      "outputs": [
        {
          "output_type": "stream",
          "name": "stdout",
          "text": [
            "Coeficientes: [-5.98882699]\n",
            "Intercept: 66.83650741226988\n"
          ]
        }
      ]
    },
    {
      "cell_type": "markdown",
      "source": [
        "Obtenemos sus predicciones para datos de entrenamiento, y datos de prueba:"
      ],
      "metadata": {
        "id": "AnVCrWT05FDU"
      }
    },
    {
      "cell_type": "code",
      "source": [
        "def predict_ys(model,xt,xp):\n",
        "  return model.predict(xt), model.predict(xp)"
      ],
      "metadata": {
        "id": "-ao5eiIm5ztb"
      },
      "execution_count": 68,
      "outputs": []
    },
    {
      "cell_type": "code",
      "source": [
        "yhat_train, yhat_test = predict_ys(linear_reg, X_train, X_test)"
      ],
      "metadata": {
        "id": "iTR387UA5Mp0"
      },
      "execution_count": 69,
      "outputs": []
    },
    {
      "cell_type": "markdown",
      "source": [
        "* Visualización"
      ],
      "metadata": {
        "id": "mdthF6bS48Pz"
      }
    },
    {
      "cell_type": "code",
      "source": [
        "def visualizacion(x_p, y_p, x_model, y_model):\n",
        "  plt.scatter(x_p, y_p)\n",
        "  plt.plot(x_model, y_model, \"r-\", linewidth=2, label=\"Predictions\")\n",
        "  plt.xlabel(\"$X$\", fontsize=18)\n",
        "  plt.ylabel(\"$y$\", rotation=0, fontsize=18)\n",
        "  plt.legend(loc=\"upper left\", fontsize=14);"
      ],
      "metadata": {
        "id": "6bQPbM026PqN"
      },
      "execution_count": 70,
      "outputs": []
    },
    {
      "cell_type": "code",
      "source": [
        "visualizacion(X, y, X_test, yhat_test)"
      ],
      "metadata": {
        "id": "BSjy767R5AUr",
        "outputId": "26169a83-3ed4-4800-ad4e-037a3c3bd97a",
        "colab": {
          "base_uri": "https://localhost:8080/",
          "height": 290
        }
      },
      "execution_count": 71,
      "outputs": [
        {
          "output_type": "display_data",
          "data": {
            "text/plain": [
              "<Figure size 576x288 with 1 Axes>"
            ],
            "image/png": "[encoded data removed]"
          },
          "metadata": {}
        }
      ]
    },
    {
      "cell_type": "markdown",
      "source": [
        "* Sus errores y r cuadrada"
      ],
      "metadata": {
        "id": "smkVcZat4MXb"
      }
    },
    {
      "cell_type": "code",
      "source": [
        "from sklearn import metrics\n",
        "from sklearn.metrics import r2_score"
      ],
      "metadata": {
        "id": "yvrEsJiN7wSc"
      },
      "execution_count": 35,
      "outputs": []
    },
    {
      "cell_type": "code",
      "source": [
        "def errores(y_train, yhat_train, y_test, yhat_test):\n",
        "  errores_train = list()\n",
        "  errores_train.append(metrics.mean_absolute_error(y_train, yhat_train))\n",
        "  errores_train.append(np.sqrt(metrics.mean_squared_error(y_train, yhat_train)))\n",
        "  errores_train.append(r2_score(y_train, yhat_train))\n",
        "  errores_train.append(y_train - yhat_train)\n",
        "\n",
        "  errores_test = list()\n",
        "  errores_test.append(metrics.mean_absolute_error(y_test, yhat_test))\n",
        "  errores_test.append(np.sqrt(metrics.mean_squared_error(y_test, yhat_test)))\n",
        "  errores_test.append(r2_score(y_test, yhat_test))\n",
        "  errores_test.append(y_test - yhat_test)\n",
        "\n",
        "  return errores_train, errores_test"
      ],
      "metadata": {
        "id": "msBC66IvAbYA"
      },
      "execution_count": 50,
      "outputs": []
    },
    {
      "cell_type": "code",
      "source": [
        "error_ejercicio1_train = list()\n",
        "error_ejercicio1_test = list()\n",
        "\n",
        "errores_test = list()\n",
        "nom_errores = ['MAE', 'RMSE', 'R2']\n",
        "\n",
        "errores_train = list()\n",
        "errores_test = list()\n",
        "errores_train, errores_test = errores(y_train,yhat_train,y_test,yhat_test)\n",
        "error_ejercicio1_train.append(errores_train)\n",
        "error_ejercicio1_test.append(errores_test)\n",
        "\n",
        "i = 0\n",
        "for error in nom_errores:\n",
        "  print(error, 'de train:', errores_train[i])\n",
        "  i = i + 1\n",
        "i = 0\n",
        "for error in nom_errores:\n",
        "  print(error, 'de train:', errores_test[i])\n",
        "  i = i + 1"
      ],
      "metadata": {
        "id": "eOqb4u6P657E",
        "outputId": "a3934b00-9c14-48a7-af3f-76fa4338d6c5",
        "colab": {
          "base_uri": "https://localhost:8080/"
        }
      },
      "execution_count": 72,
      "outputs": [
        {
          "output_type": "stream",
          "name": "stdout",
          "text": [
            "MAE de train: 4.905332101451236\n",
            "RMSE de train: 6.844866083710475\n",
            "R2 de train: 0.5746524649404298\n",
            "MAE de train: 5.013587781954963\n",
            "RMSE de train: 7.108963321847682\n",
            "R2 de train: 0.6116251549562579\n"
          ]
        }
      ]
    },
    {
      "cell_type": "markdown",
      "source": [
        "### Regresión Polinomial"
      ],
      "metadata": {
        "id": "sdggng67CaEc"
      }
    },
    {
      "cell_type": "markdown",
      "source": [
        "Realiza la  regresión polinomial completa, tu modelo generado (ecuación), su visualización, sus errores y r cuadrada."
      ],
      "metadata": {
        "id": "j5vXhe3uCct7"
      }
    },
    {
      "cell_type": "markdown",
      "source": [
        "* Modelo generado (ecuación)"
      ],
      "metadata": {
        "id": "nVoNh9eBDl0d"
      }
    },
    {
      "cell_type": "code",
      "source": [
        "from sklearn.preprocessing import PolynomialFeatures"
      ],
      "metadata": {
        "id": "86D8NWVCCmvt"
      },
      "execution_count": 54,
      "outputs": []
    },
    {
      "cell_type": "code",
      "source": [
        "def poly_transform(x, xt, xp, deg):\n",
        "  poly_features = PolynomialFeatures(degree=deg, include_bias=False)\n",
        "  X_poly = poly_features.fit(x)\n",
        "  return X_poly.transform(xt), X_poly.transform(xp)"
      ],
      "metadata": {
        "id": "K3lkTwxgC_nc"
      },
      "execution_count": 55,
      "outputs": []
    },
    {
      "cell_type": "code",
      "source": [
        "X_poly_train, X_poly_test = poly_transform(X, X_train, X_test, 2)"
      ],
      "metadata": {
        "id": "gnDUh4dCCn98"
      },
      "execution_count": 73,
      "outputs": []
    },
    {
      "cell_type": "code",
      "source": [
        "lin_reg = LinearRegression(fit_intercept=True)\n",
        "lin_reg.fit(X_poly_train, y_train)"
      ],
      "metadata": {
        "id": "LWvfEDGKuoLJ",
        "colab": {
          "base_uri": "https://localhost:8080/"
        },
        "outputId": "28411603-b3b3-4a00-809a-b9fa7ad1b7ae"
      },
      "execution_count": 74,
      "outputs": [
        {
          "output_type": "execute_result",
          "data": {
            "text/plain": [
              "LinearRegression()"
            ]
          },
          "metadata": {},
          "execution_count": 74
        }
      ]
    },
    {
      "cell_type": "code",
      "source": [
        "coef_inter(lin_reg)"
      ],
      "metadata": {
        "colab": {
          "base_uri": "https://localhost:8080/"
        },
        "id": "18uBUyf4DvtU",
        "outputId": "caba0f3a-40ba-44fc-885e-26d904869e56"
      },
      "execution_count": 75,
      "outputs": [
        {
          "output_type": "stream",
          "name": "stdout",
          "text": [
            "Coeficientes: [-16.40638102   1.13136095]\n",
            "Intercept: 88.80179909112496\n"
          ]
        }
      ]
    },
    {
      "cell_type": "markdown",
      "source": [
        "Obtenemos sus predicciones para datos de entrenamiento, y datos de prueba:"
      ],
      "metadata": {
        "id": "HdS5yoCuD_Ha"
      }
    },
    {
      "cell_type": "code",
      "source": [
        "yhat_train, yhat_test = predict_ys(lin_reg, X_poly_train, X_poly_test)"
      ],
      "metadata": {
        "id": "SMfNXRT3D_Ha"
      },
      "execution_count": 76,
      "outputs": []
    },
    {
      "cell_type": "markdown",
      "source": [
        "* Visualización"
      ],
      "metadata": {
        "id": "v2KnTy1sENdL"
      }
    },
    {
      "cell_type": "code",
      "source": [
        "order = np.argsort(X_test.values.ravel())\n",
        "sortedX = X_test.values.ravel()[order]\n",
        "sortedY = y_test.values[order]\n",
        "sorted_pred = yhat_test[order]\n",
        "\n",
        "visualizacion(X, y, sortedX, sorted_pred)"
      ],
      "metadata": {
        "colab": {
          "base_uri": "https://localhost:8080/",
          "height": 290
        },
        "id": "7z8EmUuyEQyV",
        "outputId": "d156657a-585a-43e5-8796-3ea9c19abc47"
      },
      "execution_count": 77,
      "outputs": [
        {
          "output_type": "display_data",
          "data": {
            "text/plain": [
              "<Figure size 576x288 with 1 Axes>"
            ],
            "image/png": "[encoded data removed]"
          },
          "metadata": {}
        }
      ]
    },
    {
      "cell_type": "markdown",
      "source": [
        "* Sus errores y r cuadrada"
      ],
      "metadata": {
        "id": "1gyWhXA3Fdf2"
      }
    },
    {
      "cell_type": "code",
      "source": [
        "errores_train = list()\n",
        "errores_test = list()\n",
        "errores_train, errores_test = errores(y_train,yhat_train,y_test,yhat_test)\n",
        "error_ejercicio1_train.append(errores_train)\n",
        "error_ejercicio1_test.append(errores_test)\n",
        "\n",
        "i = 0\n",
        "for error in nom_errores:\n",
        "  print(error, 'de train:', errores_train[i])\n",
        "  i = i + 1\n",
        "i = 0\n",
        "for error in nom_errores:\n",
        "  print(error, 'de train:', errores_test[i])\n",
        "  i = i + 1"
      ],
      "metadata": {
        "colab": {
          "base_uri": "https://localhost:8080/"
        },
        "id": "w4LXchTFFdn0",
        "outputId": "104a2a6f-33e9-44c9-fcae-8ebb2d66f870"
      },
      "execution_count": 78,
      "outputs": [
        {
          "output_type": "stream",
          "name": "stdout",
          "text": [
            "MAE de train: 4.545086474348086\n",
            "RMSE de train: 6.162532575212149\n",
            "R2 de train: 0.6552276217097528\n",
            "MAE de train: 4.3833025759681075\n",
            "RMSE de train: 5.832771301068423\n",
            "R2 de train: 0.7385501224942537\n"
          ]
        }
      ]
    },
    {
      "cell_type": "markdown",
      "source": [
        "### Realiza la regresión con Ridge y Lasso. Incluye la ecuación de tu modelo, visualización , errores y r cuadrada."
      ],
      "metadata": {
        "id": "qUyIvnPEF-9d"
      }
    },
    {
      "cell_type": "markdown",
      "source": [
        "### Ridge"
      ],
      "metadata": {
        "id": "TnXdAHg4GAje"
      }
    },
    {
      "cell_type": "code",
      "source": [
        "from sklearn.linear_model import Ridge"
      ],
      "metadata": {
        "id": "wwTK1e35GCyF"
      },
      "execution_count": 79,
      "outputs": []
    },
    {
      "cell_type": "markdown",
      "source": [
        "* Modelo generado (ecuación)"
      ],
      "metadata": {
        "id": "6T7qpUoaGMGM"
      }
    },
    {
      "cell_type": "code",
      "source": [
        "X_poly_train, X_poly_test = poly_transform(X, X_train, X_test, 2)"
      ],
      "metadata": {
        "id": "gFkxo4jZGViY"
      },
      "execution_count": 80,
      "outputs": []
    },
    {
      "cell_type": "code",
      "source": [
        "ridge_model = Ridge(alpha = 10)\n",
        "ridge_model.fit(X_poly_train, y_train)"
      ],
      "metadata": {
        "colab": {
          "base_uri": "https://localhost:8080/"
        },
        "outputId": "75b39844-1276-4c4e-85b4-ebd8bb524608",
        "id": "rD02qHljGViZ"
      },
      "execution_count": 93,
      "outputs": [
        {
          "output_type": "execute_result",
          "data": {
            "text/plain": [
              "Ridge(alpha=10)"
            ]
          },
          "metadata": {},
          "execution_count": 93
        }
      ]
    },
    {
      "cell_type": "code",
      "source": [
        "coef_inter(ridge_model)"
      ],
      "metadata": {
        "colab": {
          "base_uri": "https://localhost:8080/"
        },
        "outputId": "349e1201-e530-4db4-a709-99fc7ed4c634",
        "id": "D3sxTSKRGVia"
      },
      "execution_count": 94,
      "outputs": [
        {
          "output_type": "stream",
          "name": "stdout",
          "text": [
            "Coeficientes: [-14.35249765   0.91811959]\n",
            "Intercept: 84.25748545190552\n"
          ]
        }
      ]
    },
    {
      "cell_type": "markdown",
      "source": [
        "Obtenemos sus predicciones para datos de entrenamiento, y datos de prueba:"
      ],
      "metadata": {
        "id": "K9H2U0ZSGVia"
      }
    },
    {
      "cell_type": "code",
      "source": [
        "yhat_train, yhat_test = predict_ys(ridge_model, X_poly_train, X_poly_test)"
      ],
      "metadata": {
        "id": "HY7RHej6GVib"
      },
      "execution_count": 95,
      "outputs": []
    },
    {
      "cell_type": "markdown",
      "source": [
        "* Visualización"
      ],
      "metadata": {
        "id": "e7SbX2N3GsRk"
      }
    },
    {
      "cell_type": "code",
      "source": [
        "order = np.argsort(X_test.values.ravel())\n",
        "sortedX = X_test.values.ravel()[order]\n",
        "sortedY = y_test.values[order]\n",
        "sorted_pred = yhat_test[order]\n",
        "\n",
        "visualizacion(X, y, sortedX, sorted_pred)"
      ],
      "metadata": {
        "outputId": "b6ebd48d-1313-456f-fdd9-06385a5d8b55",
        "colab": {
          "base_uri": "https://localhost:8080/",
          "height": 290
        },
        "id": "mTMowQkhGsRl"
      },
      "execution_count": 96,
      "outputs": [
        {
          "output_type": "display_data",
          "data": {
            "text/plain": [
              "<Figure size 576x288 with 1 Axes>"
            ],
            "image/png": "[encoded data removed]"
          },
          "metadata": {}
        }
      ]
    },
    {
      "cell_type": "markdown",
      "source": [
        "* Sus errores y r cuadrada"
      ],
      "metadata": {
        "id": "mHZ6-0YwGsRl"
      }
    },
    {
      "cell_type": "code",
      "source": [
        "errores_train = list()\n",
        "errores_test = list()\n",
        "errores_train, errores_test = errores(y_train,yhat_train,y_test,yhat_test)\n",
        "error_ejercicio1_train.append(errores_train)\n",
        "error_ejercicio1_test.append(errores_test)\n",
        "\n",
        "i = 0\n",
        "for error in nom_errores:\n",
        "  print(error, 'de train:', errores_train[i])\n",
        "  i = i + 1\n",
        "i = 0\n",
        "for error in nom_errores:\n",
        "  print(error, 'de train:', errores_test[i])\n",
        "  i = i + 1"
      ],
      "metadata": {
        "outputId": "8d290a00-5462-46ff-cda5-a5f3e30bd6d9",
        "colab": {
          "base_uri": "https://localhost:8080/"
        },
        "id": "zsZAllBfGsRm"
      },
      "execution_count": 97,
      "outputs": [
        {
          "output_type": "stream",
          "name": "stdout",
          "text": [
            "MAE de train: 4.517916499060817\n",
            "RMSE de train: 6.189226153362644\n",
            "R2 de train: 0.6522343261500281\n",
            "MAE de train: 4.397899036894618\n",
            "RMSE de train: 5.979429627583081\n",
            "R2 de train: 0.7252371174424325\n"
          ]
        }
      ]
    },
    {
      "cell_type": "markdown",
      "source": [
        "### Lasso"
      ],
      "metadata": {
        "id": "qziBuQJaHCtN"
      }
    },
    {
      "cell_type": "code",
      "source": [
        "from sklearn.linear_model import Lasso"
      ],
      "metadata": {
        "id": "jN1b2DIFHCtO"
      },
      "execution_count": 101,
      "outputs": []
    },
    {
      "cell_type": "markdown",
      "source": [
        "* Modelo generado (ecuación)"
      ],
      "metadata": {
        "id": "ItuEg2xYHCtO"
      }
    },
    {
      "cell_type": "code",
      "source": [
        "X_poly_train, X_poly_test = poly_transform(X, X_train, X_test, 2)"
      ],
      "metadata": {
        "id": "VOPDzhvpHCtP"
      },
      "execution_count": 102,
      "outputs": []
    },
    {
      "cell_type": "code",
      "source": [
        "lasso_model = Lasso(alpha = 0.1)\n",
        "lasso_model.fit(X_poly_train, y_train)"
      ],
      "metadata": {
        "colab": {
          "base_uri": "https://localhost:8080/"
        },
        "outputId": "7a88b8ed-e4a3-48e4-87b6-8f3f49d36fc0",
        "id": "Nvk_mkccHCtP"
      },
      "execution_count": 111,
      "outputs": [
        {
          "output_type": "execute_result",
          "data": {
            "text/plain": [
              "Lasso(alpha=0.1)"
            ]
          },
          "metadata": {},
          "execution_count": 111
        }
      ]
    },
    {
      "cell_type": "code",
      "source": [
        "coef_inter(lasso_model)"
      ],
      "metadata": {
        "colab": {
          "base_uri": "https://localhost:8080/"
        },
        "outputId": "04e68946-97fb-47df-a4a5-f2664a012b41",
        "id": "lPZ67qR5HCtQ"
      },
      "execution_count": 112,
      "outputs": [
        {
          "output_type": "stream",
          "name": "stdout",
          "text": [
            "Coeficientes: [-14.9666674    0.98129183]\n",
            "Intercept: 85.62928041192495\n"
          ]
        }
      ]
    },
    {
      "cell_type": "markdown",
      "source": [
        "Obtenemos sus predicciones para datos de entrenamiento, y datos de prueba:"
      ],
      "metadata": {
        "id": "In9ZduK-HCtQ"
      }
    },
    {
      "cell_type": "code",
      "source": [
        "yhat_train, yhat_test = predict_ys(lasso_model, X_poly_train, X_poly_test)"
      ],
      "metadata": {
        "id": "CPrk1AmkHCtQ"
      },
      "execution_count": 113,
      "outputs": []
    },
    {
      "cell_type": "markdown",
      "source": [
        "* Visualización"
      ],
      "metadata": {
        "id": "47lWA8vLHCtR"
      }
    },
    {
      "cell_type": "code",
      "source": [
        "order = np.argsort(X_test.values.ravel())\n",
        "sortedX = X_test.values.ravel()[order]\n",
        "sortedY = y_test.values[order]\n",
        "sorted_pred = yhat_test[order]\n",
        "\n",
        "visualizacion(X, y, sortedX, sorted_pred)"
      ],
      "metadata": {
        "outputId": "9fd65bfe-2fd8-43a1-f41f-f0c7fa00557a",
        "colab": {
          "base_uri": "https://localhost:8080/",
          "height": 290
        },
        "id": "F3wYZORBHCtR"
      },
      "execution_count": 114,
      "outputs": [
        {
          "output_type": "display_data",
          "data": {
            "text/plain": [
              "<Figure size 576x288 with 1 Axes>"
            ],
            "image/png": "[encoded data removed]"
          },
          "metadata": {}
        }
      ]
    },
    {
      "cell_type": "markdown",
      "source": [
        "* Sus errores y r cuadrada"
      ],
      "metadata": {
        "id": "UCBIy1fvHCtR"
      }
    },
    {
      "cell_type": "code",
      "source": [
        "errores_train = list()\n",
        "errores_test = list()\n",
        "errores_train, errores_test = errores(y_train,yhat_train,y_test,yhat_test)\n",
        "error_ejercicio1_train.append(errores_train)\n",
        "error_ejercicio1_test.append(errores_test)\n",
        "\n",
        "i = 0\n",
        "for error in nom_errores:\n",
        "  print(error, 'de train:', errores_train[i])\n",
        "  i = i + 1\n",
        "i = 0\n",
        "for error in nom_errores:\n",
        "  print(error, 'de train:', errores_test[i])\n",
        "  i = i + 1"
      ],
      "metadata": {
        "outputId": "93808777-e0b8-4ea3-d8ad-b726829f6dba",
        "colab": {
          "base_uri": "https://localhost:8080/"
        },
        "id": "GIjf44aOHCtS"
      },
      "execution_count": 115,
      "outputs": [
        {
          "output_type": "stream",
          "name": "stdout",
          "text": [
            "MAE de train: 4.522065264122638\n",
            "RMSE de train: 6.175668320741421\n",
            "R2 de train: 0.6537562561963224\n",
            "MAE de train: 4.385055190168516\n",
            "RMSE de train: 5.9291087345437985\n",
            "R2 de train: 0.72984228403894\n"
          ]
        }
      ]
    },
    {
      "cell_type": "markdown",
      "source": [
        "### Finalmente grafica"
      ],
      "metadata": {
        "id": "TsNO0FXPHjAu"
      }
    },
    {
      "cell_type": "markdown",
      "source": [
        "* MAE (de los cuatro métodos)"
      ],
      "metadata": {
        "id": "6Jzs5vRnHlRF"
      }
    },
    {
      "cell_type": "code",
      "source": [
        "modelos_ejercicio1 = ['Regresión Lineal','Regresión Polinomial','Ridge','Lasso']\n",
        "\n",
        "mae_values = list()\n",
        "for i in range(0,len(modelos_ejercicio1)):\n",
        "  mae_values.append(error_ejercicio1_test[i][0])\n",
        "\n",
        "plt.figure(figsize = (10, 5))\n",
        "plt.bar(modelos_ejercicio1, mae_values, color ='maroon', width = 0.4)\n",
        "plt.title(\"MAE\")"
      ],
      "metadata": {
        "id": "k_94Xe_ZHnz8",
        "outputId": "d0c3da30-3ede-4093-cfc4-9d4f76f50c15",
        "colab": {
          "base_uri": "https://localhost:8080/",
          "height": 357
        }
      },
      "execution_count": 122,
      "outputs": [
        {
          "output_type": "execute_result",
          "data": {
            "text/plain": [
              "Text(0.5, 1.0, 'MAE')"
            ]
          },
          "metadata": {},
          "execution_count": 122
        },
        {
          "output_type": "display_data",
          "data": {
            "text/plain": [
              "<Figure size 720x360 with 1 Axes>"
            ],
            "image/png": "[encoded data removed]"
          },
          "metadata": {}
        }
      ]
    },
    {
      "cell_type": "markdown",
      "source": [
        "* R2 (de los cuatro métodos)"
      ],
      "metadata": {
        "id": "F7GH5AQeJkrp"
      }
    },
    {
      "cell_type": "code",
      "source": [
        "r2_values = list()\n",
        "for i in range(0,len(modelos_ejercicio1)):\n",
        "  r2_values.append(error_ejercicio1_test[i][2])\n",
        "\n",
        "plt.figure(figsize = (10, 5))\n",
        "plt.bar(modelos_ejercicio1, r2_values, color ='maroon', width = 0.4)\n",
        "plt.title(\"R2\")"
      ],
      "metadata": {
        "id": "Dm5VomK0JmJV",
        "outputId": "384717a0-7d0e-4616-dd67-b15046e23d05",
        "colab": {
          "base_uri": "https://localhost:8080/",
          "height": 357
        }
      },
      "execution_count": 123,
      "outputs": [
        {
          "output_type": "execute_result",
          "data": {
            "text/plain": [
              "Text(0.5, 1.0, 'R2')"
            ]
          },
          "metadata": {},
          "execution_count": 123
        },
        {
          "output_type": "display_data",
          "data": {
            "text/plain": [
              "<Figure size 720x360 with 1 Axes>"
            ],
            "image/png": "[encoded data removed]"
          },
          "metadata": {}
        }
      ]
    },
    {
      "cell_type": "markdown",
      "source": [
        "### Explica tus resultados, que método conviene más a la empresa, ¿por que?, ¿que porcentajes de entrenamiento y evaluación?, ¿que error tienes?, ¿es bueno?, ¿cómo lo sabes?"
      ],
      "metadata": {
        "id": "l0L8mlhqJ1P1"
      }
    },
    {
      "cell_type": "markdown",
      "source": [
        "![ejercicio 1.PNG](data:image/png;base64,iVBORw0KGgoAAAANSUhEUgAAAlwAAABoCAYAAAAkaC4iAAAAAXNSR0IArs4c6QAAAARnQU1BAACxjwv8YQUAAAAJcEhZcwAAEnQAABJ0Ad5mH3gAACIISURBVHhe7Z1hduM6roSzLi/I68lqspL8y2L6qtipNFIXBCFbduwA3zl8EwokiAIgWcnMa7/8+eT9/f3zp5q0/tZfmer6b0X3VeuvTOv/rn+8cL28vPTo0aNHjx49evQ4cFhe8AbmLerRo0ePHj169Ohx+cA7Fse3v3BVpbr+5m8PNM3RdF/VputfF++9Ysw8QyWq62/6wdjchu6r2nT96+K9V4yZZ6hEdf1NPxib29B9VZuuf12894ox8wyVqK6/6Qdjcxu6r2rT9a+L914xZp6hEhX0v23j5eX85zx0YvaPj228nF7/nGD7eP178QCiM4+GGi4967fV/yfqnUVrdc8+8dhz/t4++83PlVXefrrPHoHKn6vV8d4rxswzVOIa/Xzo0MeXr7fz3wUPQvRwfDm/XfVhR9+vJ/jAY/Yv0ZlHs/eDUMnWn5q63pfnoF+4ngPmZVbnVd76heu56w9YY322N2u+7hfDmHmGSlyjXxuy4kPmEW7KvR+ESrb+Xe9/OWCumYORw8RL17W1+kn2xv7Mz9Vre73ivaE8c/2B9kCTB7XX+o+ZZ6jENfq9hsRfEIa/zw8fPnh4jj6AtuVfNg74+9jWvLyc/ry+nrb/9D/gMNQfz8d4O2PPvxjsBwVj9/zQ9oazzVneB6qXA6BnZnzuzdXH5gt4+vYAXxk8rVXrbX2fXj/GetYjOktj03kmlsj/Fsp27eTut7nSelk9R/XZOOdJYY5nvb7K23nb93I6f6uN5hWD/umP17XPnxHoeGa8HiCzewR4zyQwu85zaPsttcewjJlnqMQ1+rUhOZ99mAA0Hef8cECz6lraRmzBh4P1x5uAzX+Gk61xdd8sTjY67Txb11to05tydubMp64HmqvXE3T9ezhHe/eQrb9qvUTDb6m3tdkXLrXrWRrbLNZZLCv/zKPOV/FxjvVH9dnQ8KQwT9le1/XsTa2D1/teXm2fPyvPXH+gNSXRPTJ7Js2u8wztBfbNswKtWv8x8wyVuEY/m4U+MGxz8iFj3+bZePgwwc+2sfDBxcbj3r3+NAaAn6KbAngfmtYPHoDeTeCtBXrmyudKm2L36ll7GWckoAas59hbn99Sb60r167O0th0vopl5V/zqP7Bnt65ps8Q07PCOkADh62J5kLrQrutG38GXu9n7/1nYcT/xLAH9PmiePen7lldn93Pzwrix7CMmWeoxDX6tSG1UdhM3sCDhA8arEcL4gFFX9FDyBt8MKH5eY0PNPrm3Gto2/iqC9ibyuKtBXrmyudebRjcq2ftZZyRQDVUrjfPxLDrVmdpbDpfxbLyzzxyv/oH1t/MDn8cl/YZ9j4rWgfNu+ZiZmfuWBfbA/TN+nmDff6MjPifGO0By+weUdvsvpr1DWA/2GvPBnVaxswzVOIa/dqQ+rBfNQ7XMwbbtLR5H8CZRrSNzAccm9zzw/V4wKkuYD+kLN5aoGeufK602fiA3atn7WX4TaAaWKOK9Z7lenWWxqbzVSwr/8wj96t/EPXOkX02/DwpWodVXrUutDN33I81GLa3vJr+Bp65/kB7gET3iIXrtK72uld79f+MIP6hwTBmnqES1+j3GhLNN/xtzUL77AGNxvIaFWymbe/3D+CMPzaubWQ+/LiPfmYPT7WD2U3lrQV7fdKeyRXXcq5n7SVb/5mGivWexbQ6azVfxbLyzzzO7MD6U/uRfZbtq0dkVgf2uuZC885+ZO6i3udZ2bw+C89cf+D1AIjukdkzaXZdz9h7jz0q0Kf1HzPPUIlr9GuzADYTPzi5hudgsJkiGx9g9gMYRHvYrLzOvV4T07/6ADxDH7beA9OLB+teP7bfUsyZGZ+eL93/df38GC9cVett9yvRWRqbzjOxRP5p4371D6y/2flfvq/oM+x/Vrw62F73ckE7BvadXv/lmf5ox7B7V/ZnBBqeGa8mqOfrB16843uENn0m6XUQ3c/PCrVYxswzVOIn9c8+SPRDt7kt96p/17sWlZ+rSsXe7/rXxXuvGDPPUImf0s83fu83xP4Avi/3qH/Xux4/8Vx5RKr2fte/Lqi91n/MPEMlflI/Hj36J9v+8L0/96p/17sW9+qrZ6Bi73f968Iet4yZZ6hEdf1NPxib29B9VZuuf12894qX9/f3L0OPHj169OjRo0ePYwbesTjG6xcNVamuH7T+1t8cT/dV669MZf3QrvrHzDNUorp+0Ppbf3M83VetvzKV9UO76h8zz1CJ6vpB62/9zfF0X7X+ylTWD+2qf8w8QyWq6wetv/U3x9N91forU1k/tKv+MfMMlbilfv6/Qj/6v5xbuf6g61+7/rei+6p2X3X969Yf2lX/mHmGSlj9+hUDdth/JTnLs90YR+sn3j98+EhAH+j6H6ufPHr9bwXyBrqvjtVPHr2voA90/Y/VTx65/tRnGTPPUImZfnzZJq7zCzd/M7fW/ywPRkvXv079b0X3Ve2+6vrXrT80qv4x8wyVmOn3GmO7tF07/XndrtnfMPg1FRzcow2BlsC+N+zfrnP9n7czlv8YIwZhdmNQE2PX31DwnWm04V+S1vUY9gtxHwHEpHT969T/VkCr0n3VzxVc7/r/7vozJsuYeYZKzPRHN8ZY/9nMuPZ6wpqP/90IOueNwf2c0/5TZPWrHoAbgXM+ILjnjORsN42375HI6u/6f9cDfkP9b0U2r91X3/WAfq50/Tl/xvojXtU/Zp6hEjP90Y0RvUmjUfh2rg3BG8Hut+t/ir367Xeg8WbAjc6fNT+ah0djr/6u/7/1v6H+t2JvXruv/q3/DX21V3/X/9/6Z68/4lX9Y+YZKjHTn20MgOamH4zfemOw8b2BGwPYXFD3I98YYMQvdP3r1P9WjLwI3Vf9XMH1rv/vrv9X/IYx8wyVmOnP3hhcZxvjt98Y9toMu/+RbwyQ1d/1/7v2t9X/VmTz2n31d+1v66us/q7/37W/qf6IUfWPmWeoxEz/nhuDjc3G/603BuOfNTj2cL3eRI+gc0bXH/F8p1L9b0X3FeL5TqW+6vojnu9UqT9iVP1j5hkqMdOfvTHYLPRzPv/eGwOo3qF57P/3J15et3li7nDd6n8EEJPS9a9T/1sBrUr3VT9XcL3r/7vrz1gtY+YZKlFdP2j9rb85nu6r1l+ZyvqhXfWPmWeoRHX9oPW3/uZ4uq9af2Uq64d21T9mnqES1fWD1t/6m+Ppvmr9lamsH9pV/5h5hkpU1w9af+tvjqf7qvVXprJ+aFf9Y0ZDjx49evTo0aNHj2OG5eX9/d1d1KNHjx49evTo0ePygXcsjm9/4apKdf2g9bf+5ni6r1p/ZSrrh3bVP2aeoRLV9YPW3/qb4+m+av2Vqawf2lX/mHmGSlTXD1p/62+Op/uq9Vemsn5oV/1j5hkqUV0/aP2tvzme7qvWX5nK+qFd9Y+ZZ6hEdf2g9bf+5ni6r1p/ZSrrh3bVP2ZqsN9b9Ofzm8ot57e/e7zvLcL3N3n79LuQOPT7lH4CxrIH6oziZ54w9Dut7Pc/jbM/8+XlyX5vFL+HCoPfM0WyNgytz7i2YBWbMtNIZt+pNdOxOt/mG8P6jWwA1/awqn82V+pntS/K6Uqjzav2I67tJXMPRD0ZxRvti2xRfuw+a4tyrjFy2HOPzOsRfcV4rI+VDmv3vn/P80nuqR/Y86KesrHs0Y8xy53qi2wA1/dwbf1tbjAy/Q8203Zt/azGoM5ML+LaHm71TFnFOtMf7Vv55DXLmKmBjk6n0/SlCl+kqTbIPr2c/5w2myaePinkkfASE4GinjftL6fztDGwRm94NgfyhC/p5F67NsoT9r1uZzLnqAPzHNnQTK9bLWlDw2qjZvRHsSmRRtreNhv82RxGOqLzsQ+9B/8Amk/bDcTzZjZydP0zufL8rDRGOY00oubRF7vu0Q8yOUBMUb9G9bqkz2Gb5Qf+Z/cArmT7Gtgzj8wr4r2mr6jfu688qMPmCYw4PnOz8nlv/YhnVv9Ihwf3wjrrxchn5rx71j/q8ciGaGf3DZjVGLPVfXPP+sM2q2MUa6Q/2rfSD+2qf8zUQEdvmyMrAEDEeRNxftuKKEVAoLj2+oFiInhI+csquJ/ES8wM6vjYdIz/nDSGNqlthtFY47y/+bG52ZOn6GEX2Wwjkoz+PbFFGgmvzXIIrI7ofGiyPYf/y3xHNnJ0/aNYwcxPtC/KaaTR06tk9YNZ7CtsLTM1Idk+z/QcwfmZh7Fi9x2ZV8ZwbV+BL19BXawOza+ny/P5E/oVG3tGB7H68fOsFyOfmfN+ov7EalSsLbpvPE0kE8s96w9NszpGsV76eRzZALSr/jFTg3WEN0grHgL5W5FtNsC13G/3rYL7SbzEzKB+T6NFi4j/i7do6Ncb1friz4zJ/qZhoT/v/MgGNDaQ0Z+NDUQaiXfNojpW56P/oGur0P/8RjaQ0Q+y9V/FOvMT7VvldKZx27b5wV8o/v3JnL8VElzLks2BxevJVU1A1Mtqy/QcsfcA13k5VxAzc3dkXo/qK7DyAawOmwvAvG4Lxhx4Pn9Cv0Xrn9FBrH4w68XIZ+a8o/XTznxHvarxWawtum+iGmdiwfUMR9QfzOoYxRrpj/ZFNsDrljFTAx1pU0Eg3xhx3QbJwqxE8CyMWTPcG9U/Axr5Bk09UWOg+PSNYqBpkVPNDcBazxfW2jwh7/RpHxggspFZ3NizF43NktE4iyWjA3jnM+d6Nghtw0/Mdtyu+ltsrHv82H2ZnHoakU/7MMD5+N8roBdJRj/YEzvA2fCN4dVyVpNo38yWyQ9Yxe31FcDMfqAijiPyujenFi/WlQ/VAVgHDPusIp7Pn9I/qz9Y6QCefjDrxcjn6jxcX3F0/UHkR23RfbP9x7LGxIvlFvoRE3O+55lisbFG+pVZvoHaGKNlzNRA0UgqtrI5IZSB2Z+BBr1Nt0JtAX8Wyvp8NLzEKBo/51FjWGweNVeRL7tP2VN8gkbS5gIr/R6r2FYaI90k0mjP11iwjw+KyEbuVf/z28cuPzb2KKeRRtyrNofemZn6c9+lObC1jOJV7D7F2vBz5r6a3QNEYyPq/4i8cs+lOfViXflQHUrW5yPoj3rD0wFUv66DfdaLM5/As/1E/UHU42rTfNgYMjUmP6Hf1l/Pz9Yx0q94GonaoF31j5kaNAkICG+S9q0PhWCQXE8/dnC9+nwkGGsEk2m1ccwa22Ibd9bEXm621G9Ns+XQaZq9tvAmHPHsIzo/o5HXopsrqzG6aTI31Eo/VFxTf8b6+oHfvvJ+rMYop5FG60NtBOevOCoHiGPPQ07jt1hbpudWL1vAO4/arS9dx/N+oq9srF4cxNOhaB6B5/NR9RNPB8+z+vf0oueTeDboiGA8qh3jUv17XraAxk39yFGmxsSNZfidc6T+S58pkX7F00jURh2WMVODHghH+DOiDQpBUhx+9t4kkQDuiUT8NF5iVlAPi8m59ydOZAxNxbWcMxe24CdMTB7tDYI6vJ3/+gA2v5GNsUUNnNEfxab6I42Ee+wNEemIzlf/8MM/fUc2cnT9o1gt6ifah+hnObU/A6tRz8BavV/36gfql3PmIKplFG+0L7LB0yw/jM2rQaZW9hxCn0fmVX1yvqev1IfF02HBVfusIp5PvXYP/VH9LTMd3nrEba/hDH0+gJlPMLPds/5c6/V4ZGPs1GvzwX2Mx9Y404v3rL+NG9g6Xvpcjfat9EO76h8zNVAkA1DRAGfROQ6yNmKF0AfP4vCa994wlj1QT9QYKPZMp7XbhxTyyj0YtoA8gza7L7KpTw5bM8xXZGKzPmca2RfWFwZytEeHPR+gD63d5jyyAVzbA+Oc1X8VK1E/q32znIJIo/Yj7knLuLYTjZ1z5oBznpmNN9q38pm9rzgQ6yrnm3m77n/QHp1X6pvlNIqVcVo7Bn3NdKgGa1/5vLd+znmerXGkA0R1nPVi5HN1HsD1PVAffXGeqf+eHrc2YLVE9xQGaxzFQsb6HVDvTD/nPFNjndVxFetMf7Rv5ZPXLWPmGSpRXT9o/a2/OZ7uq9Zfmcr6oV31j5lnqER1/aD1t/7meLqvWn9lKuuHdtU/Zp6hEtX1g9bf+pvj6b5q/ZWprB/aVf+YeYZKVNcPWn/rb46n+6r1V6ayfmhX/S/v7+9fhh49evTo0aNHjx7HDLxjcYzXLxqqUl0/aP2tvzme7qvWX5nK+qFd9Y+ZZ6hEdf2g9bf+5ni6r1p/ZSrrh3bVP2aeoRLV9YPW3/qb4+m+av2Vqawf2lX/mHmGSlTXD1p/62+Op/uq9Vemsn5oV/1j5hkqUV0/aP2tvzme7qvWX5nK+qFd9Y+ZGvSfz8ew31Fk7fxn/i38J++jfwaf+7yzMLyvSbgVPDMLvr+Je/SrBSyq2f3qh23RHtvKZxRbZMO1FXo2h+0NhWdqnParFDBsH0Uarc3L/Uyjve7Fi+tZojwqM/0gEytGdK/wKy9ApDGyAVzPsIpBiWqZjReDOYh68G1bM7PRN/1G943Gspm2636vgplPMNYnsTFc2leX3jv2bAyrMbKBKO6x/gqu6TcbS9Q3qHWUG+I9j6127RuA61miPCpcO6uvHePe2DK5ymN0/symZ2o/4tqKo2oMbJwYtldXNfZyCrbL2/X1Z5X6/FpvGDM1MAH2YDQbk0D76XTyvz9pW3s+n79sDJiBbjFuNvz87ws3rYh74yVmBoriaVag8fSyafosAHKg3zKOYp03Xy9bLrTInm3lM4ptFXdWv2L7woJY8b1lb1vs2ku08Rq0slkjjXYdGDkacWPXXCOs7DfgxXyL+s/0g5kf6H3d7itexzpqxJXZvRJpPFJ/FIOCc2e1jGKKcuAx60FAG3ZG/RjlLurVqMbgnn0F2yX3TpTvyMb5LZ4rBF6z/RZp9GCdM/vGtU2nPo8f7bmiMKZVHqPzZzbEsvqMy+hfxWaJaoXzZ70a7YOO6J6a3f+RTwDtqn/M1MAE2IPhjEmnHb9R2oQDiD5vST+//fvmbK8QhL4yyb4VXmI8kEbVO4N5YPJ1L3V/bLo11zNb5DOKLbKRjH4lqiv50iK9ZBuTa9ADkUa98a3N/rzCe4AcXX/i6d/jx+aYvjL3yt4HaLb+e2JA7NE9YInitTlQ9trgXeuh2FiiXiWRz3v2FfRecu8o2Zxm4r7kuWKhzkt6PqtxtY8xeM9qi9fD96y/YjVyvZfH6PxVDlf3d0Z/FJtyqxoDxmFzGt3/K5/QrvrHTA16MOd8e7eH4g3aBogg+FsDg+F6+zZIrK+fwkuMBwv4sr1Fc4/+RmNBblCsLSNDo5cn6s/aZj6j2DJx49pevN/olJk+26i6ZqYRPWWbH/8Xv31sQaRrwz02HpDRnz3D4unf48dqpi/u8e4nMNMIrtEPsjGQ6B4gUbxA626JetCzefWwaCyrXgWRz0xej+orcMm9o0T5trZM3Bn9EdRJ/1G/7dFoe2O1L3oeE+75Xz2G35gj62+xGqM8RuevYpv1G8H6FVFsyp4a27WZfV5Oo/t/5ZN6LGOmBk0Ahg2Cdji2h+JAvuHhug0UoDjwZRPqnWVF3AOeuwKatFHtf1XqQc02F9jH3wyon/mNbMTzGcWWiTuj34LqzBrd4mnQJgbQZNd4GgGvY0ATHgQZjbBzn/cww/UVqzM8PP1ZP95eC/Jo75VI4xH6PTQGj1ktVzGBKAc4cdaDM9vM3yyWTK9GMcLfCpx9RF+RvfeOJfKrtkzcGf17WPVbRqPXG7N90BQ9j5ED7vvp54rF02ixeYzOz8Q26zeQ0a8cUWMvP6t93p7V/R/55HXLmKlBD958fksA7XCMKyws1jE4+7MCESyi9fVTeInxmOXBa3qbF0DNrx9//8eLvG59aC7U/8wn8hjFlok7o9/iNaKHd5butWsijYpdu6c28GnXgqPrT7w1WT+4maMcY7fNlcXTSC7V7xHFoLaolrN4oxxgz17bLNcWG4v68fZHPu/ZV3vyrWtJlG+1ZeK+tK9mzOL2mK2N+gZw3/lt/qz2sH1D7ll/S1YjtEXnRzbrA3j9dkn91W/EbO0lz04vp5pHbw1Rn9Cu+sdMDep0NreJxts9RHINCjUTbPerr5/AS4zHJnNrqE3fZ0Mxdi/5s0KdXvHXPP//mwpvx2hYzwZf+B/1zYofxZaJG2dk2XNDeGfNbmL429Pg1s+e2uhakNG/5wzirUnVY/HAAJ4Oste2p/6W6Jw9tXRjCnIQ9WBki2IgNpaoV0nk8559dem9Q6J8e7ZM3Jf21QyvT2Z4GvHT6tnFffjvbGbPai9PXmxYu+Ko+pOMRntmdH5ky/RbRr+iZ0bs7WPi7fPi13Vc4+VW17JXLGOmhtXBeigShD8z2sOwnqJRGPXFN+FIwL3wEuOhefF08M/KmnzmSHWqT4t33synt1Zj82wko5+gnjYOwDP0z+p6NsAu+0CwurJ5ow/6jTTCx9v53/le/EfXn+gekPHjPTBOWGhrts25LtJ4lH4QxcDYM/dAFBP9RA9NTwOJbPRt6xHFAg+zXiWeT3LPvorybYHVu3e8fGdsXtxkz3PFY0+/WVQjiXoDzPYB1Rv1Dbln/YkXRyaP0fmeDT+v+i2j/6gac63XqxbdR1Qr4FpqUs3E8wntqn/M1LA6mHYGwblNCgLTpPEce1OqjUOTcUt4ZgY21deeIAdoHK7D8DRxX9YW+ZzFBiIbGNcSeI0FVD/X8TwO7rPx/O8hPdGoGjSGVW14Xc8DY32C1RmX6MegH9w3dj0H/KrNPlgijZGN4HqGTAyZeyCKKcoBYG61/mBm43X1iXWr/Mx6NfJJMM9wVF9dcu9E+V7VYhY3GdeuQM+P+i3SCJg7vb7aR3ge7Zxz3zX31VH1n2mM8giiOka21WfcWL/gqBpHvRrtW+XU7rU1jnwCXreMmWeoRHX9oPW3/uZ4uq9af2Uq64d21T9mnqES1fWD1t/6m+Ppvmr9lamsH9pV/5h5hkpU1w9af+tvjqf7qvVXprJ+aFf9Y+YZKlFdP2j9rb85nu6r1l+ZyvqhXfW/vL+/fxl69OjRo0ePHj16HDPwjsUxXr9oqEp1/aD1t/7meLqvWn9lKuuHdtU/Zp6hEtX1g9bf+pvj6b5q/ZWprB/aVf+YeYZKVNcPWn/rb46n+6r1V6ayfmhX/WPmGSpRXT9o/a2/OZ7uq9Zfmcr6oV31j5lnqER1/aD1t/7meLqvWn9lKuuHdtU/ZmrgP6fP6xj/+26m149vdvvP/T8bXxoS6D/nP9Pt5ZBfTzD7CoL/fQ/X59cm6FcG2Nzzqwai88CqXuNagqx+4sVKaFN9IGNTnzONq9yAsT7BdsS29jr9UTzX1DGyac95X0ORJZuDVZ/beLX3Z/Fek7tV3Iwnut90X2QD41qCVWyKPfeIZ0DW5n2PHJg9q4avBFn9e3oKg36Oyo3Vv4oFYJ4hq5/YmC6pf1YHvtk08gm8WAiuZcjqv7T+wO7VONWv97nj9Xh03tc1w5ipgYWzjnEYE43kvJ5gw8q/h9oCPhteYjygzn5PFYqkhSPM4axxFJtfAN/n0xbX6fv3YiHX+j1YIDovU6+j9YNZrPTztvnRPotsYOYz0ogrq1rcU38UT2SLNEY2xH3a4macWKvfxp/RD/bmQGGfw8/r1tuM1/Z/FC9WX5K7KG7avJ6L8hrZyKP01aU6ENusTgTxes8qcAv9CmOKdODKJbnJ6Leo/VHqf6mOyCeYxUIepf7qE3Nb49XzcayXHo/OA9Cu+sdMDdiuDx4cOEusF+Az4SXGwxYJME9eM0Y2RfPHvR/bXlsHnGobw3LNeeBo/VGs5Eun6TPi2TI+idUYxUnuqT/al4mVRPedteHnM37+jNuLLaMf7MmBEsVrH9xRvNF5kS0TN695/UgiDZ7tUfpK2auD6Acsz9RnFTlav5LVcZTP6AXD2/eo9c/quDQW8ij1V702dqyLno+MZ9bjRGOBdtU/Zmr4OuDTMeezN2JN2LPhJcZj+rBxCkAbfUdv7PrbBs6xv13QPwv6sr1V0y/37TnPqxf2rNijP4qVRPs9W8YnsRrpi3u83OD6iqP0R/FkYiXRfac29BjmW2e5MeOsDHtyoMx+q0aE9jdcMIv30txl4s5o2ZNzkMnrPfpK2asDYKZ1Quw4fxbz0fqVWU8Bq+OI3Hj6LV4sR+s/ov57dEQ+o1gIrq24R/21pszBtnnMZ88bsOpxomcwJ5YxU4MmGWN2yJ7kPCqqf4Y2BkChMtqxN7qJWXg0Md+2NbcoqDY8/ntv7rXMzpvV62j9mVhnsQDPltUf+QVebn5CP5nVCuytI5jZECt0qgaQ0Q/25MCC6G2fA+QI52J4D80oXpLNXSbuWd5IZJ/ZMnndk1Pk7FbPAODZZnXC2bNnFTlavwWqtKdIpBHsyc1Mv2UWy9H6r6n/NTqI9ZmJ5Wj9lihWr47wSf2IGy+K32L9tNtYoGnV48A97/Msy5ipQTcjsV5zAgSpyXo2vMR4aGNEBVBmzWF90h/XrOoQnT87b1avo/VnYo32e7as/lVPern5Cf3Ei4fMbJFGtakP6LAPSpDRDy69B3SfAjvzlYmXZHOXiXulZU/OySP21SU6COuEjx+cS9+zOG75XNV9lpWOS3IDqP+vh3/MYnnU58peHcT6zMTyDPW3PwP4xfPm9SPX48A7D9pV/5ipQR3PDlqJeha8xHjMGsxraGWr4VbELX/mQ0MLzTnjsQN5/tj2Wh+zugDvvKheOGPFHv16vherd414tozPTE+6ufkB/cSLh7ixRnV0bJkHWkY/2JMDgpW2zz2szj0P4GzuMnFH5+zNOXm0vrpUB6HP1w/8NWD+rKIPzFfs0U+wctZTe3Rkc0O8fWEsB+u/tv5krw5i92ViedT62zNnz5vTK/5bvkSPT87jWsuYqYEH2sTZAGlfiXoWvMR4aJG9nPBPtScYTTN7RUGhbaMpWged4wj+5h+dx31RvY7WH8VKdI3Fs0U+afM0ZmpxT/1RPJfWMbLBpe0zPCgv+dM/gIdsDojX54jh7fyvtnZNFO+luYOnWdyE8Xs9tzfn5FH6Koo1skV1stCHzR04Wj/x4oh0XJqbjP5ZTsCj1P9SHZm8ebGQR6m/hefZuK0v5Mr7r2lV7+o8aFf9Y6YGdQwYJIJAgNxjhyblWWD8GVgMrLfNxZwxB5ojLQrzaXOseHWw52OwKaLzMvXCPENWP5jFSu28zgGdkQ1k9XMgnlUtAK5nOEL/nlpl6xjZAB6U9rr2Ha5l2ZODLaxt3f/7nGsZz/8e1JN49+RH6zyLmzHavRg4M8prZCOYZ7h3X3GsdPB8XtM6Ea67tK+O6Kk9GrO5WemfxUKwJ8Ot63+pjsgnmMVCxrUEt66/xvm/Pt022z1ePRkLbdF5gHPLmHmGSlTXD1p/62+Op/uq9Vemsn5oV/1j5hkqUV0/aP2tvzme7qvWX5nK+qFd9Y+ZZ6hEdf2g9bf+5ni6r1p/ZSrrh3bVP2aeoRLV9YPW3/qb4+m+av2Vqawf2lX/mNHQo0ePHj169OjR45hheXl/f3cX9ejRo0ePHj169Lh84B2L4+v1C5PKtP7WX5nq+m9F91Xrr0zr/66/X7g+af2tvzLV9d+K7qvWX5nW/11/v3B90vpbf2Wq678V3VetvzKt/7v+fuH6pPW3/spU138ruq9af2Vav9X/589/YgOOgJL+gxoAAAAASUVORK5CYII=)"
      ],
      "metadata": {
        "id": "m_YPFmqeM_kE"
      }
    },
    {
      "cell_type": "markdown",
      "source": [
        "A primera vista, podemos ver que, para el valor de MAE, para todos menos para regresión lineal, sus valores disminuyen cuando se usan los datos de prueba. Para RMSE sucede lo mismo. Y para R2, en todos los modelos incrementa con los datos de prueba contra los de entrenamiento. Así mismo, el mejor valor de R2 es el de regresión lineal polinomial, así como de MAE y de RMSE. Por lo que se le recomienda a la empresa la regresión polinomial de grado 2. \n",
        "\n",
        "Veamos ahora sus errores:\n"
      ],
      "metadata": {
        "id": "c2J9wynpMCh1"
      }
    },
    {
      "cell_type": "code",
      "source": [
        "residuos_values = list()\n",
        "for i in range(0,len(modelos_ejercicio1)):\n",
        "  residuos_values.append(error_ejercicio1_test[i][3])\n",
        "\n",
        "sns.set(rc={'figure.figsize':(8,4)})\n",
        "plt.boxplot(residuos_values, labels=modelos_ejercicio1, showmeans=True)\n",
        "plt.show()"
      ],
      "metadata": {
        "id": "-9yJ3XxHJ5Dc",
        "outputId": "c28ead14-f052-4568-ff79-85a829a9deef",
        "colab": {
          "base_uri": "https://localhost:8080/",
          "height": 268
        }
      },
      "execution_count": 124,
      "outputs": [
        {
          "output_type": "display_data",
          "data": {
            "text/plain": [
              "<Figure size 576x288 with 1 Axes>"
            ],
            "image/png": "[encoded data removed]"
          },
          "metadata": {}
        }
      ]
    },
    {
      "cell_type": "markdown",
      "source": [
        "Podemos observar que todos son muy similares, y con datos atípicos. Sin embargo, el de regresión lineal es que nos arroja los valores atípicos mas altos. Lo cual reafirma, considerando las métricas, que el mejor modelo a recomendar es el de regresión polinomial de grado 2. "
      ],
      "metadata": {
        "id": "K5GuIpgENtbk"
      }
    },
    {
      "cell_type": "markdown",
      "metadata": {
        "id": "CfqcmLmxLoe9"
      },
      "source": [
        "#Ejercicio 2\n",
        "Realiza la regresión polinomial de los siguientes datos:"
      ]
    },
    {
      "cell_type": "code",
      "source": [
        "df = pd.read_csv('https://raw.githubusercontent.com/marypazrf/bdd/main/kc_house_data.csv')\n",
        "df.sample(10)"
      ],
      "metadata": {
        "id": "57bn0j38qGrg"
      },
      "execution_count": null,
      "outputs": []
    },
    {
      "cell_type": "code",
      "source": [
        "df.info()"
      ],
      "metadata": {
        "id": "n0fs14KoqI3M"
      },
      "execution_count": null,
      "outputs": []
    },
    {
      "cell_type": "code",
      "source": [
        "df.describe()"
      ],
      "metadata": {
        "id": "1PNzDJZeqKhe"
      },
      "execution_count": null,
      "outputs": []
    },
    {
      "cell_type": "code",
      "source": [
        "df.drop('id', axis = 1, inplace = True)\n",
        "df.drop('date', axis = 1, inplace = True)\n",
        "df.drop('zipcode', axis = 1, inplace = True)\n",
        "df.drop('lat', axis = 1, inplace = True)\n",
        "df.drop('long', axis = 1, inplace = True)\n"
      ],
      "metadata": {
        "id": "0KUD8T08qMmq"
      },
      "execution_count": null,
      "outputs": []
    },
    {
      "cell_type": "code",
      "source": [
        "plt.figure(figsize=(12,8)) \n",
        "sns.heatmap(df.corr(), annot=True, cmap='Dark2_r', linewidths = 2)\n",
        "plt.show()"
      ],
      "metadata": {
        "id": "r-jk_nHmqKpp"
      },
      "execution_count": null,
      "outputs": []
    },
    {
      "cell_type": "code",
      "source": [
        "columns = df.columns.drop('price')\n",
        "\n",
        "features = columns\n",
        "label = ['price']\n",
        "\n",
        "X = df[features]\n",
        "y = df[label]"
      ],
      "metadata": {
        "id": "p4zqCnFwq7Oc"
      },
      "execution_count": null,
      "outputs": []
    },
    {
      "cell_type": "code",
      "source": [
        "from sklearn.model_selection import train_test_split\n",
        "X_train, X_test, y_train, y_test = train_test_split(X, y, test_size = 0.1, random_state = 101)\n",
        "\n",
        "print(f'Numero total de registros en la bdd: {len(X)}')\n",
        "print(\"*****\"*10)\n",
        "print(f'Numero total de registros en el training set: {len(X_train)}')\n",
        "print(f'Tamaño de X_train: {X_train.shape}')\n",
        "print(\"*****\"*10)\n",
        "print(f'Mumero total de registros en el test dataset: {len(X_test)}')\n",
        "print(f'Tamaño del X_test: {X_test.shape}')"
      ],
      "metadata": {
        "id": "p91PEVPLq93-"
      },
      "execution_count": null,
      "outputs": []
    },
    {
      "cell_type": "code",
      "source": [
        "#tu codigo aquí"
      ],
      "metadata": {
        "id": "0faHrN8-rv9V"
      },
      "execution_count": null,
      "outputs": []
    }
  ]
}