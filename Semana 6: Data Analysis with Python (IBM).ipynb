{
  "nbformat": 4,
  "nbformat_minor": 0,
  "metadata": {
    "colab": {
      "name": "assignment01.ipynb",
      "provenance": [],
      "include_colab_link": true
    },
    "kernelspec": {
      "name": "python3",
      "display_name": "Python 3"
    },
    "language_info": {
      "name": "python"
    }
  },
  "cells": [
    {
      "cell_type": "markdown",
      "metadata": {
        "id": "view-in-github",
        "colab_type": "text"
      },
      "source": [
        "<a href=\"https://colab.research.google.com/github/PosgradoMNA/actividades-de-aprendizaje-gerardoaaron_castanedajaramillo/blob/main/Semana%206%3A%20Data%20Analysis%20with%20Python%20(IBM).ipynb\" target=\"_parent\"><img src=\"https://colab.research.google.com/assets/colab-badge.svg\" alt=\"Open In Colab\"/></a>"
      ]
    },
    {
      "cell_type": "markdown",
      "source": [
        "**Gerardo Aaron Castañeda Jaramillo - A01137646**"
      ],
      "metadata": {
        "id": "fKqqUM9lLvfP"
      }
    },
    {
      "cell_type": "markdown",
      "source": [
        "# **Semana 6: Data Analysis with Python (IBM)**"
      ],
      "metadata": {
        "id": "RgSVMDYsLwYV"
      }
    },
    {
      "cell_type": "markdown",
      "source": [],
      "metadata": {
        "id": "v_D9Nq8tLz22"
      }
    },
    {
      "cell_type": "markdown",
      "source": [
        "## **Modulo 3**"
      ],
      "metadata": {
        "id": "GgvWSnWhL3Ld"
      }
    },
    {
      "cell_type": "markdown",
      "source": [
        "### Lab 2"
      ],
      "metadata": {
        "id": "QNPpNadtL49d"
      }
    },
    {
      "cell_type": "markdown",
      "source": [
        "### Graded Review Questions"
      ],
      "metadata": {
        "id": "3UwIGG87cbFc"
      }
    }
  ]
}