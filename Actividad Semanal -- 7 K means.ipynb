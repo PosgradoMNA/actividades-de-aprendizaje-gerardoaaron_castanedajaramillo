{
  "nbformat": 4,
  "nbformat_minor": 0,
  "metadata": {
    "colab": {
      "provenance": [],
      "include_colab_link": true
    },
    "kernelspec": {
      "name": "python3",
      "display_name": "Python 3"
    },
    "language_info": {
      "name": "python"
    }
  },
  "cells": [
    {
      "cell_type": "markdown",
      "metadata": {
        "id": "view-in-github",
        "colab_type": "text"
      },
      "source": [
        "<a href=\"https://colab.research.google.com/github/PosgradoMNA/actividades-de-aprendizaje-gerardoaaron_castanedajaramillo/blob/main/Actividad%20Semanal%20--%207%20K%20means.ipynb\" target=\"_parent\"><img src=\"https://colab.research.google.com/assets/colab-badge.svg\" alt=\"Open In Colab\"/></a>"
      ]
    },
    {
      "cell_type": "markdown",
      "source": [
        "Este notebook se basa en información de target\n",
        "![imagen.png](https://www.america-retail.com/static//2020/12/target01.jpg)\n",
        "\n",
        "\n",
        "Ahora imagina que somos parte del equipo de data science de la empresa Target, una de las tiendas con mayor presencia en Estados Unidos. El departamento de logistica acude a nosotros para saber donde le conviene poner sus almacenes, para que se optimice el gasto de gasolina, los tiempos de entrega de los productos y se disminuyan costos. Para ello, nos pasan los datos de latitud y longitud de cada una de las tiendas.\n",
        "\n",
        "https://www.kaggle.com/datasets/saejinmahlauheinert/target-store-locations?select=target-locations.csv\n",
        "\n",
        "Si quieres saber un poco más de graficas geográficas consulta el siguiente notebook\n",
        "https://colab.research.google.com/github/QuantEcon/quantecon-notebooks-datascience/blob/master/applications/maps.ipynb#scrollTo=uo2oPtSCeAOz"
      ],
      "metadata": {
        "id": "6mUW5QNwhz5T"
      }
    },
    {
      "cell_type": "code",
      "source": [
        "! pip install qeds fiona geopandas xgboost gensim folium pyLDAvis descartes"
      ],
      "metadata": {
        "colab": {
          "base_uri": "https://localhost:8080/"
        },
        "id": "YwkfEqinwESD",
        "outputId": "298b7d2d-999f-452b-adbd-38fc4e0ba919"
      },
      "execution_count": 1,
      "outputs": [
        {
          "output_type": "stream",
          "name": "stdout",
          "text": [
            "Looking in indexes: https://pypi.org/simple, https://us-python.pkg.dev/colab-wheels/public/simple/\n",
            "Collecting qeds\n",
            "  Downloading qeds-0.7.0.tar.gz (24 kB)\n",
            "Collecting fiona\n",
            "  Downloading Fiona-1.8.22-cp37-cp37m-manylinux2014_x86_64.whl (16.7 MB)\n",
            "\u001b[K     |████████████████████████████████| 16.7 MB 4.2 MB/s \n",
            "\u001b[?25hCollecting geopandas\n",
            "  Downloading geopandas-0.10.2-py2.py3-none-any.whl (1.0 MB)\n",
            "\u001b[K     |████████████████████████████████| 1.0 MB 38.5 MB/s \n",
            "\u001b[?25hRequirement already satisfied: xgboost in /usr/local/lib/python3.7/dist-packages (0.90)\n",
            "Requirement already satisfied: gensim in /usr/local/lib/python3.7/dist-packages (3.6.0)\n",
            "Requirement already satisfied: folium in /usr/local/lib/python3.7/dist-packages (0.12.1.post1)\n",
            "Collecting pyLDAvis\n",
            "  Downloading pyLDAvis-3.3.1.tar.gz (1.7 MB)\n",
            "\u001b[K     |████████████████████████████████| 1.7 MB 37.0 MB/s \n",
            "\u001b[?25h  Installing build dependencies ... \u001b[?25l\u001b[?25hdone\n",
            "  Getting requirements to build wheel ... \u001b[?25l\u001b[?25hdone\n",
            "  Installing backend dependencies ... \u001b[?25l\u001b[?25hdone\n",
            "    Preparing wheel metadata ... \u001b[?25l\u001b[?25hdone\n",
            "Requirement already satisfied: descartes in /usr/local/lib/python3.7/dist-packages (1.1.0)\n",
            "Requirement already satisfied: pandas in /usr/local/lib/python3.7/dist-packages (from qeds) (1.3.5)\n",
            "Requirement already satisfied: requests in /usr/local/lib/python3.7/dist-packages (from qeds) (2.23.0)\n",
            "Collecting quandl\n",
            "  Downloading Quandl-3.7.0-py2.py3-none-any.whl (26 kB)\n",
            "Requirement already satisfied: scipy in /usr/local/lib/python3.7/dist-packages (from qeds) (1.7.3)\n",
            "Requirement already satisfied: numpy in /usr/local/lib/python3.7/dist-packages (from qeds) (1.21.6)\n",
            "Collecting quantecon\n",
            "  Downloading quantecon-0.5.3-py3-none-any.whl (179 kB)\n",
            "\u001b[K     |████████████████████████████████| 179 kB 42.7 MB/s \n",
            "\u001b[?25hRequirement already satisfied: matplotlib in /usr/local/lib/python3.7/dist-packages (from qeds) (3.2.2)\n",
            "Requirement already satisfied: pyarrow in /usr/local/lib/python3.7/dist-packages (from qeds) (6.0.1)\n",
            "Requirement already satisfied: openpyxl in /usr/local/lib/python3.7/dist-packages (from qeds) (3.0.10)\n",
            "Requirement already satisfied: plotly in /usr/local/lib/python3.7/dist-packages (from qeds) (5.5.0)\n",
            "Requirement already satisfied: pandas_datareader in /usr/local/lib/python3.7/dist-packages (from qeds) (0.9.0)\n",
            "Requirement already satisfied: scikit-learn in /usr/local/lib/python3.7/dist-packages (from qeds) (1.0.2)\n",
            "Requirement already satisfied: seaborn in /usr/local/lib/python3.7/dist-packages (from qeds) (0.11.2)\n",
            "Requirement already satisfied: statsmodels in /usr/local/lib/python3.7/dist-packages (from qeds) (0.12.2)\n",
            "Requirement already satisfied: certifi in /usr/local/lib/python3.7/dist-packages (from fiona) (2022.9.24)\n",
            "Collecting cligj>=0.5\n",
            "  Downloading cligj-0.7.2-py3-none-any.whl (7.1 kB)\n",
            "Requirement already satisfied: attrs>=17 in /usr/local/lib/python3.7/dist-packages (from fiona) (22.1.0)\n",
            "Collecting munch\n",
            "  Downloading munch-2.5.0-py2.py3-none-any.whl (10 kB)\n",
            "Requirement already satisfied: setuptools in /usr/local/lib/python3.7/dist-packages (from fiona) (57.4.0)\n",
            "Requirement already satisfied: six>=1.7 in /usr/local/lib/python3.7/dist-packages (from fiona) (1.15.0)\n",
            "Requirement already satisfied: click>=4.0 in /usr/local/lib/python3.7/dist-packages (from fiona) (7.1.2)\n",
            "Collecting click-plugins>=1.0\n",
            "  Downloading click_plugins-1.1.1-py2.py3-none-any.whl (7.5 kB)\n",
            "Requirement already satisfied: shapely>=1.6 in /usr/local/lib/python3.7/dist-packages (from geopandas) (1.8.5.post1)\n",
            "Collecting pyproj>=2.2.0\n",
            "  Downloading pyproj-3.2.1-cp37-cp37m-manylinux2010_x86_64.whl (6.3 MB)\n",
            "\u001b[K     |████████████████████████████████| 6.3 MB 38.6 MB/s \n",
            "\u001b[?25hRequirement already satisfied: pytz>=2017.3 in /usr/local/lib/python3.7/dist-packages (from pandas->qeds) (2022.5)\n",
            "Requirement already satisfied: python-dateutil>=2.7.3 in /usr/local/lib/python3.7/dist-packages (from pandas->qeds) (2.8.2)\n",
            "Requirement already satisfied: smart-open>=1.2.1 in /usr/local/lib/python3.7/dist-packages (from gensim) (5.2.1)\n",
            "Requirement already satisfied: jinja2>=2.9 in /usr/local/lib/python3.7/dist-packages (from folium) (2.11.3)\n",
            "Requirement already satisfied: branca>=0.3.0 in /usr/local/lib/python3.7/dist-packages (from folium) (0.5.0)\n",
            "Requirement already satisfied: MarkupSafe>=0.23 in /usr/local/lib/python3.7/dist-packages (from jinja2>=2.9->folium) (2.0.1)\n",
            "Requirement already satisfied: joblib in /usr/local/lib/python3.7/dist-packages (from pyLDAvis) (1.2.0)\n",
            "Requirement already satisfied: numexpr in /usr/local/lib/python3.7/dist-packages (from pyLDAvis) (2.8.4)\n",
            "Requirement already satisfied: future in /usr/local/lib/python3.7/dist-packages (from pyLDAvis) (0.16.0)\n",
            "Collecting funcy\n",
            "  Downloading funcy-1.17-py2.py3-none-any.whl (33 kB)\n",
            "Collecting sklearn\n",
            "  Downloading sklearn-0.0.tar.gz (1.1 kB)\n",
            "Requirement already satisfied: pyparsing!=2.0.4,!=2.1.2,!=2.1.6,>=2.0.1 in /usr/local/lib/python3.7/dist-packages (from matplotlib->qeds) (3.0.9)\n",
            "Requirement already satisfied: cycler>=0.10 in /usr/local/lib/python3.7/dist-packages (from matplotlib->qeds) (0.11.0)\n",
            "Requirement already satisfied: kiwisolver>=1.0.1 in /usr/local/lib/python3.7/dist-packages (from matplotlib->qeds) (1.4.4)\n",
            "Requirement already satisfied: typing-extensions in /usr/local/lib/python3.7/dist-packages (from kiwisolver>=1.0.1->matplotlib->qeds) (4.1.1)\n",
            "Requirement already satisfied: et-xmlfile in /usr/local/lib/python3.7/dist-packages (from openpyxl->qeds) (1.1.0)\n",
            "Requirement already satisfied: lxml in /usr/local/lib/python3.7/dist-packages (from pandas_datareader->qeds) (4.9.1)\n",
            "Requirement already satisfied: chardet<4,>=3.0.2 in /usr/local/lib/python3.7/dist-packages (from requests->qeds) (3.0.4)\n",
            "Requirement already satisfied: urllib3!=1.25.0,!=1.25.1,<1.26,>=1.21.1 in /usr/local/lib/python3.7/dist-packages (from requests->qeds) (1.24.3)\n",
            "Requirement already satisfied: idna<3,>=2.5 in /usr/local/lib/python3.7/dist-packages (from requests->qeds) (2.10)\n",
            "Requirement already satisfied: tenacity>=6.2.0 in /usr/local/lib/python3.7/dist-packages (from plotly->qeds) (8.1.0)\n",
            "Collecting inflection>=0.3.1\n",
            "  Downloading inflection-0.5.1-py2.py3-none-any.whl (9.5 kB)\n",
            "Requirement already satisfied: more-itertools in /usr/local/lib/python3.7/dist-packages (from quandl->qeds) (9.0.0)\n",
            "Requirement already satisfied: numba in /usr/local/lib/python3.7/dist-packages (from quantecon->qeds) (0.56.3)\n",
            "Requirement already satisfied: sympy in /usr/local/lib/python3.7/dist-packages (from quantecon->qeds) (1.7.1)\n",
            "Requirement already satisfied: importlib-metadata in /usr/local/lib/python3.7/dist-packages (from numba->quantecon->qeds) (4.13.0)\n",
            "Requirement already satisfied: llvmlite<0.40,>=0.39.0dev0 in /usr/local/lib/python3.7/dist-packages (from numba->quantecon->qeds) (0.39.1)\n",
            "Requirement already satisfied: zipp>=0.5 in /usr/local/lib/python3.7/dist-packages (from importlib-metadata->numba->quantecon->qeds) (3.10.0)\n",
            "Requirement already satisfied: threadpoolctl>=2.0.0 in /usr/local/lib/python3.7/dist-packages (from scikit-learn->qeds) (3.1.0)\n",
            "Requirement already satisfied: patsy>=0.5 in /usr/local/lib/python3.7/dist-packages (from statsmodels->qeds) (0.5.3)\n",
            "Requirement already satisfied: mpmath>=0.19 in /usr/local/lib/python3.7/dist-packages (from sympy->quantecon->qeds) (1.2.1)\n",
            "Building wheels for collected packages: qeds, pyLDAvis, sklearn\n",
            "  Building wheel for qeds (setup.py) ... \u001b[?25l\u001b[?25hdone\n",
            "  Created wheel for qeds: filename=qeds-0.7.0-py3-none-any.whl size=27813 sha256=e65f16dc331f58b1ef954df798ef1c8092804574625d39dcceaacab57c1cf48b\n",
            "  Stored in directory: /root/.cache/pip/wheels/fc/8c/52/0cc036b9730b75850b9845770780f8d05ed08ff38a67cbaa29\n",
            "  Building wheel for pyLDAvis (PEP 517) ... \u001b[?25l\u001b[?25hdone\n",
            "  Created wheel for pyLDAvis: filename=pyLDAvis-3.3.1-py2.py3-none-any.whl size=136898 sha256=27aca413cd7ee1350a82ab4951f31ba224707e02c5f34797ea5163b479a9ca2c\n",
            "  Stored in directory: /root/.cache/pip/wheels/c9/21/f6/17bcf2667e8a68532ba2fbf6d5c72fdf4c7f7d9abfa4852d2f\n",
            "  Building wheel for sklearn (setup.py) ... \u001b[?25l\u001b[?25hdone\n",
            "  Created wheel for sklearn: filename=sklearn-0.0-py2.py3-none-any.whl size=1310 sha256=599fb39bc9c3928770577fce2276e8b3df4f839844a261d7775ed650b64ec934\n",
            "  Stored in directory: /root/.cache/pip/wheels/46/ef/c3/157e41f5ee1372d1be90b09f74f82b10e391eaacca8f22d33e\n",
            "Successfully built qeds pyLDAvis sklearn\n",
            "Installing collected packages: munch, inflection, cligj, click-plugins, sklearn, quantecon, quandl, pyproj, funcy, fiona, qeds, pyLDAvis, geopandas\n",
            "Successfully installed click-plugins-1.1.1 cligj-0.7.2 fiona-1.8.22 funcy-1.17 geopandas-0.10.2 inflection-0.5.1 munch-2.5.0 pyLDAvis-3.3.1 pyproj-3.2.1 qeds-0.7.0 quandl-3.7.0 quantecon-0.5.3 sklearn-0.0\n"
          ]
        }
      ]
    },
    {
      "cell_type": "code",
      "source": [
        "import pandas as pd\n",
        "import numpy as np\n",
        "from tqdm import tqdm\n",
        "%matplotlib inline\n",
        "import numpy as np\n",
        "import matplotlib.pyplot as plt\n",
        "import geopandas"
      ],
      "metadata": {
        "id": "WBpdGjbquQii"
      },
      "execution_count": 2,
      "outputs": []
    },
    {
      "cell_type": "markdown",
      "source": [
        "Importa la base de datos"
      ],
      "metadata": {
        "id": "KNTIoZlGvPum"
      }
    },
    {
      "cell_type": "code",
      "source": [
        "url=\"https://raw.githubusercontent.com/marypazrf/bdd/main/target-locations.csv\"\n",
        "df=pd.read_csv(url)"
      ],
      "metadata": {
        "id": "PAJWHRVN781V"
      },
      "execution_count": 3,
      "outputs": []
    },
    {
      "cell_type": "markdown",
      "source": [
        "Exploremos los datos."
      ],
      "metadata": {
        "id": "sH4hvPAYvUGY"
      }
    },
    {
      "cell_type": "code",
      "source": [
        "df.head()"
      ],
      "metadata": {
        "colab": {
          "base_uri": "https://localhost:8080/",
          "height": 206
        },
        "id": "DuzNp7KseyBg",
        "outputId": "71d0d5e7-55a6-4118-c21a-defeae2b1fcd"
      },
      "execution_count": 4,
      "outputs": [
        {
          "output_type": "execute_result",
          "data": {
            "text/plain": [
              "        name   latitude  longitude  \\\n",
              "0  Alabaster  33.224225 -86.804174   \n",
              "1   Bessemer  33.334550 -86.989778   \n",
              "2     Daphne  30.602875 -87.895932   \n",
              "3    Decatur  34.560148 -86.971559   \n",
              "4     Dothan  31.266061 -85.446422   \n",
              "\n",
              "                                             address         phone  \\\n",
              "0        250 S Colonial Dr, Alabaster, AL 35007-4657  205-564-2608   \n",
              "1       4889 Promenade Pkwy, Bessemer, AL 35022-7305  205-565-3760   \n",
              "2          1698 US Highway 98, Daphne, AL 36526-4252  251-621-3540   \n",
              "3  1235 Point Mallard Pkwy SE, Decatur, AL 35601-...  256-898-3036   \n",
              "4         4601 Montgomery Hwy, Dothan, AL 36303-1522  334-340-1112   \n",
              "\n",
              "                                    website  \n",
              "0  https://www.target.com/sl/alabaster/2276  \n",
              "1   https://www.target.com/sl/bessemer/2375  \n",
              "2     https://www.target.com/sl/daphne/1274  \n",
              "3    https://www.target.com/sl/decatur/2084  \n",
              "4     https://www.target.com/sl/dothan/1468  "
            ],
            "text/html": [
              "\n",
              "  <div id=\"df-fd04f126-61a5-45be-a453-2a6ee18f668d\">\n",
              "    <div class=\"colab-df-container\">\n",
              "      <div>\n",
              "<style scoped>\n",
              "    .dataframe tbody tr th:only-of-type {\n",
              "        vertical-align: middle;\n",
              "    }\n",
              "\n",
              "    .dataframe tbody tr th {\n",
              "        vertical-align: top;\n",
              "    }\n",
              "\n",
              "    .dataframe thead th {\n",
              "        text-align: right;\n",
              "    }\n",
              "</style>\n",
              "<table border=\"1\" class=\"dataframe\">\n",
              "  <thead>\n",
              "    <tr style=\"text-align: right;\">\n",
              "      <th></th>\n",
              "      <th>name</th>\n",
              "      <th>latitude</th>\n",
              "      <th>longitude</th>\n",
              "      <th>address</th>\n",
              "      <th>phone</th>\n",
              "      <th>website</th>\n",
              "    </tr>\n",
              "  </thead>\n",
              "  <tbody>\n",
              "    <tr>\n",
              "      <th>0</th>\n",
              "      <td>Alabaster</td>\n",
              "      <td>33.224225</td>\n",
              "      <td>-86.804174</td>\n",
              "      <td>250 S Colonial Dr, Alabaster, AL 35007-4657</td>\n",
              "      <td>205-564-2608</td>\n",
              "      <td>https://www.target.com/sl/alabaster/2276</td>\n",
              "    </tr>\n",
              "    <tr>\n",
              "      <th>1</th>\n",
              "      <td>Bessemer</td>\n",
              "      <td>33.334550</td>\n",
              "      <td>-86.989778</td>\n",
              "      <td>4889 Promenade Pkwy, Bessemer, AL 35022-7305</td>\n",
              "      <td>205-565-3760</td>\n",
              "      <td>https://www.target.com/sl/bessemer/2375</td>\n",
              "    </tr>\n",
              "    <tr>\n",
              "      <th>2</th>\n",
              "      <td>Daphne</td>\n",
              "      <td>30.602875</td>\n",
              "      <td>-87.895932</td>\n",
              "      <td>1698 US Highway 98, Daphne, AL 36526-4252</td>\n",
              "      <td>251-621-3540</td>\n",
              "      <td>https://www.target.com/sl/daphne/1274</td>\n",
              "    </tr>\n",
              "    <tr>\n",
              "      <th>3</th>\n",
              "      <td>Decatur</td>\n",
              "      <td>34.560148</td>\n",
              "      <td>-86.971559</td>\n",
              "      <td>1235 Point Mallard Pkwy SE, Decatur, AL 35601-...</td>\n",
              "      <td>256-898-3036</td>\n",
              "      <td>https://www.target.com/sl/decatur/2084</td>\n",
              "    </tr>\n",
              "    <tr>\n",
              "      <th>4</th>\n",
              "      <td>Dothan</td>\n",
              "      <td>31.266061</td>\n",
              "      <td>-85.446422</td>\n",
              "      <td>4601 Montgomery Hwy, Dothan, AL 36303-1522</td>\n",
              "      <td>334-340-1112</td>\n",
              "      <td>https://www.target.com/sl/dothan/1468</td>\n",
              "    </tr>\n",
              "  </tbody>\n",
              "</table>\n",
              "</div>\n",
              "      <button class=\"colab-df-convert\" onclick=\"convertToInteractive('df-fd04f126-61a5-45be-a453-2a6ee18f668d')\"\n",
              "              title=\"Convert this dataframe to an interactive table.\"\n",
              "              style=\"display:none;\">\n",
              "        \n",
              "  <svg xmlns=\"http://www.w3.org/2000/svg\" height=\"24px\"viewBox=\"0 0 24 24\"\n",
              "       width=\"24px\">\n",
              "    <path d=\"M0 0h24v24H0V0z\" fill=\"none\"/>\n",
              "    <path d=\"M18.56 5.44l.94 2.06.94-2.06 2.06-.94-2.06-.94-.94-2.06-.94 2.06-2.06.94zm-11 1L8.5 8.5l.94-2.06 2.06-.94-2.06-.94L8.5 2.5l-.94 2.06-2.06.94zm10 10l.94 2.06.94-2.06 2.06-.94-2.06-.94-.94-2.06-.94 2.06-2.06.94z\"/><path d=\"M17.41 7.96l-1.37-1.37c-.4-.4-.92-.59-1.43-.59-.52 0-1.04.2-1.43.59L10.3 9.45l-7.72 7.72c-.78.78-.78 2.05 0 2.83L4 21.41c.39.39.9.59 1.41.59.51 0 1.02-.2 1.41-.59l7.78-7.78 2.81-2.81c.8-.78.8-2.07 0-2.86zM5.41 20L4 18.59l7.72-7.72 1.47 1.35L5.41 20z\"/>\n",
              "  </svg>\n",
              "      </button>\n",
              "      \n",
              "  <style>\n",
              "    .colab-df-container {\n",
              "      display:flex;\n",
              "      flex-wrap:wrap;\n",
              "      gap: 12px;\n",
              "    }\n",
              "\n",
              "    .colab-df-convert {\n",
              "      background-color: #E8F0FE;\n",
              "      border: none;\n",
              "      border-radius: 50%;\n",
              "      cursor: pointer;\n",
              "      display: none;\n",
              "      fill: #1967D2;\n",
              "      height: 32px;\n",
              "      padding: 0 0 0 0;\n",
              "      width: 32px;\n",
              "    }\n",
              "\n",
              "    .colab-df-convert:hover {\n",
              "      background-color: #E2EBFA;\n",
              "      box-shadow: 0px 1px 2px rgba(60, 64, 67, 0.3), 0px 1px 3px 1px rgba(60, 64, 67, 0.15);\n",
              "      fill: #174EA6;\n",
              "    }\n",
              "\n",
              "    [theme=dark] .colab-df-convert {\n",
              "      background-color: #3B4455;\n",
              "      fill: #D2E3FC;\n",
              "    }\n",
              "\n",
              "    [theme=dark] .colab-df-convert:hover {\n",
              "      background-color: #434B5C;\n",
              "      box-shadow: 0px 1px 3px 1px rgba(0, 0, 0, 0.15);\n",
              "      filter: drop-shadow(0px 1px 2px rgba(0, 0, 0, 0.3));\n",
              "      fill: #FFFFFF;\n",
              "    }\n",
              "  </style>\n",
              "\n",
              "      <script>\n",
              "        const buttonEl =\n",
              "          document.querySelector('#df-fd04f126-61a5-45be-a453-2a6ee18f668d button.colab-df-convert');\n",
              "        buttonEl.style.display =\n",
              "          google.colab.kernel.accessAllowed ? 'block' : 'none';\n",
              "\n",
              "        async function convertToInteractive(key) {\n",
              "          const element = document.querySelector('#df-fd04f126-61a5-45be-a453-2a6ee18f668d');\n",
              "          const dataTable =\n",
              "            await google.colab.kernel.invokeFunction('convertToInteractive',\n",
              "                                                     [key], {});\n",
              "          if (!dataTable) return;\n",
              "\n",
              "          const docLinkHtml = 'Like what you see? Visit the ' +\n",
              "            '<a target=\"_blank\" href=https://colab.research.google.com/notebooks/data_table.ipynb>data table notebook</a>'\n",
              "            + ' to learn more about interactive tables.';\n",
              "          element.innerHTML = '';\n",
              "          dataTable['output_type'] = 'display_data';\n",
              "          await google.colab.output.renderOutput(dataTable, element);\n",
              "          const docLink = document.createElement('div');\n",
              "          docLink.innerHTML = docLinkHtml;\n",
              "          element.appendChild(docLink);\n",
              "        }\n",
              "      </script>\n",
              "    </div>\n",
              "  </div>\n",
              "  "
            ]
          },
          "metadata": {},
          "execution_count": 4
        }
      ]
    },
    {
      "cell_type": "code",
      "source": [
        "df.info()"
      ],
      "metadata": {
        "colab": {
          "base_uri": "https://localhost:8080/"
        },
        "id": "MxbhdLkavl7Q",
        "outputId": "7c38b270-6b3d-4cd8-c9f2-dd424613a378"
      },
      "execution_count": 5,
      "outputs": [
        {
          "output_type": "stream",
          "name": "stdout",
          "text": [
            "<class 'pandas.core.frame.DataFrame'>\n",
            "RangeIndex: 1839 entries, 0 to 1838\n",
            "Data columns (total 6 columns):\n",
            " #   Column     Non-Null Count  Dtype  \n",
            "---  ------     --------------  -----  \n",
            " 0   name       1839 non-null   object \n",
            " 1   latitude   1839 non-null   float64\n",
            " 2   longitude  1839 non-null   float64\n",
            " 3   address    1839 non-null   object \n",
            " 4   phone      1839 non-null   object \n",
            " 5   website    1839 non-null   object \n",
            "dtypes: float64(2), object(4)\n",
            "memory usage: 86.3+ KB\n"
          ]
        }
      ]
    },
    {
      "cell_type": "markdown",
      "source": [
        "**Definición de Latitud y Longitud**\n",
        "\n",
        "**Latitud** Es la distancia en grados, minutos y segundos que hay con respecto al paralelo principal, que es el ecuador (0º). La latitud puede ser norte y sur.\n",
        "\n",
        "**Longitud**: Es la distancia en grados, minutos y segundos que hay con respecto al meridiano principal, que es el meridiano de Greenwich (0º).La longitud puede ser este y oeste."
      ],
      "metadata": {
        "id": "cpfqKT4qxAZz"
      }
    },
    {
      "cell_type": "code",
      "source": [
        "latlong=df[[\"latitude\",\"longitude\"]]"
      ],
      "metadata": {
        "id": "oPzX3DGju0As"
      },
      "execution_count": 6,
      "outputs": []
    },
    {
      "cell_type": "markdown",
      "source": [
        "¡Visualizemos los datos!, para empezar a notar algún patron. \n",
        "\n",
        "A simple vista pudieramos pensar que tenemos algunos datos atípicos u outliers, pero .... no es así, simplemente esta grafica no nos está dando toda la información."
      ],
      "metadata": {
        "id": "gMk6UVE2e67y"
      }
    },
    {
      "cell_type": "code",
      "source": [
        "#extrae los datos interesantes\n",
        "latlong.plot.scatter( \"longitude\",\"latitude\")"
      ],
      "metadata": {
        "colab": {
          "base_uri": "https://localhost:8080/",
          "height": 297
        },
        "id": "-QZRqKiDfj2J",
        "outputId": "6b2c8287-478a-49ae-a8db-13e3a9c3e3d5"
      },
      "execution_count": 7,
      "outputs": [
        {
          "output_type": "execute_result",
          "data": {
            "text/plain": [
              "<matplotlib.axes._subplots.AxesSubplot at 0x7f3262986910>"
            ]
          },
          "metadata": {},
          "execution_count": 7
        },
        {
          "output_type": "display_data",
          "data": {
            "text/plain": [
              "<Figure size 432x288 with 1 Axes>"
            ],
            "image/png": "[encoded data removed]"
          },
          "metadata": {
            "needs_background": "light"
          }
        }
      ]
    },
    {
      "cell_type": "code",
      "source": [
        "latlong.describe()"
      ],
      "metadata": {
        "colab": {
          "base_uri": "https://localhost:8080/",
          "height": 300
        },
        "id": "O6b3QguyyjM_",
        "outputId": "43347d80-d90a-4421-f91d-1a6e0d449840"
      },
      "execution_count": 8,
      "outputs": [
        {
          "output_type": "execute_result",
          "data": {
            "text/plain": [
              "          latitude    longitude\n",
              "count  1839.000000  1839.000000\n",
              "mean     37.791238   -91.986881\n",
              "std       5.272299    16.108046\n",
              "min      19.647855  -159.376962\n",
              "25%      33.882605   -98.268828\n",
              "50%      38.955432   -87.746346\n",
              "75%      41.658341   -80.084833\n",
              "max      61.577919   -68.742331"
            ],
            "text/html": [
              "\n",
              "  <div id=\"df-20b49b2f-f3a6-4624-9237-7c96b13f7b1c\">\n",
              "    <div class=\"colab-df-container\">\n",
              "      <div>\n",
              "<style scoped>\n",
              "    .dataframe tbody tr th:only-of-type {\n",
              "        vertical-align: middle;\n",
              "    }\n",
              "\n",
              "    .dataframe tbody tr th {\n",
              "        vertical-align: top;\n",
              "    }\n",
              "\n",
              "    .dataframe thead th {\n",
              "        text-align: right;\n",
              "    }\n",
              "</style>\n",
              "<table border=\"1\" class=\"dataframe\">\n",
              "  <thead>\n",
              "    <tr style=\"text-align: right;\">\n",
              "      <th></th>\n",
              "      <th>latitude</th>\n",
              "      <th>longitude</th>\n",
              "    </tr>\n",
              "  </thead>\n",
              "  <tbody>\n",
              "    <tr>\n",
              "      <th>count</th>\n",
              "      <td>1839.000000</td>\n",
              "      <td>1839.000000</td>\n",
              "    </tr>\n",
              "    <tr>\n",
              "      <th>mean</th>\n",
              "      <td>37.791238</td>\n",
              "      <td>-91.986881</td>\n",
              "    </tr>\n",
              "    <tr>\n",
              "      <th>std</th>\n",
              "      <td>5.272299</td>\n",
              "      <td>16.108046</td>\n",
              "    </tr>\n",
              "    <tr>\n",
              "      <th>min</th>\n",
              "      <td>19.647855</td>\n",
              "      <td>-159.376962</td>\n",
              "    </tr>\n",
              "    <tr>\n",
              "      <th>25%</th>\n",
              "      <td>33.882605</td>\n",
              "      <td>-98.268828</td>\n",
              "    </tr>\n",
              "    <tr>\n",
              "      <th>50%</th>\n",
              "      <td>38.955432</td>\n",
              "      <td>-87.746346</td>\n",
              "    </tr>\n",
              "    <tr>\n",
              "      <th>75%</th>\n",
              "      <td>41.658341</td>\n",
              "      <td>-80.084833</td>\n",
              "    </tr>\n",
              "    <tr>\n",
              "      <th>max</th>\n",
              "      <td>61.577919</td>\n",
              "      <td>-68.742331</td>\n",
              "    </tr>\n",
              "  </tbody>\n",
              "</table>\n",
              "</div>\n",
              "      <button class=\"colab-df-convert\" onclick=\"convertToInteractive('df-20b49b2f-f3a6-4624-9237-7c96b13f7b1c')\"\n",
              "              title=\"Convert this dataframe to an interactive table.\"\n",
              "              style=\"display:none;\">\n",
              "        \n",
              "  <svg xmlns=\"http://www.w3.org/2000/svg\" height=\"24px\"viewBox=\"0 0 24 24\"\n",
              "       width=\"24px\">\n",
              "    <path d=\"M0 0h24v24H0V0z\" fill=\"none\"/>\n",
              "    <path d=\"M18.56 5.44l.94 2.06.94-2.06 2.06-.94-2.06-.94-.94-2.06-.94 2.06-2.06.94zm-11 1L8.5 8.5l.94-2.06 2.06-.94-2.06-.94L8.5 2.5l-.94 2.06-2.06.94zm10 10l.94 2.06.94-2.06 2.06-.94-2.06-.94-.94-2.06-.94 2.06-2.06.94z\"/><path d=\"M17.41 7.96l-1.37-1.37c-.4-.4-.92-.59-1.43-.59-.52 0-1.04.2-1.43.59L10.3 9.45l-7.72 7.72c-.78.78-.78 2.05 0 2.83L4 21.41c.39.39.9.59 1.41.59.51 0 1.02-.2 1.41-.59l7.78-7.78 2.81-2.81c.8-.78.8-2.07 0-2.86zM5.41 20L4 18.59l7.72-7.72 1.47 1.35L5.41 20z\"/>\n",
              "  </svg>\n",
              "      </button>\n",
              "      \n",
              "  <style>\n",
              "    .colab-df-container {\n",
              "      display:flex;\n",
              "      flex-wrap:wrap;\n",
              "      gap: 12px;\n",
              "    }\n",
              "\n",
              "    .colab-df-convert {\n",
              "      background-color: #E8F0FE;\n",
              "      border: none;\n",
              "      border-radius: 50%;\n",
              "      cursor: pointer;\n",
              "      display: none;\n",
              "      fill: #1967D2;\n",
              "      height: 32px;\n",
              "      padding: 0 0 0 0;\n",
              "      width: 32px;\n",
              "    }\n",
              "\n",
              "    .colab-df-convert:hover {\n",
              "      background-color: #E2EBFA;\n",
              "      box-shadow: 0px 1px 2px rgba(60, 64, 67, 0.3), 0px 1px 3px 1px rgba(60, 64, 67, 0.15);\n",
              "      fill: #174EA6;\n",
              "    }\n",
              "\n",
              "    [theme=dark] .colab-df-convert {\n",
              "      background-color: #3B4455;\n",
              "      fill: #D2E3FC;\n",
              "    }\n",
              "\n",
              "    [theme=dark] .colab-df-convert:hover {\n",
              "      background-color: #434B5C;\n",
              "      box-shadow: 0px 1px 3px 1px rgba(0, 0, 0, 0.15);\n",
              "      filter: drop-shadow(0px 1px 2px rgba(0, 0, 0, 0.3));\n",
              "      fill: #FFFFFF;\n",
              "    }\n",
              "  </style>\n",
              "\n",
              "      <script>\n",
              "        const buttonEl =\n",
              "          document.querySelector('#df-20b49b2f-f3a6-4624-9237-7c96b13f7b1c button.colab-df-convert');\n",
              "        buttonEl.style.display =\n",
              "          google.colab.kernel.accessAllowed ? 'block' : 'none';\n",
              "\n",
              "        async function convertToInteractive(key) {\n",
              "          const element = document.querySelector('#df-20b49b2f-f3a6-4624-9237-7c96b13f7b1c');\n",
              "          const dataTable =\n",
              "            await google.colab.kernel.invokeFunction('convertToInteractive',\n",
              "                                                     [key], {});\n",
              "          if (!dataTable) return;\n",
              "\n",
              "          const docLinkHtml = 'Like what you see? Visit the ' +\n",
              "            '<a target=\"_blank\" href=https://colab.research.google.com/notebooks/data_table.ipynb>data table notebook</a>'\n",
              "            + ' to learn more about interactive tables.';\n",
              "          element.innerHTML = '';\n",
              "          dataTable['output_type'] = 'display_data';\n",
              "          await google.colab.output.renderOutput(dataTable, element);\n",
              "          const docLink = document.createElement('div');\n",
              "          docLink.innerHTML = docLinkHtml;\n",
              "          element.appendChild(docLink);\n",
              "        }\n",
              "      </script>\n",
              "    </div>\n",
              "  </div>\n",
              "  "
            ]
          },
          "metadata": {},
          "execution_count": 8
        }
      ]
    },
    {
      "cell_type": "markdown",
      "source": [
        "Para entender un poco más, nos auxiliaremos de una librería para graficar datos geográficos. Esto nos ayudara a tener un mejor entendimiento de ellos.\n",
        "\n",
        "\n"
      ],
      "metadata": {
        "id": "hkPMyAyIDunz"
      }
    },
    {
      "cell_type": "code",
      "source": [
        "import geopandas as gpd\n",
        "import matplotlib.pyplot as plt\n",
        "import pandas as pd\n",
        "\n",
        "from shapely.geometry import Point\n",
        "\n",
        "%matplotlib inline\n",
        "# activate plot theme\n",
        "import qeds\n",
        "qeds.themes.mpl_style();"
      ],
      "metadata": {
        "id": "_blyM4esyJTu"
      },
      "execution_count": 9,
      "outputs": []
    },
    {
      "cell_type": "code",
      "source": [
        "df[\"Coordinates\"] = list(zip(df.longitude, df.latitude))\n",
        "df[\"Coordinates\"] = df[\"Coordinates\"].apply(Point)\n",
        "df.head()"
      ],
      "metadata": {
        "colab": {
          "base_uri": "https://localhost:8080/",
          "height": 206
        },
        "id": "01i0TciKfPco",
        "outputId": "2f2db9d7-7520-4f09-8a89-a9c58cd1b8d3"
      },
      "execution_count": 10,
      "outputs": [
        {
          "output_type": "execute_result",
          "data": {
            "text/plain": [
              "        name   latitude  longitude  \\\n",
              "0  Alabaster  33.224225 -86.804174   \n",
              "1   Bessemer  33.334550 -86.989778   \n",
              "2     Daphne  30.602875 -87.895932   \n",
              "3    Decatur  34.560148 -86.971559   \n",
              "4     Dothan  31.266061 -85.446422   \n",
              "\n",
              "                                             address         phone  \\\n",
              "0        250 S Colonial Dr, Alabaster, AL 35007-4657  205-564-2608   \n",
              "1       4889 Promenade Pkwy, Bessemer, AL 35022-7305  205-565-3760   \n",
              "2          1698 US Highway 98, Daphne, AL 36526-4252  251-621-3540   \n",
              "3  1235 Point Mallard Pkwy SE, Decatur, AL 35601-...  256-898-3036   \n",
              "4         4601 Montgomery Hwy, Dothan, AL 36303-1522  334-340-1112   \n",
              "\n",
              "                                    website  \\\n",
              "0  https://www.target.com/sl/alabaster/2276   \n",
              "1   https://www.target.com/sl/bessemer/2375   \n",
              "2     https://www.target.com/sl/daphne/1274   \n",
              "3    https://www.target.com/sl/decatur/2084   \n",
              "4     https://www.target.com/sl/dothan/1468   \n",
              "\n",
              "                             Coordinates  \n",
              "0  POINT (-86.80417369999999 33.2242254)  \n",
              "1  POINT (-86.98977789999999 33.3345501)  \n",
              "2  POINT (-87.89593169999999 30.6028747)  \n",
              "3         POINT (-86.9715595 34.5601477)  \n",
              "4         POINT (-85.4464222 31.2660613)  "
            ],
            "text/html": [
              "\n",
              "  <div id=\"df-c55a566e-b2b8-42f0-9697-7a0e0521d296\">\n",
              "    <div class=\"colab-df-container\">\n",
              "      <div>\n",
              "<style scoped>\n",
              "    .dataframe tbody tr th:only-of-type {\n",
              "        vertical-align: middle;\n",
              "    }\n",
              "\n",
              "    .dataframe tbody tr th {\n",
              "        vertical-align: top;\n",
              "    }\n",
              "\n",
              "    .dataframe thead th {\n",
              "        text-align: right;\n",
              "    }\n",
              "</style>\n",
              "<table border=\"1\" class=\"dataframe\">\n",
              "  <thead>\n",
              "    <tr style=\"text-align: right;\">\n",
              "      <th></th>\n",
              "      <th>name</th>\n",
              "      <th>latitude</th>\n",
              "      <th>longitude</th>\n",
              "      <th>address</th>\n",
              "      <th>phone</th>\n",
              "      <th>website</th>\n",
              "      <th>Coordinates</th>\n",
              "    </tr>\n",
              "  </thead>\n",
              "  <tbody>\n",
              "    <tr>\n",
              "      <th>0</th>\n",
              "      <td>Alabaster</td>\n",
              "      <td>33.224225</td>\n",
              "      <td>-86.804174</td>\n",
              "      <td>250 S Colonial Dr, Alabaster, AL 35007-4657</td>\n",
              "      <td>205-564-2608</td>\n",
              "      <td>https://www.target.com/sl/alabaster/2276</td>\n",
              "      <td>POINT (-86.80417369999999 33.2242254)</td>\n",
              "    </tr>\n",
              "    <tr>\n",
              "      <th>1</th>\n",
              "      <td>Bessemer</td>\n",
              "      <td>33.334550</td>\n",
              "      <td>-86.989778</td>\n",
              "      <td>4889 Promenade Pkwy, Bessemer, AL 35022-7305</td>\n",
              "      <td>205-565-3760</td>\n",
              "      <td>https://www.target.com/sl/bessemer/2375</td>\n",
              "      <td>POINT (-86.98977789999999 33.3345501)</td>\n",
              "    </tr>\n",
              "    <tr>\n",
              "      <th>2</th>\n",
              "      <td>Daphne</td>\n",
              "      <td>30.602875</td>\n",
              "      <td>-87.895932</td>\n",
              "      <td>1698 US Highway 98, Daphne, AL 36526-4252</td>\n",
              "      <td>251-621-3540</td>\n",
              "      <td>https://www.target.com/sl/daphne/1274</td>\n",
              "      <td>POINT (-87.89593169999999 30.6028747)</td>\n",
              "    </tr>\n",
              "    <tr>\n",
              "      <th>3</th>\n",
              "      <td>Decatur</td>\n",
              "      <td>34.560148</td>\n",
              "      <td>-86.971559</td>\n",
              "      <td>1235 Point Mallard Pkwy SE, Decatur, AL 35601-...</td>\n",
              "      <td>256-898-3036</td>\n",
              "      <td>https://www.target.com/sl/decatur/2084</td>\n",
              "      <td>POINT (-86.9715595 34.5601477)</td>\n",
              "    </tr>\n",
              "    <tr>\n",
              "      <th>4</th>\n",
              "      <td>Dothan</td>\n",
              "      <td>31.266061</td>\n",
              "      <td>-85.446422</td>\n",
              "      <td>4601 Montgomery Hwy, Dothan, AL 36303-1522</td>\n",
              "      <td>334-340-1112</td>\n",
              "      <td>https://www.target.com/sl/dothan/1468</td>\n",
              "      <td>POINT (-85.4464222 31.2660613)</td>\n",
              "    </tr>\n",
              "  </tbody>\n",
              "</table>\n",
              "</div>\n",
              "      <button class=\"colab-df-convert\" onclick=\"convertToInteractive('df-c55a566e-b2b8-42f0-9697-7a0e0521d296')\"\n",
              "              title=\"Convert this dataframe to an interactive table.\"\n",
              "              style=\"display:none;\">\n",
              "        \n",
              "  <svg xmlns=\"http://www.w3.org/2000/svg\" height=\"24px\"viewBox=\"0 0 24 24\"\n",
              "       width=\"24px\">\n",
              "    <path d=\"M0 0h24v24H0V0z\" fill=\"none\"/>\n",
              "    <path d=\"M18.56 5.44l.94 2.06.94-2.06 2.06-.94-2.06-.94-.94-2.06-.94 2.06-2.06.94zm-11 1L8.5 8.5l.94-2.06 2.06-.94-2.06-.94L8.5 2.5l-.94 2.06-2.06.94zm10 10l.94 2.06.94-2.06 2.06-.94-2.06-.94-.94-2.06-.94 2.06-2.06.94z\"/><path d=\"M17.41 7.96l-1.37-1.37c-.4-.4-.92-.59-1.43-.59-.52 0-1.04.2-1.43.59L10.3 9.45l-7.72 7.72c-.78.78-.78 2.05 0 2.83L4 21.41c.39.39.9.59 1.41.59.51 0 1.02-.2 1.41-.59l7.78-7.78 2.81-2.81c.8-.78.8-2.07 0-2.86zM5.41 20L4 18.59l7.72-7.72 1.47 1.35L5.41 20z\"/>\n",
              "  </svg>\n",
              "      </button>\n",
              "      \n",
              "  <style>\n",
              "    .colab-df-container {\n",
              "      display:flex;\n",
              "      flex-wrap:wrap;\n",
              "      gap: 12px;\n",
              "    }\n",
              "\n",
              "    .colab-df-convert {\n",
              "      background-color: #E8F0FE;\n",
              "      border: none;\n",
              "      border-radius: 50%;\n",
              "      cursor: pointer;\n",
              "      display: none;\n",
              "      fill: #1967D2;\n",
              "      height: 32px;\n",
              "      padding: 0 0 0 0;\n",
              "      width: 32px;\n",
              "    }\n",
              "\n",
              "    .colab-df-convert:hover {\n",
              "      background-color: #E2EBFA;\n",
              "      box-shadow: 0px 1px 2px rgba(60, 64, 67, 0.3), 0px 1px 3px 1px rgba(60, 64, 67, 0.15);\n",
              "      fill: #174EA6;\n",
              "    }\n",
              "\n",
              "    [theme=dark] .colab-df-convert {\n",
              "      background-color: #3B4455;\n",
              "      fill: #D2E3FC;\n",
              "    }\n",
              "\n",
              "    [theme=dark] .colab-df-convert:hover {\n",
              "      background-color: #434B5C;\n",
              "      box-shadow: 0px 1px 3px 1px rgba(0, 0, 0, 0.15);\n",
              "      filter: drop-shadow(0px 1px 2px rgba(0, 0, 0, 0.3));\n",
              "      fill: #FFFFFF;\n",
              "    }\n",
              "  </style>\n",
              "\n",
              "      <script>\n",
              "        const buttonEl =\n",
              "          document.querySelector('#df-c55a566e-b2b8-42f0-9697-7a0e0521d296 button.colab-df-convert');\n",
              "        buttonEl.style.display =\n",
              "          google.colab.kernel.accessAllowed ? 'block' : 'none';\n",
              "\n",
              "        async function convertToInteractive(key) {\n",
              "          const element = document.querySelector('#df-c55a566e-b2b8-42f0-9697-7a0e0521d296');\n",
              "          const dataTable =\n",
              "            await google.colab.kernel.invokeFunction('convertToInteractive',\n",
              "                                                     [key], {});\n",
              "          if (!dataTable) return;\n",
              "\n",
              "          const docLinkHtml = 'Like what you see? Visit the ' +\n",
              "            '<a target=\"_blank\" href=https://colab.research.google.com/notebooks/data_table.ipynb>data table notebook</a>'\n",
              "            + ' to learn more about interactive tables.';\n",
              "          element.innerHTML = '';\n",
              "          dataTable['output_type'] = 'display_data';\n",
              "          await google.colab.output.renderOutput(dataTable, element);\n",
              "          const docLink = document.createElement('div');\n",
              "          docLink.innerHTML = docLinkHtml;\n",
              "          element.appendChild(docLink);\n",
              "        }\n",
              "      </script>\n",
              "    </div>\n",
              "  </div>\n",
              "  "
            ]
          },
          "metadata": {},
          "execution_count": 10
        }
      ]
    },
    {
      "cell_type": "code",
      "source": [
        "gdf = gpd.GeoDataFrame(df, geometry=\"Coordinates\")\n",
        "gdf.head()"
      ],
      "metadata": {
        "colab": {
          "base_uri": "https://localhost:8080/",
          "height": 206
        },
        "id": "SBTBrsvlfIU_",
        "outputId": "510a470c-1775-4b2a-b534-4651b1dcafef"
      },
      "execution_count": 11,
      "outputs": [
        {
          "output_type": "execute_result",
          "data": {
            "text/plain": [
              "        name   latitude  longitude  \\\n",
              "0  Alabaster  33.224225 -86.804174   \n",
              "1   Bessemer  33.334550 -86.989778   \n",
              "2     Daphne  30.602875 -87.895932   \n",
              "3    Decatur  34.560148 -86.971559   \n",
              "4     Dothan  31.266061 -85.446422   \n",
              "\n",
              "                                             address         phone  \\\n",
              "0        250 S Colonial Dr, Alabaster, AL 35007-4657  205-564-2608   \n",
              "1       4889 Promenade Pkwy, Bessemer, AL 35022-7305  205-565-3760   \n",
              "2          1698 US Highway 98, Daphne, AL 36526-4252  251-621-3540   \n",
              "3  1235 Point Mallard Pkwy SE, Decatur, AL 35601-...  256-898-3036   \n",
              "4         4601 Montgomery Hwy, Dothan, AL 36303-1522  334-340-1112   \n",
              "\n",
              "                                    website                 Coordinates  \n",
              "0  https://www.target.com/sl/alabaster/2276  POINT (-86.80417 33.22423)  \n",
              "1   https://www.target.com/sl/bessemer/2375  POINT (-86.98978 33.33455)  \n",
              "2     https://www.target.com/sl/daphne/1274  POINT (-87.89593 30.60287)  \n",
              "3    https://www.target.com/sl/decatur/2084  POINT (-86.97156 34.56015)  \n",
              "4     https://www.target.com/sl/dothan/1468  POINT (-85.44642 31.26606)  "
            ],
            "text/html": [
              "\n",
              "  <div id=\"df-a981044c-d169-4198-846e-0315015fcf61\">\n",
              "    <div class=\"colab-df-container\">\n",
              "      <div>\n",
              "<style scoped>\n",
              "    .dataframe tbody tr th:only-of-type {\n",
              "        vertical-align: middle;\n",
              "    }\n",
              "\n",
              "    .dataframe tbody tr th {\n",
              "        vertical-align: top;\n",
              "    }\n",
              "\n",
              "    .dataframe thead th {\n",
              "        text-align: right;\n",
              "    }\n",
              "</style>\n",
              "<table border=\"1\" class=\"dataframe\">\n",
              "  <thead>\n",
              "    <tr style=\"text-align: right;\">\n",
              "      <th></th>\n",
              "      <th>name</th>\n",
              "      <th>latitude</th>\n",
              "      <th>longitude</th>\n",
              "      <th>address</th>\n",
              "      <th>phone</th>\n",
              "      <th>website</th>\n",
              "      <th>Coordinates</th>\n",
              "    </tr>\n",
              "  </thead>\n",
              "  <tbody>\n",
              "    <tr>\n",
              "      <th>0</th>\n",
              "      <td>Alabaster</td>\n",
              "      <td>33.224225</td>\n",
              "      <td>-86.804174</td>\n",
              "      <td>250 S Colonial Dr, Alabaster, AL 35007-4657</td>\n",
              "      <td>205-564-2608</td>\n",
              "      <td>https://www.target.com/sl/alabaster/2276</td>\n",
              "      <td>POINT (-86.80417 33.22423)</td>\n",
              "    </tr>\n",
              "    <tr>\n",
              "      <th>1</th>\n",
              "      <td>Bessemer</td>\n",
              "      <td>33.334550</td>\n",
              "      <td>-86.989778</td>\n",
              "      <td>4889 Promenade Pkwy, Bessemer, AL 35022-7305</td>\n",
              "      <td>205-565-3760</td>\n",
              "      <td>https://www.target.com/sl/bessemer/2375</td>\n",
              "      <td>POINT (-86.98978 33.33455)</td>\n",
              "    </tr>\n",
              "    <tr>\n",
              "      <th>2</th>\n",
              "      <td>Daphne</td>\n",
              "      <td>30.602875</td>\n",
              "      <td>-87.895932</td>\n",
              "      <td>1698 US Highway 98, Daphne, AL 36526-4252</td>\n",
              "      <td>251-621-3540</td>\n",
              "      <td>https://www.target.com/sl/daphne/1274</td>\n",
              "      <td>POINT (-87.89593 30.60287)</td>\n",
              "    </tr>\n",
              "    <tr>\n",
              "      <th>3</th>\n",
              "      <td>Decatur</td>\n",
              "      <td>34.560148</td>\n",
              "      <td>-86.971559</td>\n",
              "      <td>1235 Point Mallard Pkwy SE, Decatur, AL 35601-...</td>\n",
              "      <td>256-898-3036</td>\n",
              "      <td>https://www.target.com/sl/decatur/2084</td>\n",
              "      <td>POINT (-86.97156 34.56015)</td>\n",
              "    </tr>\n",
              "    <tr>\n",
              "      <th>4</th>\n",
              "      <td>Dothan</td>\n",
              "      <td>31.266061</td>\n",
              "      <td>-85.446422</td>\n",
              "      <td>4601 Montgomery Hwy, Dothan, AL 36303-1522</td>\n",
              "      <td>334-340-1112</td>\n",
              "      <td>https://www.target.com/sl/dothan/1468</td>\n",
              "      <td>POINT (-85.44642 31.26606)</td>\n",
              "    </tr>\n",
              "  </tbody>\n",
              "</table>\n",
              "</div>\n",
              "      <button class=\"colab-df-convert\" onclick=\"convertToInteractive('df-a981044c-d169-4198-846e-0315015fcf61')\"\n",
              "              title=\"Convert this dataframe to an interactive table.\"\n",
              "              style=\"display:none;\">\n",
              "        \n",
              "  <svg xmlns=\"http://www.w3.org/2000/svg\" height=\"24px\"viewBox=\"0 0 24 24\"\n",
              "       width=\"24px\">\n",
              "    <path d=\"M0 0h24v24H0V0z\" fill=\"none\"/>\n",
              "    <path d=\"M18.56 5.44l.94 2.06.94-2.06 2.06-.94-2.06-.94-.94-2.06-.94 2.06-2.06.94zm-11 1L8.5 8.5l.94-2.06 2.06-.94-2.06-.94L8.5 2.5l-.94 2.06-2.06.94zm10 10l.94 2.06.94-2.06 2.06-.94-2.06-.94-.94-2.06-.94 2.06-2.06.94z\"/><path d=\"M17.41 7.96l-1.37-1.37c-.4-.4-.92-.59-1.43-.59-.52 0-1.04.2-1.43.59L10.3 9.45l-7.72 7.72c-.78.78-.78 2.05 0 2.83L4 21.41c.39.39.9.59 1.41.59.51 0 1.02-.2 1.41-.59l7.78-7.78 2.81-2.81c.8-.78.8-2.07 0-2.86zM5.41 20L4 18.59l7.72-7.72 1.47 1.35L5.41 20z\"/>\n",
              "  </svg>\n",
              "      </button>\n",
              "      \n",
              "  <style>\n",
              "    .colab-df-container {\n",
              "      display:flex;\n",
              "      flex-wrap:wrap;\n",
              "      gap: 12px;\n",
              "    }\n",
              "\n",
              "    .colab-df-convert {\n",
              "      background-color: #E8F0FE;\n",
              "      border: none;\n",
              "      border-radius: 50%;\n",
              "      cursor: pointer;\n",
              "      display: none;\n",
              "      fill: #1967D2;\n",
              "      height: 32px;\n",
              "      padding: 0 0 0 0;\n",
              "      width: 32px;\n",
              "    }\n",
              "\n",
              "    .colab-df-convert:hover {\n",
              "      background-color: #E2EBFA;\n",
              "      box-shadow: 0px 1px 2px rgba(60, 64, 67, 0.3), 0px 1px 3px 1px rgba(60, 64, 67, 0.15);\n",
              "      fill: #174EA6;\n",
              "    }\n",
              "\n",
              "    [theme=dark] .colab-df-convert {\n",
              "      background-color: #3B4455;\n",
              "      fill: #D2E3FC;\n",
              "    }\n",
              "\n",
              "    [theme=dark] .colab-df-convert:hover {\n",
              "      background-color: #434B5C;\n",
              "      box-shadow: 0px 1px 3px 1px rgba(0, 0, 0, 0.15);\n",
              "      filter: drop-shadow(0px 1px 2px rgba(0, 0, 0, 0.3));\n",
              "      fill: #FFFFFF;\n",
              "    }\n",
              "  </style>\n",
              "\n",
              "      <script>\n",
              "        const buttonEl =\n",
              "          document.querySelector('#df-a981044c-d169-4198-846e-0315015fcf61 button.colab-df-convert');\n",
              "        buttonEl.style.display =\n",
              "          google.colab.kernel.accessAllowed ? 'block' : 'none';\n",
              "\n",
              "        async function convertToInteractive(key) {\n",
              "          const element = document.querySelector('#df-a981044c-d169-4198-846e-0315015fcf61');\n",
              "          const dataTable =\n",
              "            await google.colab.kernel.invokeFunction('convertToInteractive',\n",
              "                                                     [key], {});\n",
              "          if (!dataTable) return;\n",
              "\n",
              "          const docLinkHtml = 'Like what you see? Visit the ' +\n",
              "            '<a target=\"_blank\" href=https://colab.research.google.com/notebooks/data_table.ipynb>data table notebook</a>'\n",
              "            + ' to learn more about interactive tables.';\n",
              "          element.innerHTML = '';\n",
              "          dataTable['output_type'] = 'display_data';\n",
              "          await google.colab.output.renderOutput(dataTable, element);\n",
              "          const docLink = document.createElement('div');\n",
              "          docLink.innerHTML = docLinkHtml;\n",
              "          element.appendChild(docLink);\n",
              "        }\n",
              "      </script>\n",
              "    </div>\n",
              "  </div>\n",
              "  "
            ]
          },
          "metadata": {},
          "execution_count": 11
        }
      ]
    },
    {
      "cell_type": "code",
      "source": [
        "#mapa\n",
        "\n",
        "world = gpd.read_file(gpd.datasets.get_path(\"naturalearth_lowres\"))\n",
        "world = world.set_index(\"iso_a3\")\n",
        "\n",
        "world.head()"
      ],
      "metadata": {
        "colab": {
          "base_uri": "https://localhost:8080/",
          "height": 237
        },
        "id": "wB6Jkrvbfef1",
        "outputId": "18822133-a582-4f8c-bf45-9cc66344a231"
      },
      "execution_count": 12,
      "outputs": [
        {
          "output_type": "execute_result",
          "data": {
            "text/plain": [
              "          pop_est      continent                      name  gdp_md_est  \\\n",
              "iso_a3                                                                   \n",
              "FJI        920938        Oceania                      Fiji      8374.0   \n",
              "TZA      53950935         Africa                  Tanzania    150600.0   \n",
              "ESH        603253         Africa                 W. Sahara       906.5   \n",
              "CAN      35623680  North America                    Canada   1674000.0   \n",
              "USA     326625791  North America  United States of America  18560000.0   \n",
              "\n",
              "                                                 geometry  \n",
              "iso_a3                                                     \n",
              "FJI     MULTIPOLYGON (((180.00000 -16.06713, 180.00000...  \n",
              "TZA     POLYGON ((33.90371 -0.95000, 34.07262 -1.05982...  \n",
              "ESH     POLYGON ((-8.66559 27.65643, -8.66512 27.58948...  \n",
              "CAN     MULTIPOLYGON (((-122.84000 49.00000, -122.9742...  \n",
              "USA     MULTIPOLYGON (((-122.84000 49.00000, -120.0000...  "
            ],
            "text/html": [
              "\n",
              "  <div id=\"df-a08ebb5a-9155-4b64-b5ec-9cd33c2b251b\">\n",
              "    <div class=\"colab-df-container\">\n",
              "      <div>\n",
              "<style scoped>\n",
              "    .dataframe tbody tr th:only-of-type {\n",
              "        vertical-align: middle;\n",
              "    }\n",
              "\n",
              "    .dataframe tbody tr th {\n",
              "        vertical-align: top;\n",
              "    }\n",
              "\n",
              "    .dataframe thead th {\n",
              "        text-align: right;\n",
              "    }\n",
              "</style>\n",
              "<table border=\"1\" class=\"dataframe\">\n",
              "  <thead>\n",
              "    <tr style=\"text-align: right;\">\n",
              "      <th></th>\n",
              "      <th>pop_est</th>\n",
              "      <th>continent</th>\n",
              "      <th>name</th>\n",
              "      <th>gdp_md_est</th>\n",
              "      <th>geometry</th>\n",
              "    </tr>\n",
              "    <tr>\n",
              "      <th>iso_a3</th>\n",
              "      <th></th>\n",
              "      <th></th>\n",
              "      <th></th>\n",
              "      <th></th>\n",
              "      <th></th>\n",
              "    </tr>\n",
              "  </thead>\n",
              "  <tbody>\n",
              "    <tr>\n",
              "      <th>FJI</th>\n",
              "      <td>920938</td>\n",
              "      <td>Oceania</td>\n",
              "      <td>Fiji</td>\n",
              "      <td>8374.0</td>\n",
              "      <td>MULTIPOLYGON (((180.00000 -16.06713, 180.00000...</td>\n",
              "    </tr>\n",
              "    <tr>\n",
              "      <th>TZA</th>\n",
              "      <td>53950935</td>\n",
              "      <td>Africa</td>\n",
              "      <td>Tanzania</td>\n",
              "      <td>150600.0</td>\n",
              "      <td>POLYGON ((33.90371 -0.95000, 34.07262 -1.05982...</td>\n",
              "    </tr>\n",
              "    <tr>\n",
              "      <th>ESH</th>\n",
              "      <td>603253</td>\n",
              "      <td>Africa</td>\n",
              "      <td>W. Sahara</td>\n",
              "      <td>906.5</td>\n",
              "      <td>POLYGON ((-8.66559 27.65643, -8.66512 27.58948...</td>\n",
              "    </tr>\n",
              "    <tr>\n",
              "      <th>CAN</th>\n",
              "      <td>35623680</td>\n",
              "      <td>North America</td>\n",
              "      <td>Canada</td>\n",
              "      <td>1674000.0</td>\n",
              "      <td>MULTIPOLYGON (((-122.84000 49.00000, -122.9742...</td>\n",
              "    </tr>\n",
              "    <tr>\n",
              "      <th>USA</th>\n",
              "      <td>326625791</td>\n",
              "      <td>North America</td>\n",
              "      <td>United States of America</td>\n",
              "      <td>18560000.0</td>\n",
              "      <td>MULTIPOLYGON (((-122.84000 49.00000, -120.0000...</td>\n",
              "    </tr>\n",
              "  </tbody>\n",
              "</table>\n",
              "</div>\n",
              "      <button class=\"colab-df-convert\" onclick=\"convertToInteractive('df-a08ebb5a-9155-4b64-b5ec-9cd33c2b251b')\"\n",
              "              title=\"Convert this dataframe to an interactive table.\"\n",
              "              style=\"display:none;\">\n",
              "        \n",
              "  <svg xmlns=\"http://www.w3.org/2000/svg\" height=\"24px\"viewBox=\"0 0 24 24\"\n",
              "       width=\"24px\">\n",
              "    <path d=\"M0 0h24v24H0V0z\" fill=\"none\"/>\n",
              "    <path d=\"M18.56 5.44l.94 2.06.94-2.06 2.06-.94-2.06-.94-.94-2.06-.94 2.06-2.06.94zm-11 1L8.5 8.5l.94-2.06 2.06-.94-2.06-.94L8.5 2.5l-.94 2.06-2.06.94zm10 10l.94 2.06.94-2.06 2.06-.94-2.06-.94-.94-2.06-.94 2.06-2.06.94z\"/><path d=\"M17.41 7.96l-1.37-1.37c-.4-.4-.92-.59-1.43-.59-.52 0-1.04.2-1.43.59L10.3 9.45l-7.72 7.72c-.78.78-.78 2.05 0 2.83L4 21.41c.39.39.9.59 1.41.59.51 0 1.02-.2 1.41-.59l7.78-7.78 2.81-2.81c.8-.78.8-2.07 0-2.86zM5.41 20L4 18.59l7.72-7.72 1.47 1.35L5.41 20z\"/>\n",
              "  </svg>\n",
              "      </button>\n",
              "      \n",
              "  <style>\n",
              "    .colab-df-container {\n",
              "      display:flex;\n",
              "      flex-wrap:wrap;\n",
              "      gap: 12px;\n",
              "    }\n",
              "\n",
              "    .colab-df-convert {\n",
              "      background-color: #E8F0FE;\n",
              "      border: none;\n",
              "      border-radius: 50%;\n",
              "      cursor: pointer;\n",
              "      display: none;\n",
              "      fill: #1967D2;\n",
              "      height: 32px;\n",
              "      padding: 0 0 0 0;\n",
              "      width: 32px;\n",
              "    }\n",
              "\n",
              "    .colab-df-convert:hover {\n",
              "      background-color: #E2EBFA;\n",
              "      box-shadow: 0px 1px 2px rgba(60, 64, 67, 0.3), 0px 1px 3px 1px rgba(60, 64, 67, 0.15);\n",
              "      fill: #174EA6;\n",
              "    }\n",
              "\n",
              "    [theme=dark] .colab-df-convert {\n",
              "      background-color: #3B4455;\n",
              "      fill: #D2E3FC;\n",
              "    }\n",
              "\n",
              "    [theme=dark] .colab-df-convert:hover {\n",
              "      background-color: #434B5C;\n",
              "      box-shadow: 0px 1px 3px 1px rgba(0, 0, 0, 0.15);\n",
              "      filter: drop-shadow(0px 1px 2px rgba(0, 0, 0, 0.3));\n",
              "      fill: #FFFFFF;\n",
              "    }\n",
              "  </style>\n",
              "\n",
              "      <script>\n",
              "        const buttonEl =\n",
              "          document.querySelector('#df-a08ebb5a-9155-4b64-b5ec-9cd33c2b251b button.colab-df-convert');\n",
              "        buttonEl.style.display =\n",
              "          google.colab.kernel.accessAllowed ? 'block' : 'none';\n",
              "\n",
              "        async function convertToInteractive(key) {\n",
              "          const element = document.querySelector('#df-a08ebb5a-9155-4b64-b5ec-9cd33c2b251b');\n",
              "          const dataTable =\n",
              "            await google.colab.kernel.invokeFunction('convertToInteractive',\n",
              "                                                     [key], {});\n",
              "          if (!dataTable) return;\n",
              "\n",
              "          const docLinkHtml = 'Like what you see? Visit the ' +\n",
              "            '<a target=\"_blank\" href=https://colab.research.google.com/notebooks/data_table.ipynb>data table notebook</a>'\n",
              "            + ' to learn more about interactive tables.';\n",
              "          element.innerHTML = '';\n",
              "          dataTable['output_type'] = 'display_data';\n",
              "          await google.colab.output.renderOutput(dataTable, element);\n",
              "          const docLink = document.createElement('div');\n",
              "          docLink.innerHTML = docLinkHtml;\n",
              "          element.appendChild(docLink);\n",
              "        }\n",
              "      </script>\n",
              "    </div>\n",
              "  </div>\n",
              "  "
            ]
          },
          "metadata": {},
          "execution_count": 12
        }
      ]
    },
    {
      "cell_type": "code",
      "source": [
        "#graficar el mapa\n",
        "world.name.unique()"
      ],
      "metadata": {
        "colab": {
          "base_uri": "https://localhost:8080/"
        },
        "id": "0qkBCMSUflw_",
        "outputId": "3f4f3d9d-9b63-4637-fad1-7cff8bde84a2"
      },
      "execution_count": 13,
      "outputs": [
        {
          "output_type": "execute_result",
          "data": {
            "text/plain": [
              "array(['Fiji', 'Tanzania', 'W. Sahara', 'Canada',\n",
              "       'United States of America', 'Kazakhstan', 'Uzbekistan',\n",
              "       'Papua New Guinea', 'Indonesia', 'Argentina', 'Chile',\n",
              "       'Dem. Rep. Congo', 'Somalia', 'Kenya', 'Sudan', 'Chad', 'Haiti',\n",
              "       'Dominican Rep.', 'Russia', 'Bahamas', 'Falkland Is.', 'Norway',\n",
              "       'Greenland', 'Fr. S. Antarctic Lands', 'Timor-Leste',\n",
              "       'South Africa', 'Lesotho', 'Mexico', 'Uruguay', 'Brazil',\n",
              "       'Bolivia', 'Peru', 'Colombia', 'Panama', 'Costa Rica', 'Nicaragua',\n",
              "       'Honduras', 'El Salvador', 'Guatemala', 'Belize', 'Venezuela',\n",
              "       'Guyana', 'Suriname', 'France', 'Ecuador', 'Puerto Rico',\n",
              "       'Jamaica', 'Cuba', 'Zimbabwe', 'Botswana', 'Namibia', 'Senegal',\n",
              "       'Mali', 'Mauritania', 'Benin', 'Niger', 'Nigeria', 'Cameroon',\n",
              "       'Togo', 'Ghana', \"Côte d'Ivoire\", 'Guinea', 'Guinea-Bissau',\n",
              "       'Liberia', 'Sierra Leone', 'Burkina Faso', 'Central African Rep.',\n",
              "       'Congo', 'Gabon', 'Eq. Guinea', 'Zambia', 'Malawi', 'Mozambique',\n",
              "       'eSwatini', 'Angola', 'Burundi', 'Israel', 'Lebanon', 'Madagascar',\n",
              "       'Palestine', 'Gambia', 'Tunisia', 'Algeria', 'Jordan',\n",
              "       'United Arab Emirates', 'Qatar', 'Kuwait', 'Iraq', 'Oman',\n",
              "       'Vanuatu', 'Cambodia', 'Thailand', 'Laos', 'Myanmar', 'Vietnam',\n",
              "       'North Korea', 'South Korea', 'Mongolia', 'India', 'Bangladesh',\n",
              "       'Bhutan', 'Nepal', 'Pakistan', 'Afghanistan', 'Tajikistan',\n",
              "       'Kyrgyzstan', 'Turkmenistan', 'Iran', 'Syria', 'Armenia', 'Sweden',\n",
              "       'Belarus', 'Ukraine', 'Poland', 'Austria', 'Hungary', 'Moldova',\n",
              "       'Romania', 'Lithuania', 'Latvia', 'Estonia', 'Germany', 'Bulgaria',\n",
              "       'Greece', 'Turkey', 'Albania', 'Croatia', 'Switzerland',\n",
              "       'Luxembourg', 'Belgium', 'Netherlands', 'Portugal', 'Spain',\n",
              "       'Ireland', 'New Caledonia', 'Solomon Is.', 'New Zealand',\n",
              "       'Australia', 'Sri Lanka', 'China', 'Taiwan', 'Italy', 'Denmark',\n",
              "       'United Kingdom', 'Iceland', 'Azerbaijan', 'Georgia',\n",
              "       'Philippines', 'Malaysia', 'Brunei', 'Slovenia', 'Finland',\n",
              "       'Slovakia', 'Czechia', 'Eritrea', 'Japan', 'Paraguay', 'Yemen',\n",
              "       'Saudi Arabia', 'Antarctica', 'N. Cyprus', 'Cyprus', 'Morocco',\n",
              "       'Egypt', 'Libya', 'Ethiopia', 'Djibouti', 'Somaliland', 'Uganda',\n",
              "       'Rwanda', 'Bosnia and Herz.', 'Macedonia', 'Serbia', 'Montenegro',\n",
              "       'Kosovo', 'Trinidad and Tobago', 'S. Sudan'], dtype=object)"
            ]
          },
          "metadata": {},
          "execution_count": 13
        }
      ]
    },
    {
      "cell_type": "code",
      "source": [
        "fig, gax = plt.subplots(figsize=(10,10))\n",
        "\n",
        "# By only plotting rows in which the continent is 'South America' we only plot SA.\n",
        "world.query(\"name == 'United States of America'\").plot(ax=gax, edgecolor='black',color='white')\n",
        "\n",
        "# By the way, if you haven't read the book 'longitude' by Dava Sobel, you should...\n",
        "gax.set_xlabel('longitude')\n",
        "gax.set_ylabel('latitude')\n",
        "\n",
        "gax.spines['top'].set_visible(False)\n",
        "gax.spines['right'].set_visible(False)"
      ],
      "metadata": {
        "colab": {
          "base_uri": "https://localhost:8080/",
          "height": 476
        },
        "id": "swDogh7dfusl",
        "outputId": "48ce1745-6d83-4cf1-9844-7f67656485c6"
      },
      "execution_count": 14,
      "outputs": [
        {
          "output_type": "display_data",
          "data": {
            "text/plain": [
              "<Figure size 720x720 with 1 Axes>"
            ],
            "image/png": "[encoded data removed]"
          },
          "metadata": {}
        }
      ]
    },
    {
      "cell_type": "code",
      "source": [
        "# Step 3: Plot the cities onto the map\n",
        "# We mostly use the code from before --- we still want the country borders plotted --- and we\n",
        "# add a command to plot the cities\n",
        "fig, gax = plt.subplots(figsize=(10,10))\n",
        "\n",
        "# By only plotting rows in which the continent is 'South America' we only plot, well,\n",
        "# South America.\n",
        "world.query(\"name == 'United States of America'\").plot(ax = gax, edgecolor='black', color='white')\n",
        "\n",
        "# This plot the cities. It's the same syntax, but we are plotting from a different GeoDataFrame.\n",
        "# I want the cities as pale red dots.\n",
        "gdf.plot(ax=gax, color='red', alpha = 0.5)\n",
        "\n",
        "gax.set_xlabel('longitude')\n",
        "gax.set_ylabel('latitude')\n",
        "gax.set_title('Target en Estados Unidos')\n",
        "\n",
        "gax.spines['top'].set_visible(False)\n",
        "gax.spines['right'].set_visible(False)\n",
        "\n",
        "plt.show()"
      ],
      "metadata": {
        "colab": {
          "base_uri": "https://localhost:8080/",
          "height": 381
        },
        "id": "OR0ydTOvf_Xp",
        "outputId": "57eeac12-479d-4b87-b2c4-8a1dbd131109"
      },
      "execution_count": 15,
      "outputs": [
        {
          "output_type": "display_data",
          "data": {
            "text/plain": [
              "<Figure size 720x720 with 1 Axes>"
            ],
            "image/png": "[encoded data removed]"
          },
          "metadata": {}
        }
      ]
    },
    {
      "cell_type": "markdown",
      "source": [
        "¿qué tal ahora?, tiene mayor sentido verdad, entonces los datos lejanos no eran atípicos, de aquí la importancia de ver los datos con el tipo de gráfica correcta.\n",
        "\n",
        "Ahora sí, implementa K means a los datos de latitud y longitud :) y encuentra donde colocar los almacenes. \n",
        "\n",
        "Nota: si te llama la atención implementar alguna otra visualización con otra librería, lo puedes hacer, no hay restricciones."
      ],
      "metadata": {
        "id": "SMkonhsqfgSf"
      }
    },
    {
      "cell_type": "markdown",
      "source": [
        "### Encuentra las latitudes y longitudes de los almacenes, ¿que ciudad es?, ¿a cuantas tiendas va surtir?, ¿sabes a que distancia estara?"
      ],
      "metadata": {
        "id": "IBGQG1Q_LWc6"
      }
    },
    {
      "cell_type": "code",
      "source": [
        "from sklearn.cluster import KMeans"
      ],
      "metadata": {
        "id": "IfXq2ieSgD2e"
      },
      "execution_count": 154,
      "outputs": []
    },
    {
      "cell_type": "markdown",
      "source": [
        "Para determinar cuantas tiendas va a surtir cada almacene, podemos evaluar la distancia mínima promedio entre la cantidad de tiendas y la cantidad de almacenes. "
      ],
      "metadata": {
        "id": "6F2kcAlRcxJ6"
      }
    },
    {
      "cell_type": "code",
      "source": [
        "from sklearn.externals._packaging.version import Infinity\n",
        "import math"
      ],
      "metadata": {
        "id": "DG6T4BVFRhLz"
      },
      "execution_count": 149,
      "outputs": []
    },
    {
      "cell_type": "markdown",
      "source": [
        "Generamos una función para determinar la distancia mínima promedio en base a la cantidad de tiendas y un numero N de almacenes: "
      ],
      "metadata": {
        "id": "jR0V5nA5dMFa"
      }
    },
    {
      "cell_type": "code",
      "source": [
        "def avg_distance(warehouse_locations, historic_deliveries):\n",
        "  sum = 0\n",
        "  x = 0\n",
        "  for x in range(0,len(historic_deliveries)):\n",
        "    min_dist = Infinity\n",
        "    w = 0\n",
        "    for w in range(0,len(warehouse_locations)):\n",
        "      x1 = historic_deliveries[x][1]\n",
        "      x2 = warehouse_locations[w][1]\n",
        "      y1 = historic_deliveries[x][0]\n",
        "      y2 = warehouse_locations[w][0]\n",
        "      dist = math.hypot(x2 - x1, y2 - y1)\n",
        "      if dist < min_dist: \n",
        "        min_dist = dist\n",
        "      w = w + 1\n",
        "    sum += min_dist\n",
        "    x = x + 1\n",
        "  return sum/len(historic_deliveries)"
      ],
      "metadata": {
        "id": "-_UNbTBaQ4DT"
      },
      "execution_count": 150,
      "outputs": []
    },
    {
      "cell_type": "markdown",
      "source": [
        "Iteramos de almacenes = 1 a 37, donde 37 equivale a la (cantidad de tiendas)/50, siendo 50 un numero arbitrario de máximo 50 tiendas por almacén:"
      ],
      "metadata": {
        "id": "-DV7RQxUdUAK"
      }
    },
    {
      "cell_type": "code",
      "source": [
        "deliveries = list(zip(gdf.longitude, df.latitude))\n",
        "N_max = 37\n",
        "\n",
        "avgdist = list()\n",
        "\n",
        "for N in range(1,N_max):\n",
        "  kmeans = KMeans(n_clusters=N)\n",
        "  kmeans.fit(deliveries)\n",
        "  avgdist.append([N, avg_distance(deliveries,kmeans.cluster_centers_)])"
      ],
      "metadata": {
        "id": "F9t4KdkqRip6"
      },
      "execution_count": 151,
      "outputs": []
    },
    {
      "cell_type": "markdown",
      "source": [
        "Graficamos la cantidad de almacenes vs la distancia promedio mínima entre cada uno para visualizar que sucede (donde distancia esta en la magnitud de latitud y longitud):"
      ],
      "metadata": {
        "id": "7mY1pCjad2p6"
      }
    },
    {
      "cell_type": "code",
      "source": [
        "plt.plot(pd.DataFrame(avgdist)[0], pd.DataFrame(avgdist)[1], '-o')\n",
        "plt.xlabel('N almacenes')\n",
        "plt.ylabel('Distancia promedio mínima')\n",
        "plt.show()"
      ],
      "metadata": {
        "colab": {
          "base_uri": "https://localhost:8080/",
          "height": 304
        },
        "id": "peQ924owXJR-",
        "outputId": "6c5b9f80-9e4d-4908-e925-b57ab875b08b"
      },
      "execution_count": 152,
      "outputs": [
        {
          "output_type": "display_data",
          "data": {
            "text/plain": [
              "<Figure size 432x288 with 1 Axes>"
            ],
            "image/png": "[encoded data removed]"
          },
          "metadata": {}
        }
      ]
    },
    {
      "cell_type": "markdown",
      "source": [
        "Y ahora buscamos la distancia mínima, y el numero de almacenes que la otorga:"
      ],
      "metadata": {
        "id": "tn_c8WjRePgy"
      }
    },
    {
      "cell_type": "code",
      "source": [
        "pd.DataFrame(avgdist)[1].idxmin()\n",
        "print(pd.DataFrame(avgdist)[1].min())\n",
        "avgdist[30]"
      ],
      "metadata": {
        "colab": {
          "base_uri": "https://localhost:8080/"
        },
        "id": "QFGypO--YhPC",
        "outputId": "53e88d19-6431-4cd5-e3c3-6f3e8f5361f8"
      },
      "execution_count": 153,
      "outputs": [
        {
          "output_type": "stream",
          "name": "stdout",
          "text": [
            "0.2910833483270338\n"
          ]
        },
        {
          "output_type": "execute_result",
          "data": {
            "text/plain": [
              "[31, 0.32008657358421716]"
            ]
          },
          "metadata": {},
          "execution_count": 153
        }
      ]
    },
    {
      "cell_type": "markdown",
      "source": [
        "Donde encontramos que equivale a 31 almacenes."
      ],
      "metadata": {
        "id": "b9a-jKsfeVLq"
      }
    },
    {
      "cell_type": "markdown",
      "source": [
        "Obtenemos la longitud y latitud de la GeoDataFrame:"
      ],
      "metadata": {
        "id": "XT9RInNOmzHR"
      }
    },
    {
      "cell_type": "code",
      "source": [
        "X = list(zip(gdf.longitude, df.latitude))"
      ],
      "metadata": {
        "id": "3o_N1iFzGPX7"
      },
      "execution_count": 155,
      "outputs": []
    },
    {
      "cell_type": "markdown",
      "source": [
        "Aplicamos el método de KMean y encontramos los centros. Aplicamos un total de 31 almacenes."
      ],
      "metadata": {
        "id": "iqwpnJMUKlZJ"
      }
    },
    {
      "cell_type": "code",
      "source": [
        "kmeans = KMeans(n_clusters=31)\n",
        "kmeans.fit(X)\n",
        "y_kmeans = kmeans.predict(X)\n",
        "centers = kmeans.cluster_centers_"
      ],
      "metadata": {
        "id": "U8QvhIQXFUtT"
      },
      "execution_count": 160,
      "outputs": []
    },
    {
      "cell_type": "markdown",
      "source": [
        "Lo graficamos, donde los puntos rojos son las tiendas, y los negros los almacenes sugeridos:"
      ],
      "metadata": {
        "id": "2dBHj6UdK2ca"
      }
    },
    {
      "cell_type": "code",
      "source": [
        "fig, gax = plt.subplots(figsize=(10,10))\n",
        "\n",
        "world.query(\"name == 'United States of America'\").plot(ax = gax, edgecolor='black', color='white')\n",
        "\n",
        "gdf.plot(ax=gax, color='red', alpha = 0.5)\n",
        "plt.scatter(centers[:, 0], centers[:, 1], c='black', s=100, alpha=0.5)\n",
        "\n",
        "gax.set_xlabel('longitude')\n",
        "gax.set_ylabel('latitude')\n",
        "gax.set_title('Target en Estados Unidos')\n",
        "\n",
        "gax.spines['top'].set_visible(False)\n",
        "gax.spines['right'].set_visible(False)\n",
        "\n",
        "plt.show()"
      ],
      "metadata": {
        "colab": {
          "base_uri": "https://localhost:8080/",
          "height": 381
        },
        "id": "sEf_h4-hHFty",
        "outputId": "21968176-5215-438b-813a-3cb766569057"
      },
      "execution_count": 161,
      "outputs": [
        {
          "output_type": "display_data",
          "data": {
            "text/plain": [
              "<Figure size 720x720 with 1 Axes>"
            ],
            "image/png": "[encoded data removed]"
          },
          "metadata": {}
        }
      ]
    },
    {
      "cell_type": "markdown",
      "source": [
        "* Longitudes y latitudes de los 31 almacenes:"
      ],
      "metadata": {
        "id": "S_bAqOPJKYpJ"
      }
    },
    {
      "cell_type": "code",
      "source": [
        "centers"
      ],
      "metadata": {
        "colab": {
          "base_uri": "https://localhost:8080/"
        },
        "id": "_B_mNdpdKYDx",
        "outputId": "5fe04540-714a-4de4-94e2-2bf7e35ff167"
      },
      "execution_count": 163,
      "outputs": [
        {
          "output_type": "execute_result",
          "data": {
            "text/plain": [
              "array([[ -83.9662204 ,   42.48145459],\n",
              "       [-115.03891264,   36.12693118],\n",
              "       [ -77.04333526,   38.70727196],\n",
              "       [ -96.84880328,   33.52485093],\n",
              "       [ -85.12947111,   34.25802251],\n",
              "       [-157.31225085,   20.94542771],\n",
              "       [ -92.38686463,   41.93068222],\n",
              "       [-121.93185618,   46.54298065],\n",
              "       [-105.02271902,   39.85420357],\n",
              "       [ -80.593065  ,   26.29592882],\n",
              "       [-121.51443659,   37.87657742],\n",
              "       [-149.6767927 ,   61.31264473],\n",
              "       [ -91.1522204 ,   36.99292129],\n",
              "       [ -77.41151783,   42.69677394],\n",
              "       [-117.84085912,   33.8302684 ],\n",
              "       [ -80.03401758,   35.22009072],\n",
              "       [ -89.07457659,   30.58992039],\n",
              "       [ -85.47192984,   39.05484479],\n",
              "       [ -98.13783228,   29.35398543],\n",
              "       [ -93.26986773,   45.07410458],\n",
              "       [-111.84821456,   33.29453293],\n",
              "       [-112.32301811,   42.82295277],\n",
              "       [ -88.0564008 ,   42.22483348],\n",
              "       [ -71.53160621,   42.44550077],\n",
              "       [ -81.3801291 ,   40.51477139],\n",
              "       [ -95.67731735,   39.63662513],\n",
              "       [ -81.91545263,   28.8384727 ],\n",
              "       [-105.30253119,   33.81009931],\n",
              "       [ -95.23355803,   30.02808303],\n",
              "       [ -74.35862891,   40.62282554],\n",
              "       [ -97.96724902,   46.00248826]])"
            ]
          },
          "metadata": {},
          "execution_count": 163
        }
      ]
    },
    {
      "cell_type": "markdown",
      "source": [
        "* ¿Que ciudad es?"
      ],
      "metadata": {
        "id": "P_5yKWaaLh05"
      }
    },
    {
      "cell_type": "code",
      "source": [
        "from geopy.geocoders import Nominatim"
      ],
      "metadata": {
        "id": "mcqa4CAJLltR"
      },
      "execution_count": 164,
      "outputs": []
    },
    {
      "cell_type": "code",
      "source": [
        "geolocator = Nominatim(user_agent=\"geoapiExercises\")"
      ],
      "metadata": {
        "id": "hwNutX_pLqQJ"
      },
      "execution_count": 167,
      "outputs": []
    },
    {
      "cell_type": "code",
      "source": [
        "indx = 0\n",
        "for warehouse in centers:\n",
        "  Latitude = warehouse[1]\n",
        "  Longitude = warehouse[0]\n",
        "  location = geolocator.reverse(str(Latitude)+','+str(Longitude))\n",
        "  address = location.raw['address']\n",
        "  city = address.get('city')\n",
        "  state = address.get('state')\n",
        "  country = address.get('country')\n",
        "  zipcode = address.get('postcode')\n",
        "  print(indx, ')', 'City:', city, 'State:', state, 'Country:', country, 'Zip Code:', zipcode, 'Coordinates:', Latitude,',',Longitude)\n",
        "  indx = indx + 1"
      ],
      "metadata": {
        "colab": {
          "base_uri": "https://localhost:8080/"
        },
        "id": "Zr8HqKFdNuFj",
        "outputId": "fdb737ae-ef55-49f5-872b-e39fc857cdf3"
      },
      "execution_count": 168,
      "outputs": [
        {
          "output_type": "stream",
          "name": "stdout",
          "text": [
            "0 ) City: None State: Michigan Country: United States Zip Code: 48169 Coordinates: 42.481454589830506 , -83.96622040338983\n",
            "1 ) City: None State: Nevada Country: United States Zip Code: 89122 Coordinates: 36.12693117647059 , -115.03891263529411\n",
            "2 ) City: None State: Maryland Country: United States Zip Code: 20607 Coordinates: 38.70727195535714 , -77.04333525892856\n",
            "3 ) City: None State: Texas Country: United States Zip Code: None Coordinates: 33.524850934722224 , -96.84880328055556\n",
            "4 ) City: None State: Georgia Country: United States Zip Code: 30161 Coordinates: 34.25802250588235 , -85.12947111294118\n",
            "5 ) City: None State: None Country: United States Zip Code: None Coordinates: 20.945427712500003 , -157.31225085\n",
            "6 ) City: None State: Iowa Country: United States Zip Code: 52348 Coordinates: 41.930682218181815 , -92.38686462727273\n",
            "7 ) City: None State: Washington Country: United States Zip Code: None Coordinates: 46.5429806453125 , -121.93185618437501\n",
            "8 ) City: Westminster State: Colorado Country: United States Zip Code: 80031 Coordinates: 39.854203572 , -105.022719016\n",
            "9 ) City: None State: Florida Country: United States Zip Code: None Coordinates: 26.295928821739125 , -80.59306500434782\n",
            "10 ) City: None State: California Country: United States Zip Code: None Coordinates: 37.8765774225 , -121.51443659124999\n",
            "11 ) City: None State: Alaska Country: United States Zip Code: None Coordinates: 61.31264473333333 , -149.6767927\n",
            "12 ) City: None State: Missouri Country: United States Zip Code: 63941 Coordinates: 36.99292128867924 , -91.1522203981132\n",
            "13 ) City: None State: New York Country: United States Zip Code: None Coordinates: 42.69677393571428 , -77.41151782857142\n",
            "14 ) City: Orange State: California Country: United States Zip Code: 92865 Coordinates: 33.830268403252035 , -117.84085911707318\n",
            "15 ) City: None State: North Carolina Country: United States Zip Code: 27306 Coordinates: 35.22009072 , -80.03401758\n",
            "16 ) City: None State: Mississippi Country: United States Zip Code: 39574 Coordinates: 30.589920389285716 , -89.07457658928571\n",
            "17 ) City: None State: Indiana Country: United States Zip Code: 47223 Coordinates: 39.05484478653846 , -85.47192983653846\n",
            "18 ) City: None State: Texas Country: United States Zip Code: 78121 Coordinates: 29.353985426666668 , -98.13783228444444\n",
            "19 ) City: None State: Minnesota Country: United States Zip Code: 55421 Coordinates: 45.07410457733333 , -93.26986772933333\n",
            "20 ) City: Chandler State: Arizona Country: United States Zip Code: 85224 Coordinates: 33.29453293333333 , -111.84821455555554\n",
            "21 ) City: None State: Idaho Country: United States Zip Code: None Coordinates: 42.82295276666667 , -112.32301811481481\n",
            "22 ) City: None State: Illinois Country: United States Zip Code: 60047 Coordinates: 42.22483348088235 , -88.05640079558823\n",
            "23 ) City: None State: Massachusetts Country: United States Zip Code: 01775 Coordinates: 42.445500774418605 , -71.5316062116279\n",
            "24 ) City: None State: Ohio Country: United States Zip Code: 44663 Coordinates: 40.51477139459459 , -81.3801291027027\n",
            "25 ) City: None State: Kansas Country: United States Zip Code: None Coordinates: 39.636625127906974 , -95.67731734651163\n",
            "26 ) City: None State: Florida Country: United States Zip Code: 34748 Coordinates: 28.838472697368417 , -81.91545262894736\n",
            "27 ) City: None State: New Mexico Country: United States Zip Code: None Coordinates: 33.81009930526316 , -105.30253118947368\n",
            "28 ) City: Houston State: Texas Country: United States Zip Code: 77339 Coordinates: 30.028083029166666 , -95.23355802708333\n",
            "29 ) City: None State: New Jersey Country: United States Zip Code: 07076 Coordinates: 40.62282554137931 , -74.35862890574711\n",
            "30 ) City: None State: North Dakota Country: United States Zip Code: 58017 Coordinates: 46.00248825555555 , -97.96724902222222\n"
          ]
        }
      ]
    },
    {
      "cell_type": "markdown",
      "source": [
        "Donde podemos ver que muchos almacenes quedan fuera de ciudades, pero para fines el ejercicio, nos arroja en que estado estan"
      ],
      "metadata": {
        "id": "bKRsikUuPKtm"
      }
    },
    {
      "cell_type": "markdown",
      "source": [
        "* ¿A cuantas tiendas va surtir?"
      ],
      "metadata": {
        "id": "JbryjGf3PQai"
      }
    },
    {
      "cell_type": "code",
      "source": [
        "len(gdf)/31"
      ],
      "metadata": {
        "colab": {
          "base_uri": "https://localhost:8080/"
        },
        "id": "PwbH877PgjHr",
        "outputId": "c93826aa-b33f-412f-d864-bb0e66fec162"
      },
      "execution_count": 169,
      "outputs": [
        {
          "output_type": "execute_result",
          "data": {
            "text/plain": [
              "59.32258064516129"
            ]
          },
          "metadata": {},
          "execution_count": 169
        }
      ]
    },
    {
      "cell_type": "markdown",
      "source": [
        "A un total de 59-60 tiendas cada almacen."
      ],
      "metadata": {
        "id": "K_NQhHMeiawy"
      }
    },
    {
      "cell_type": "markdown",
      "source": [
        "### ¿Cómo elegiste el numero de almacenes?, justifica tu respuesta tecnicamente?"
      ],
      "metadata": {
        "id": "Y2vXs_Y8ez4D"
      }
    },
    {
      "cell_type": "markdown",
      "source": [
        "Se decidió en base a la menor distancia promedio que generaba tener N cantidad de almacenes. En punto anterior se explica el procedimiento. Pero en resumen, se trata de calcular la distancia minima promedio, para que así el costo de transportar productos, sea el mínimo. Distancia se traduce en horas hombre, en combustible, etc. "
      ],
      "metadata": {
        "id": "uJZCnzsPjNuw"
      }
    },
    {
      "cell_type": "markdown",
      "source": [
        "### Adicionalmente, en el notebook notaras que al inicio exploramos los datos y los graficamos de manera simple, despues nos auxiliamos de una librería de datos geograficos.\n",
        "### ¿Qué librerías nos pueden ayudar a graficar este tipo de datos?"
      ],
      "metadata": {
        "id": "hcZHBME7kJkq"
      }
    },
    {
      "cell_type": "markdown",
      "source": [
        "Algunos posibles ejemplos son:\n",
        "1. Arcpy\n",
        "2. Geopandas\n",
        "3. GDAL/OGR\n",
        "4. RSGISLib\n",
        "5. PyProj\n",
        "6. ReportLab\n",
        "7. ipyleaflet\n",
        "8. Folium\n",
        "9. Geemap\n",
        "10. LiDAR"
      ],
      "metadata": {
        "id": "6XcZV-LckROZ"
      }
    },
    {
      "cell_type": "markdown",
      "source": [
        "### ¿Consideras importante que se grafique en un mapa?, ¿por qué?"
      ],
      "metadata": {
        "id": "METKYJEZlYd5"
      }
    },
    {
      "cell_type": "markdown",
      "source": [
        "Si, si lo considero importante. Poder visualizar ayuda tremendamente a comprender cualquier tipo de datos. Incluidos datos con referencias geográficas. Teniendo mejor comprensión de los datos, se pueden tomar mejores decisiones. Así como conocer el posible impacto de ellas. "
      ],
      "metadata": {
        "id": "Xd5LKwSMldmZ"
      }
    },
    {
      "cell_type": "markdown",
      "source": [
        "### Agrega las conclusiones"
      ],
      "metadata": {
        "id": "WPqBx4TNly6C"
      }
    },
    {
      "cell_type": "markdown",
      "source": [
        "Este ejercicio fue bastante clarificador. Se vio el tema de KMeans, así como visualización de datos en mapas. KMeans es un algoritmo de clustering que computa centroides iterando hasta encontrar su centroide optimo. Verlo en un caso aplicado ayudo bastante a su comprensión. Así mismo, ver ejemplos de como graficar mapas, y ubicar puntos en ellos es definitivamente conocimiento muy útil. \n",
        "\n",
        "Buscar la cantidad optima de almacenes para la cantidad y posición de tiendas de target puede tener diferentes criterios. Pero en este caso se busco que fuera la distancia promedio mínima entre los almacenes y las tiendas. Obteniendo así para este caso, un total de 31 almacenes. \n"
      ],
      "metadata": {
        "id": "Ihc0OTitl1Qq"
      }
    },
    {
      "cell_type": "markdown",
      "source": [
        "Referencias:\n",
        "* Satyam, K. (2022, May 31). Get the city, state, and country names from latitude and longitude using Python. Retrieved from Geeks for Geeks: https://www.geeksforgeeks.org/get-the-city-state-and-country-names-from-latitude-and-longitude-using-python/\n",
        "* Trencseni, M. (2018, September 26). Warehouse locations with k-means. Retrieved from Bytepawn: https://bytepawn.com/warehouse-locations-with-kmeans.html\n",
        "\n"
      ],
      "metadata": {
        "id": "1t7hZfP3m9Px"
      }
    }
  ]
}